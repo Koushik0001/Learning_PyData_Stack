{
 "cells": [
  {
   "cell_type": "markdown",
   "id": "f1a5bfd1-fd2d-4a6e-a7e7-b6b864872d85",
   "metadata": {},
   "source": [
    "# <u>Comparisons, Masks, and Boolean Logic</u>"
   ]
  },
  {
   "cell_type": "code",
   "execution_count": 1,
   "id": "d9facf6e-ceb9-4ce7-813b-0f5f5428a30f",
   "metadata": {},
   "outputs": [],
   "source": [
    "import numpy as np"
   ]
  },
  {
   "cell_type": "markdown",
   "id": "7a5d507c-aba5-4aa7-86c2-7df209a12b25",
   "metadata": {},
   "source": [
    "## Example: Counting Rainy Days"
   ]
  },
  {
   "cell_type": "markdown",
   "id": "4363fab0-1cf5-4434-b7c5-3e9bf93789e1",
   "metadata": {},
   "source": [
    "## Comparison Operators as Ufuncs"
   ]
  },
  {
   "cell_type": "code",
   "execution_count": 9,
   "id": "8244c551-0e82-4307-b1a4-7a231e86d406",
   "metadata": {},
   "outputs": [
    {
     "name": "stdout",
     "output_type": "stream",
     "text": [
      "[ True  True False False False]\n",
      "[False False False  True  True]\n",
      "[ True  True  True False False]\n",
      "[False False  True  True  True]\n",
      "[ True  True False  True  True]\n",
      "[False False  True False False]\n"
     ]
    }
   ],
   "source": [
    "x = np.array([1, 2, 3, 4, 5])\n",
    "print(x < 3)\n",
    "print(x > 3)\n",
    "print(x <= 3)\n",
    "print(x >= 3)\n",
    "print(x != 3)\n",
    "print(x == 3)"
   ]
  },
  {
   "cell_type": "code",
   "execution_count": 10,
   "id": "9e7cbd47-1eef-484f-a852-d2812c0893fc",
   "metadata": {},
   "outputs": [
    {
     "data": {
      "text/plain": [
       "array([False,  True, False, False, False])"
      ]
     },
     "execution_count": 10,
     "metadata": {},
     "output_type": "execute_result"
    }
   ],
   "source": [
    "# It is also possible to do an element-wise comparison of two arrays, and to include compound expressions\n",
    "\n",
    "(2*x)==(x**2)"
   ]
  },
  {
   "cell_type": "code",
   "execution_count": 13,
   "id": "e65933fd-3931-4a30-a86e-f94c0592e303",
   "metadata": {},
   "outputs": [
    {
     "data": {
      "text/plain": [
       "array([[9, 4, 0, 3],\n",
       "       [8, 6, 3, 1],\n",
       "       [3, 7, 4, 0]])"
      ]
     },
     "execution_count": 13,
     "metadata": {},
     "output_type": "execute_result"
    }
   ],
   "source": [
    "rag = np.random.default_rng(seed=1701)\n",
    "x = rag.integers(10, size=(3,4))\n",
    "x"
   ]
  },
  {
   "cell_type": "code",
   "execution_count": 14,
   "id": "d6bb531a-dd31-4ab4-8f7d-1222e580027b",
   "metadata": {},
   "outputs": [
    {
     "data": {
      "text/plain": [
       "array([[False,  True,  True,  True],\n",
       "       [False, False,  True,  True],\n",
       "       [ True, False,  True,  True]])"
      ]
     },
     "execution_count": 14,
     "metadata": {},
     "output_type": "execute_result"
    }
   ],
   "source": [
    "x < 6"
   ]
  },
  {
   "cell_type": "markdown",
   "id": "5e762f46-0a29-41ab-8fdc-8af9e4a1a038",
   "metadata": {},
   "source": [
    "## Working with Boolean Arrays"
   ]
  },
  {
   "cell_type": "code",
   "execution_count": 15,
   "id": "004686b4-08e4-4027-b262-207eeeceeebd",
   "metadata": {},
   "outputs": [
    {
     "name": "stdout",
     "output_type": "stream",
     "text": [
      "[[9 4 0 3]\n",
      " [8 6 3 1]\n",
      " [3 7 4 0]]\n"
     ]
    }
   ],
   "source": [
    "print(x)"
   ]
  },
  {
   "cell_type": "markdown",
   "id": "a04fd731-e4b8-4e27-94a0-ca8845b8c9e0",
   "metadata": {},
   "source": [
    "### Counting Entries"
   ]
  },
  {
   "cell_type": "raw",
   "id": "0ea24747-2641-4aad-b8b6-478241afcbac",
   "metadata": {},
   "source": [
    "To count the number of True entries in a Boolean array, np.count_nonzero is useful\n",
    "False is interpreted as 0, and True is interpreted as 1"
   ]
  },
  {
   "cell_type": "code",
   "execution_count": 16,
   "id": "e4eb9da5-7159-4a79-8da1-35a3b58057f7",
   "metadata": {},
   "outputs": [
    {
     "data": {
      "text/plain": [
       "8"
      ]
     },
     "execution_count": 16,
     "metadata": {},
     "output_type": "execute_result"
    }
   ],
   "source": [
    "# how many values less than 6? \n",
    "np.count_nonzero(x < 6)"
   ]
  },
  {
   "cell_type": "code",
   "execution_count": 17,
   "id": "72ef787f-aac8-4653-8773-007f26b34daa",
   "metadata": {},
   "outputs": [
    {
     "data": {
      "text/plain": [
       "8"
      ]
     },
     "execution_count": 17,
     "metadata": {},
     "output_type": "execute_result"
    }
   ],
   "source": [
    "np.sum(x < 6)"
   ]
  },
  {
   "cell_type": "raw",
   "id": "7586d123-cabb-4557-a247-5f7aadf03c7a",
   "metadata": {},
   "source": [
    "The benefit of np.sum is that, like with other NumPy aggregation functions, this sum‐ mation can be done along rows or columns as well"
   ]
  },
  {
   "cell_type": "code",
   "execution_count": 18,
   "id": "37b1278f-fd10-4370-b9c4-f2fd68b0c76d",
   "metadata": {},
   "outputs": [
    {
     "data": {
      "text/plain": [
       "array([3, 2, 3])"
      ]
     },
     "execution_count": 18,
     "metadata": {},
     "output_type": "execute_result"
    }
   ],
   "source": [
    "# how many values less than 6 in each row?\n",
    "np.sum(x < 6, axis=1)"
   ]
  },
  {
   "cell_type": "raw",
   "id": "d415101c-87d1-41f6-bac0-3336db6b1969",
   "metadata": {},
   "source": [
    "If we’re interested in quickly checking whether any or all the values are True, we can use (you guessed it) np.any or np.all"
   ]
  },
  {
   "cell_type": "code",
   "execution_count": 19,
   "id": "34d87e59-30a5-401c-9e94-c4f3349d8784",
   "metadata": {},
   "outputs": [
    {
     "data": {
      "text/plain": [
       "True"
      ]
     },
     "execution_count": 19,
     "metadata": {},
     "output_type": "execute_result"
    }
   ],
   "source": [
    "# are there any values greater than 8?\n",
    "np.any(x > 8)"
   ]
  },
  {
   "cell_type": "code",
   "execution_count": 20,
   "id": "d990d16a-5c92-4a3f-b084-f073c9333492",
   "metadata": {},
   "outputs": [
    {
     "data": {
      "text/plain": [
       "False"
      ]
     },
     "execution_count": 20,
     "metadata": {},
     "output_type": "execute_result"
    }
   ],
   "source": [
    "# are there any values less than zero? \n",
    "np.any(x < 0)"
   ]
  },
  {
   "cell_type": "code",
   "execution_count": 21,
   "id": "b0b7555d-3890-4944-bc89-803a9fe2d0c9",
   "metadata": {},
   "outputs": [
    {
     "data": {
      "text/plain": [
       "True"
      ]
     },
     "execution_count": 21,
     "metadata": {},
     "output_type": "execute_result"
    }
   ],
   "source": [
    "# are all values less than 10? \n",
    "np.all(x < 10)"
   ]
  },
  {
   "cell_type": "code",
   "execution_count": 22,
   "id": "dce1d4db-b9e6-4c0f-838c-726c1eeaeef6",
   "metadata": {},
   "outputs": [
    {
     "data": {
      "text/plain": [
       "False"
      ]
     },
     "execution_count": 22,
     "metadata": {},
     "output_type": "execute_result"
    }
   ],
   "source": [
    "# are all values equal to 6? \n",
    "np.all(x == 6)"
   ]
  },
  {
   "cell_type": "raw",
   "id": "020642e3-346e-4a92-b9ca-ef3f74414b28",
   "metadata": {},
   "source": [
    "np.all and np.any can be used along particular axes as well"
   ]
  },
  {
   "cell_type": "code",
   "execution_count": 23,
   "id": "b0ed390a-7c72-428d-a845-a4fd6adf9f61",
   "metadata": {},
   "outputs": [
    {
     "data": {
      "text/plain": [
       "array([False, False,  True])"
      ]
     },
     "execution_count": 23,
     "metadata": {},
     "output_type": "execute_result"
    }
   ],
   "source": [
    "# are all values in each row less than 8? \n",
    "np.all(x < 8, axis=1)"
   ]
  },
  {
   "cell_type": "markdown",
   "id": "20ce9e0d-aa98-4e70-90bb-675486a39976",
   "metadata": {},
   "source": [
    "### Boolean Operators"
   ]
  },
  {
   "cell_type": "code",
   "execution_count": 28,
   "id": "8c9ab1c1-eee2-44bd-a7e2-1c0a2858f113",
   "metadata": {},
   "outputs": [
    {
     "data": {
      "text/plain": [
       "array([[9, 4, 0, 3],\n",
       "       [8, 6, 3, 1],\n",
       "       [3, 7, 4, 0]])"
      ]
     },
     "execution_count": 28,
     "metadata": {},
     "output_type": "execute_result"
    }
   ],
   "source": [
    "x"
   ]
  },
  {
   "cell_type": "code",
   "execution_count": 25,
   "id": "72ccc4d4-2132-47f8-8088-693b98bb2085",
   "metadata": {},
   "outputs": [
    {
     "data": {
      "text/plain": [
       "4"
      ]
     },
     "execution_count": 25,
     "metadata": {},
     "output_type": "execute_result"
    }
   ],
   "source": [
    "# how many elements are there which are in the interval (3, 8)\n",
    "np.sum((x > 3) & (x < 8))"
   ]
  },
  {
   "cell_type": "code",
   "execution_count": 27,
   "id": "2949f02e-485b-42f6-ab8d-bdc5a217f80e",
   "metadata": {},
   "outputs": [
    {
     "data": {
      "text/plain": [
       "4"
      ]
     },
     "execution_count": 27,
     "metadata": {},
     "output_type": "execute_result"
    }
   ],
   "source": [
    "# how many elements are there which are in the interval (3, 8)\n",
    "np.sum(~( (x <= 3) | (x >= 8) ))"
   ]
  },
  {
   "cell_type": "markdown",
   "id": "8680127c-dcb7-4111-a04d-1771a486d6da",
   "metadata": {},
   "source": [
    "## Boolean Arrays as Masks"
   ]
  },
  {
   "cell_type": "code",
   "execution_count": 29,
   "id": "9644a4b6-1cba-4228-af75-ec08b532c966",
   "metadata": {},
   "outputs": [
    {
     "data": {
      "text/plain": [
       "array([[9, 4, 0, 3],\n",
       "       [8, 6, 3, 1],\n",
       "       [3, 7, 4, 0]])"
      ]
     },
     "execution_count": 29,
     "metadata": {},
     "output_type": "execute_result"
    }
   ],
   "source": [
    "x"
   ]
  },
  {
   "cell_type": "code",
   "execution_count": 30,
   "id": "5daeffd6-bf2a-4a21-85f4-2d026ab4ce35",
   "metadata": {},
   "outputs": [
    {
     "data": {
      "text/plain": [
       "array([4, 0, 3, 3, 1, 3, 4, 0])"
      ]
     },
     "execution_count": 30,
     "metadata": {},
     "output_type": "execute_result"
    }
   ],
   "source": [
    "# Suppose we want an array of all values in the array that are less than, say, 5\n",
    "\n",
    "x[x < 5]"
   ]
  },
  {
   "cell_type": "raw",
   "id": "2c893405-fa2f-44bc-81d3-12f7f5b08d9e",
   "metadata": {},
   "source": [
    "What is returned is a one-dimensional array filled with all the values that meet this condition, \n",
    "in other words, all the values in positions at which the mask array is True."
   ]
  },
  {
   "cell_type": "raw",
   "id": "1c147379-f6fa-4e65-95a9-c8d6391c7bb2",
   "metadata": {},
   "source": [
    "# construct a mask of all rainy days rainy = (rainfall_mm > 0)\n",
    "# construct a mask of all summer days (June 21st is the 172nd day)\n",
    "\n",
    "days = np.arange(365)\n",
    "summer = (days > 172) & (days < 262)\n",
    "\n",
    "print(\"Median precip on rainy days in 2015 (mm):   \",np.median(rainfall_mm[rainy]))\n",
    "print(\"Median precip on summer days in 2015 (mm):  \",np.median(rainfall_mm[summer]))\n",
    "print(\"Maximum precip on summer days in 2015 (mm): \",np.max(rainfall_mm[summer]))\n",
    "print(\"Median precip on non-summer rainy days (mm):\",np.median(rainfall_mm[rainy & ~summer]))\n",
    "\n",
    "# By combining Boolean operations, masking operations, and aggregates, we can very quickly answer these sorts of questions about our dataset."
   ]
  },
  {
   "cell_type": "markdown",
   "id": "ac0cc972-efbf-4068-91d1-701b1c91c470",
   "metadata": {},
   "source": [
    "## Using the Keywords and/or Versus the Operators &/|"
   ]
  },
  {
   "cell_type": "raw",
   "id": "0833c502-1932-46f5-a267-6f101d06cb74",
   "metadata": {},
   "source": [
    "The difference is this: and and or operate on the object as a whole, while & and | operate on the elements within the object.\n",
    "\n",
    "When you use and or or, it is equivalent to asking Python to treat the object as a single Boolean entity. \n",
    "In Python, all nonzero integers will evaluate as True."
   ]
  },
  {
   "cell_type": "code",
   "execution_count": 31,
   "id": "58f21144-9619-4760-98fd-e60b8bd6ff19",
   "metadata": {},
   "outputs": [
    {
     "data": {
      "text/plain": [
       "(True, False)"
      ]
     },
     "execution_count": 31,
     "metadata": {},
     "output_type": "execute_result"
    }
   ],
   "source": [
    "bool(42), bool(0)"
   ]
  },
  {
   "cell_type": "code",
   "execution_count": 32,
   "id": "3bdca2ca-edfd-44dc-98ad-69e1d0187f25",
   "metadata": {},
   "outputs": [
    {
     "data": {
      "text/plain": [
       "False"
      ]
     },
     "execution_count": 32,
     "metadata": {},
     "output_type": "execute_result"
    }
   ],
   "source": [
    "bool(42 and 0)"
   ]
  },
  {
   "cell_type": "code",
   "execution_count": 33,
   "id": "f749cef5-5f38-4765-af0c-e6c83ecb3268",
   "metadata": {},
   "outputs": [
    {
     "data": {
      "text/plain": [
       "True"
      ]
     },
     "execution_count": 33,
     "metadata": {},
     "output_type": "execute_result"
    }
   ],
   "source": [
    "bool(42 or 0)"
   ]
  },
  {
   "cell_type": "raw",
   "id": "0de6445f-03d4-4ab3-88c8-9dcf584753e4",
   "metadata": {},
   "source": [
    "When you use & and | on integers, the expression operates on the bitwise representation of the element, applying the and or the or to the individual bits \n",
    "making up the number"
   ]
  },
  {
   "cell_type": "code",
   "execution_count": 34,
   "id": "e6f05f9d-a2d3-49bd-9862-8685734c1c36",
   "metadata": {},
   "outputs": [
    {
     "data": {
      "text/plain": [
       "'0b101010'"
      ]
     },
     "execution_count": 34,
     "metadata": {},
     "output_type": "execute_result"
    }
   ],
   "source": [
    "bin(42)"
   ]
  },
  {
   "cell_type": "code",
   "execution_count": 35,
   "id": "cbf62d44-30ca-4bd7-a928-efacba45ec61",
   "metadata": {},
   "outputs": [
    {
     "data": {
      "text/plain": [
       "'0b111011'"
      ]
     },
     "execution_count": 35,
     "metadata": {},
     "output_type": "execute_result"
    }
   ],
   "source": [
    "bin(59)"
   ]
  },
  {
   "cell_type": "code",
   "execution_count": 36,
   "id": "6fcf263c-47b3-45be-911e-ed699e681627",
   "metadata": {},
   "outputs": [
    {
     "data": {
      "text/plain": [
       "'0b101010'"
      ]
     },
     "execution_count": 36,
     "metadata": {},
     "output_type": "execute_result"
    }
   ],
   "source": [
    "bin(42 & 59)"
   ]
  },
  {
   "cell_type": "code",
   "execution_count": 38,
   "id": "9fa7df3e-e093-4e60-b2e1-eda984362dcc",
   "metadata": {},
   "outputs": [
    {
     "data": {
      "text/plain": [
       "'0b111011'"
      ]
     },
     "execution_count": 38,
     "metadata": {},
     "output_type": "execute_result"
    }
   ],
   "source": [
    "bin(42 | 59)"
   ]
  },
  {
   "cell_type": "raw",
   "id": "467f049a-6bea-4a7c-8a67-462433c51d3f",
   "metadata": {},
   "source": [
    "When you have an array of Boolean values in NumPy, this can be thought of as a string of bits where 1 = True and 0 = False, \n",
    "and & and | will operate similarly to in the preceding examples"
   ]
  },
  {
   "cell_type": "code",
   "execution_count": 39,
   "id": "66c109e2-1dbd-4f81-a6ad-4c8bfd2a25dc",
   "metadata": {},
   "outputs": [
    {
     "data": {
      "text/plain": [
       "array([ True,  True,  True, False,  True,  True])"
      ]
     },
     "execution_count": 39,
     "metadata": {},
     "output_type": "execute_result"
    }
   ],
   "source": [
    "A = np.array([1, 0, 1, 0, 1, 0], dtype=bool) \n",
    "B = np.array([1, 1, 1, 0, 1, 1], dtype=bool) \n",
    "A|B"
   ]
  },
  {
   "cell_type": "code",
   "execution_count": 41,
   "id": "1a47f496-857e-4b80-ae7b-ec92bda20682",
   "metadata": {},
   "outputs": [
    {
     "ename": "ValueError",
     "evalue": "The truth value of an array with more than one element is ambiguous. Use a.any() or a.all()",
     "output_type": "error",
     "traceback": [
      "\u001b[0;31m---------------------------------------------------------------------------\u001b[0m",
      "\u001b[0;31mValueError\u001b[0m                                Traceback (most recent call last)",
      "Input \u001b[0;32mIn [41]\u001b[0m, in \u001b[0;36m<cell line: 3>\u001b[0;34m()\u001b[0m\n\u001b[1;32m      1\u001b[0m \u001b[38;5;66;03m# But if you use or on these arrays it will try to evaluate the truth or falsehood of the entire array object, which is not a well-defined value\u001b[39;00m\n\u001b[0;32m----> 3\u001b[0m A \u001b[38;5;129;01mor\u001b[39;00m B\n",
      "\u001b[0;31mValueError\u001b[0m: The truth value of an array with more than one element is ambiguous. Use a.any() or a.all()"
     ]
    }
   ],
   "source": [
    "# But if you use or on these arrays it will try to evaluate the truth or falsehood of the entire array object, which is not a well-defined value\n",
    "\n",
    "A or B"
   ]
  },
  {
   "cell_type": "code",
   "execution_count": 43,
   "id": "5930ff43-0fcc-4883-ae6f-7e688b86a9ed",
   "metadata": {},
   "outputs": [
    {
     "data": {
      "text/plain": [
       "array([False, False, False, False, False,  True,  True,  True, False,\n",
       "       False])"
      ]
     },
     "execution_count": 43,
     "metadata": {},
     "output_type": "execute_result"
    }
   ],
   "source": [
    "# when evaluating a Boolean expression on a given array, you should use | or & rather than or or and\n",
    "\n",
    "x = np.arange(10) \n",
    "(x>4)&(x<8)"
   ]
  },
  {
   "cell_type": "code",
   "execution_count": 44,
   "id": "859cb7f1-2dfc-4a26-b74a-c3cd89336cfe",
   "metadata": {},
   "outputs": [
    {
     "ename": "ValueError",
     "evalue": "The truth value of an array with more than one element is ambiguous. Use a.any() or a.all()",
     "output_type": "error",
     "traceback": [
      "\u001b[0;31m---------------------------------------------------------------------------\u001b[0m",
      "\u001b[0;31mValueError\u001b[0m                                Traceback (most recent call last)",
      "Input \u001b[0;32mIn [44]\u001b[0m, in \u001b[0;36m<cell line: 3>\u001b[0;34m()\u001b[0m\n\u001b[1;32m      1\u001b[0m \u001b[38;5;66;03m# Trying to evaluate the truth or falsehood of the entire array will give the same ValueError we saw previously\u001b[39;00m\n\u001b[0;32m----> 3\u001b[0m (x\u001b[38;5;241m>\u001b[39m\u001b[38;5;241m4\u001b[39m)\u001b[38;5;129;01mand\u001b[39;00m(x\u001b[38;5;241m<\u001b[39m\u001b[38;5;241m8\u001b[39m)\n",
      "\u001b[0;31mValueError\u001b[0m: The truth value of an array with more than one element is ambiguous. Use a.any() or a.all()"
     ]
    }
   ],
   "source": [
    "# Trying to evaluate the truth or falsehood of the entire array will give the same ValueError we saw previously\n",
    "\n",
    "(x>4)and(x<8)"
   ]
  },
  {
   "cell_type": "raw",
   "id": "e4ad050a-d05e-4db5-b962-a812271b107d",
   "metadata": {},
   "source": [
    "So, \n",
    "and and or perform a single Boolean evaluation on an entire object, \n",
    "while & and | perform multiple Boolean evaluations on the content (the individual bits or bytes) of an object. \n",
    "For Boolean NumPy arrays, the latter is nearly always the desired operation"
   ]
  }
 ],
 "metadata": {
  "kernelspec": {
   "display_name": "Python 3 (ipykernel)",
   "language": "python",
   "name": "python3"
  },
  "language_info": {
   "codemirror_mode": {
    "name": "ipython",
    "version": 3
   },
   "file_extension": ".py",
   "mimetype": "text/x-python",
   "name": "python",
   "nbconvert_exporter": "python",
   "pygments_lexer": "ipython3",
   "version": "3.9.13"
  }
 },
 "nbformat": 4,
 "nbformat_minor": 5
}
