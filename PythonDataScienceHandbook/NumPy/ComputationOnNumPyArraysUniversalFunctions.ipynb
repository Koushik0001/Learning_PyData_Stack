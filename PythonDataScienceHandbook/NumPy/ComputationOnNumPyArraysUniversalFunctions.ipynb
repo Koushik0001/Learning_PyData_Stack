{
 "cells": [
  {
   "cell_type": "markdown",
   "id": "c1dd32ee-03f8-446e-b411-09deeacaa2f8",
   "metadata": {},
   "source": [
    "# <u>Computation on NumPy Arrays: Universal Functions</u>"
   ]
  },
  {
   "cell_type": "markdown",
   "id": "84315652-0504-488d-b853-fb09bf3caa74",
   "metadata": {
    "tags": []
   },
   "source": [
    "## The Slowness of Loops"
   ]
  },
  {
   "cell_type": "code",
   "execution_count": 2,
   "id": "758c9e2b-da06-4e60-b6e6-a1489b134dba",
   "metadata": {},
   "outputs": [],
   "source": [
    "import numpy as np"
   ]
  },
  {
   "cell_type": "code",
   "execution_count": 6,
   "id": "2f5d0cb8-d8d3-4971-b1d9-4f4648569a6b",
   "metadata": {},
   "outputs": [],
   "source": [
    "rng = np.random.default_rng(seed=1701)"
   ]
  },
  {
   "cell_type": "code",
   "execution_count": 5,
   "id": "6edfd8ee-26db-4ca9-b2e9-2702164f4e66",
   "metadata": {},
   "outputs": [],
   "source": [
    "def compute_reciprocals(values):\n",
    "    output = np.empty(len(values))\n",
    "    for i in range(len(values)):\n",
    "        output[i] = 1.0/values[i]\n",
    "    return output"
   ]
  },
  {
   "cell_type": "code",
   "execution_count": 10,
   "id": "dac51950-2eea-4568-82a7-3eb0e459f1e4",
   "metadata": {},
   "outputs": [
    {
     "data": {
      "text/plain": [
       "array([0.25      , 1.        , 0.33333333, 0.25      , 1.        ])"
      ]
     },
     "execution_count": 10,
     "metadata": {},
     "output_type": "execute_result"
    }
   ],
   "source": [
    "values = rng.integers(1, 10, size=5)\n",
    "compute_reciprocals(values)"
   ]
  },
  {
   "cell_type": "code",
   "execution_count": 13,
   "id": "787a0eb5-2207-4e5a-9dd5-2d782cdc861e",
   "metadata": {},
   "outputs": [
    {
     "name": "stdout",
     "output_type": "stream",
     "text": [
      "827 ms ± 461 µs per loop (mean ± std. dev. of 7 runs, 1 loop each)\n"
     ]
    }
   ],
   "source": [
    "big_array = rng.integers(1, 100, size=1000000)\n",
    "%timeit compute_reciprocals(big_array)"
   ]
  },
  {
   "cell_type": "markdown",
   "id": "829d7bfc-d1bf-48d5-9d91-f9e3d8060d93",
   "metadata": {
    "tags": []
   },
   "source": [
    "## Introducing Ufuncs"
   ]
  },
  {
   "cell_type": "raw",
   "id": "1f31d18b-952c-46cd-9d30-ed17a2cbfbe9",
   "metadata": {},
   "source": [
    "For many types of operations, NumPy provides a convenient interface into just this kind of statically typed, compiled routine.\n",
    "This is known as a vectorized operation (treate an array as a vector, i.e. a single entity). \n",
    "For simple operations like the element-wise division here (1.0 / values[i]), vectorization is as simple as using Python arithmetic operators directly on the array object, i.e. (1.0 / values)\n",
    "\n",
    "This vectorized approach is designed to push the loop into the compiled layer that underlies NumPy, leading to much faster execution."
   ]
  },
  {
   "cell_type": "code",
   "execution_count": 14,
   "id": "a90455d0-bdcc-4611-bb85-ace3683bcfce",
   "metadata": {},
   "outputs": [
    {
     "name": "stdout",
     "output_type": "stream",
     "text": [
      "[0.14285714 0.01639344 0.01041667 ... 0.07692308 0.025      0.02439024]\n",
      "[0.14285714 0.01639344 0.01041667 ... 0.07692308 0.025      0.02439024]\n"
     ]
    }
   ],
   "source": [
    "print(compute_reciprocals(values))\n",
    "print(1.0 / values)"
   ]
  },
  {
   "cell_type": "code",
   "execution_count": 15,
   "id": "a8dccff2-1964-4f83-b8b2-2e311df549da",
   "metadata": {},
   "outputs": [
    {
     "name": "stdout",
     "output_type": "stream",
     "text": [
      "664 µs ± 4.56 µs per loop (mean ± std. dev. of 7 runs, 1,000 loops each)\n"
     ]
    }
   ],
   "source": [
    "%timeit (1.0/big_array)"
   ]
  },
  {
   "cell_type": "raw",
   "id": "87e33c24-ee30-4099-a1c8-42b6ba40730c",
   "metadata": {},
   "source": [
    "Vectorized operations in NumPy are implemented via universal functions (ufuncs), whose main purpose is to quickly execute repeated operations on values in \n",
    "NumPy arrays. \n",
    "\n",
    "Ufuncs are extremely flexible — before we saw an operation between a scalar and an array, but we can also operate between two arrays"
   ]
  },
  {
   "cell_type": "code",
   "execution_count": 18,
   "id": "10ae15f7-d8bc-4b59-b7fa-764de25afc7c",
   "metadata": {},
   "outputs": [
    {
     "data": {
      "text/plain": [
       "array([0.        , 0.5       , 0.66666667, 0.75      , 0.8       ])"
      ]
     },
     "execution_count": 18,
     "metadata": {},
     "output_type": "execute_result"
    }
   ],
   "source": [
    "np.arange(5) / np.arange(1, 6)"
   ]
  },
  {
   "cell_type": "code",
   "execution_count": 23,
   "id": "9f889f41-74a0-4ff2-bd51-48baec1208ad",
   "metadata": {},
   "outputs": [
    {
     "data": {
      "text/plain": [
       "array([[  1,   2,   4],\n",
       "       [  8,  16,  32],\n",
       "       [ 64, 128, 256]])"
      ]
     },
     "execution_count": 23,
     "metadata": {},
     "output_type": "execute_result"
    }
   ],
   "source": [
    "# And ufunc operations are not limited to one-dimensional arrays. They can act on multidimensional arrays as well\n",
    "\n",
    "x = np.arange(9).reshape(3, 3)\n",
    "2 ** x"
   ]
  },
  {
   "cell_type": "markdown",
   "id": "64ab593b-4ad7-4a78-9f4f-b5ee1a1bb150",
   "metadata": {
    "tags": []
   },
   "source": [
    "## Exploring NumPy’s Ufuncs"
   ]
  },
  {
   "cell_type": "raw",
   "id": "6d1fc516-c2cc-4285-825f-fdd58bec015b",
   "metadata": {},
   "source": [
    "Ufuncs exist in two flavors: unary ufuncs, which operate on a single input, and binary ufuncs, which operate on two inputs."
   ]
  },
  {
   "cell_type": "markdown",
   "id": "b5d96cf1-db69-45e7-9411-b2403e221bcd",
   "metadata": {},
   "source": [
    "### Array Arithmetic"
   ]
  },
  {
   "cell_type": "code",
   "execution_count": 27,
   "id": "a3f01178-daec-4e04-88b1-5f98b249f487",
   "metadata": {},
   "outputs": [
    {
     "name": "stdout",
     "output_type": "stream",
     "text": [
      "x      = [0 1 2 3]\n",
      "x + 5  = [5 6 7 8]\n",
      "x - 5  = [-5 -4 -3 -2]\n",
      "x * 2 = [0 2 4 6]\n",
      "x / 2 = [0.  0.5 1.  1.5]\n",
      "x // 2 = [0 0 1 1]\n"
     ]
    }
   ],
   "source": [
    "x = np.arange(4)\n",
    "\n",
    "print(\"x      =\", x)\n",
    "print(\"x + 5  =\", x + 5)\n",
    "print(\"x - 5  =\", x - 5)\n",
    "print(\"x * 2 =\", x * 2)\n",
    "print(\"x / 2 =\", x / 2)\n",
    "print(\"x // 2 =\", x // 2) # floor division"
   ]
  },
  {
   "cell_type": "code",
   "execution_count": 28,
   "id": "5da85d3f-5bcb-474b-938f-87245f8d1d98",
   "metadata": {},
   "outputs": [
    {
     "name": "stdout",
     "output_type": "stream",
     "text": [
      "-x     =  [ 0 -1 -2 -3]\n",
      "x ** 2 =  [0 1 4 9]\n",
      "x % 2 =  [0 1 0 1]\n"
     ]
    }
   ],
   "source": [
    "print(\"-x     = \", -x)\n",
    "print(\"x ** 2 = \", x ** 2)\n",
    "print(\"x % 2 = \", x % 2)"
   ]
  },
  {
   "cell_type": "code",
   "execution_count": 29,
   "id": "29b09313-879a-4a8d-8b16-eca6fcdcb127",
   "metadata": {},
   "outputs": [
    {
     "data": {
      "text/plain": [
       "array([-1.  , -2.25, -4.  , -6.25])"
      ]
     },
     "execution_count": 29,
     "metadata": {},
     "output_type": "execute_result"
    }
   ],
   "source": [
    "-(0.5*x + 1) ** 2"
   ]
  },
  {
   "cell_type": "raw",
   "id": "cc6dc1fc-6113-4f73-83be-ba0b7de2a415",
   "metadata": {},
   "source": [
    "All of these arithmetic operations are simply convenient wrappers around specific ufuncs built into NumPy. \n",
    "For example, the + operator is a wrapper for the add ufunc"
   ]
  },
  {
   "cell_type": "code",
   "execution_count": 31,
   "id": "ef9a3ad6-dae2-4328-8290-1c9e41c64f12",
   "metadata": {},
   "outputs": [
    {
     "data": {
      "text/plain": [
       "array([2, 3, 4, 5])"
      ]
     },
     "execution_count": 31,
     "metadata": {},
     "output_type": "execute_result"
    }
   ],
   "source": [
    "np.add(x, 2)"
   ]
  },
  {
   "cell_type": "raw",
   "id": "e006fcc2-1fed-4950-be80-5c814e8ebe68",
   "metadata": {},
   "source": [
    "            Arithmetic operators implemented in NumPy\n",
    "   ============================================================\n",
    " \n",
    "  Operator       Equivalent ufunc                 Description\n",
    "-----------     -------------------       ------------------------------------    \n",
    "    +             np.add                   Addition (e.g., 1 + 1 = 2)\n",
    "    -             np.subtract              Subtraction (e.g., 3 - 2 = 1)\n",
    "    -             np.negative              Unary negation (e.g., -2)\n",
    "    *             np.multiply              Multiplication (e.g., 2 * 3 = 6)\n",
    "    /             np.divide                Division (e.g., 3 / 2 = 1.5)\n",
    "    //            np.floor_divide          Floor division (e.g., 3 // 2 = 1)\n",
    "    **            np.power                 Exponentiation (e.g., 2 ** 3 = 8)\n",
    "    %             np.mod                   Modulus/remainder (e.g., 9 % 4 = 1)"
   ]
  },
  {
   "cell_type": "markdown",
   "id": "a037bf92-504d-4f0c-b763-1f73b5b36547",
   "metadata": {},
   "source": [
    "### Absolute Value"
   ]
  },
  {
   "cell_type": "code",
   "execution_count": 32,
   "id": "2c367a9a-9813-41f3-90cc-7deac67d3cc3",
   "metadata": {},
   "outputs": [
    {
     "data": {
      "text/plain": [
       "array([2, 1, 0, 1, 2])"
      ]
     },
     "execution_count": 32,
     "metadata": {},
     "output_type": "execute_result"
    }
   ],
   "source": [
    "# Just as NumPy understands Python’s built-in arithmetic operators, it also understands Python’s built-in absolute value function\n",
    "\n",
    "x = np.array([-2, -1, 0, 1, 2])\n",
    "abs(x)"
   ]
  },
  {
   "cell_type": "code",
   "execution_count": 33,
   "id": "54cfa3a1-baa6-4e77-8566-40a4817eb6bc",
   "metadata": {},
   "outputs": [
    {
     "data": {
      "text/plain": [
       "array([2, 1, 0, 1, 2])"
      ]
     },
     "execution_count": 33,
     "metadata": {},
     "output_type": "execute_result"
    }
   ],
   "source": [
    "# The corresponding NumPy ufunc is np.absolute, which is also available under the alias np.abs\n",
    "\n",
    "np.absolute(x)"
   ]
  },
  {
   "cell_type": "code",
   "execution_count": 34,
   "id": "dde8dc05-abe1-4a85-be0b-9c8a2bf798c3",
   "metadata": {},
   "outputs": [
    {
     "data": {
      "text/plain": [
       "array([2, 1, 0, 1, 2])"
      ]
     },
     "execution_count": 34,
     "metadata": {},
     "output_type": "execute_result"
    }
   ],
   "source": [
    "np.abs(x)"
   ]
  },
  {
   "cell_type": "raw",
   "id": "ab08f92b-1a45-4535-a854-8d5894f16a79",
   "metadata": {},
   "source": [
    "This ufunc can also handle complex numbers, in which case it returns the magnitude"
   ]
  },
  {
   "cell_type": "code",
   "execution_count": 36,
   "id": "e042adfa-de7e-4401-bc82-40b15dafedb2",
   "metadata": {},
   "outputs": [
    {
     "data": {
      "text/plain": [
       "array([5., 5., 2., 1.])"
      ]
     },
     "execution_count": 36,
     "metadata": {},
     "output_type": "execute_result"
    }
   ],
   "source": [
    "x = np.array([3-4j,4-3j,2+0j,0+1j])\n",
    "np.abs(x)"
   ]
  },
  {
   "cell_type": "markdown",
   "id": "b5c4521a-4440-4b99-bc4b-624fbcb7d05a",
   "metadata": {},
   "source": [
    "### Trigonometric Functions"
   ]
  },
  {
   "cell_type": "code",
   "execution_count": 40,
   "id": "c727f71b-cb33-44e0-b51e-cd891676f097",
   "metadata": {},
   "outputs": [
    {
     "data": {
      "text/plain": [
       "3.141592653589793"
      ]
     },
     "execution_count": 40,
     "metadata": {},
     "output_type": "execute_result"
    }
   ],
   "source": [
    "np.pi"
   ]
  },
  {
   "cell_type": "code",
   "execution_count": 45,
   "id": "ed6c2063-9741-4187-8f54-9aea41b028c9",
   "metadata": {},
   "outputs": [],
   "source": [
    "# difference np.arange and np.linspace is np.arange retrun evenly spaced integers but linspace returns floats \n",
    "\n",
    "theta = np.linspace(0, np.pi, 3)"
   ]
  },
  {
   "cell_type": "code",
   "execution_count": 46,
   "id": "191c379e-6ef1-4b3a-838b-1f93100b4131",
   "metadata": {},
   "outputs": [
    {
     "name": "stdout",
     "output_type": "stream",
     "text": [
      "theta      =  [0.         1.57079633 3.14159265]\n",
      "sin(theta) =  [0.0000000e+00 1.0000000e+00 1.2246468e-16]\n",
      "cos(theta) =  [ 1.000000e+00  6.123234e-17 -1.000000e+00]\n",
      "tan(theta) =  [ 0.00000000e+00  1.63312394e+16 -1.22464680e-16]\n"
     ]
    }
   ],
   "source": [
    "print(\"theta      = \", theta)\n",
    "print(\"sin(theta) = \", np.sin(theta))\n",
    "print(\"cos(theta) = \", np.cos(theta))\n",
    "print(\"tan(theta) = \", np.tan(theta))"
   ]
  },
  {
   "cell_type": "code",
   "execution_count": 48,
   "id": "8c25b842-7be5-4b00-9afe-1d1c5ecba7c2",
   "metadata": {},
   "outputs": [
    {
     "name": "stdout",
     "output_type": "stream",
     "text": [
      "x =  [-1, 0, 1]\n",
      "arcsin(x) =  [-1.57079633  0.          1.57079633]\n",
      "arccos(x) =  [3.14159265 1.57079633 0.        ]\n",
      "arctan(x) =  [-0.78539816  0.          0.78539816]\n"
     ]
    }
   ],
   "source": [
    "x=[-1,0,1]\n",
    "print(\"x = \", x)\n",
    "print(\"arcsin(x) = \", np.arcsin(x))\n",
    "print(\"arccos(x) = \", np.arccos(x))\n",
    "print(\"arctan(x) = \", np.arctan(x))"
   ]
  },
  {
   "cell_type": "markdown",
   "id": "23db30ab-9b4a-407c-8bb4-7915f9beb927",
   "metadata": {},
   "source": [
    "### Exponents and Logarithms"
   ]
  },
  {
   "cell_type": "code",
   "execution_count": 50,
   "id": "03c8d262-4609-42c7-b18b-d28243fe4ab2",
   "metadata": {},
   "outputs": [
    {
     "name": "stdout",
     "output_type": "stream",
     "text": [
      "x = [1, 2, 3]\n",
      "e^x = [ 2.71828183  7.3890561  20.08553692]\n",
      "2^x = [2. 4. 8.]\n",
      "3^x = [ 3.  9. 27.]\n"
     ]
    }
   ],
   "source": [
    "x=[1,2,3] \n",
    "print(\"x =\",x)\n",
    "print(\"e^x =\", np.exp(x))\n",
    "print(\"2^x =\", np.exp2(x))\n",
    "print(\"3^x =\", np.power(3., x))"
   ]
  },
  {
   "cell_type": "raw",
   "id": "905b684d-d071-4297-ab70-80d3f0c666ed",
   "metadata": {},
   "source": [
    "The basic np.log gives the natural logarithm\n",
    "If you prefer to compute the base-2 logarithm or the base-10 logarithm, these are available as well"
   ]
  },
  {
   "cell_type": "code",
   "execution_count": 52,
   "id": "4c22a236-8870-4495-a2fa-59d9b0b93588",
   "metadata": {},
   "outputs": [
    {
     "name": "stdout",
     "output_type": "stream",
     "text": [
      "x = [1, 2, 4, 10]\n",
      "ln(x)    = [0.         0.69314718 1.38629436 2.30258509]\n",
      "log2(x)  = [0.         1.         2.         3.32192809]\n",
      "log10(x) = [0.         0.30103    0.60205999 1.        ]\n"
     ]
    }
   ],
   "source": [
    "x=[1,2,4,10] \n",
    "print(\"x =\", x)\n",
    "print(\"ln(x)    =\", np.log(x))\n",
    "print(\"log2(x)  =\", np.log2(x))\n",
    "print(\"log10(x) =\", np.log10(x))"
   ]
  },
  {
   "cell_type": "raw",
   "id": "93a4c4c6-4a27-4894-b363-8562868aed55",
   "metadata": {},
   "source": [
    "There are also some specialized versions that are useful for maintaining precision with very small input.\n",
    "When x is very small, these functions give more precise values than if the raw np.log or np.exp were to be used."
   ]
  },
  {
   "cell_type": "code",
   "execution_count": 56,
   "id": "c4cd5a9a-5ede-443d-a2f5-82e5b6de3bbf",
   "metadata": {},
   "outputs": [
    {
     "name": "stdout",
     "output_type": "stream",
     "text": [
      "exp(x) - 1 = [0.         0.0010005  0.01005017 0.10517092]\n",
      "log(1 + x) = [0.         0.0009995  0.00995033 0.09531018]\n"
     ]
    }
   ],
   "source": [
    "x = [0, 0.001, 0.01, 0.1]\n",
    "print(\"exp(x) - 1 =\", np.expm1(x))\n",
    "print(\"log(1 + x) =\", np.log1p(x))"
   ]
  },
  {
   "cell_type": "markdown",
   "id": "62ed82a6-0299-467e-b7a3-06d0c18cb323",
   "metadata": {},
   "source": [
    "### Specialized Ufuncs"
   ]
  },
  {
   "cell_type": "code",
   "execution_count": 57,
   "id": "d55fc2f2-ec97-40af-9696-ef4aac212bf2",
   "metadata": {},
   "outputs": [],
   "source": [
    "from scipy import special"
   ]
  },
  {
   "cell_type": "code",
   "execution_count": 61,
   "id": "19f06a95-3d48-4cea-b01a-48f3448cce72",
   "metadata": {},
   "outputs": [
    {
     "name": "stdout",
     "output_type": "stream",
     "text": [
      "gamma(x)     = [1.0000e+00 2.4000e+01 3.6288e+05]\n",
      "ln|gamma(x)| = [ 0.          3.17805383 12.80182748]\n",
      "beta(x, 2)   = [0.5        0.03333333 0.00909091]\n"
     ]
    }
   ],
   "source": [
    "# Gamma functions (generalized factorials) and related functions\n",
    "\n",
    "x=[1,5,10]\n",
    "print(\"gamma(x)     =\", special.gamma(x))\n",
    "print(\"ln|gamma(x)| =\", special.gammaln(x))\n",
    "print(\"beta(x, 2)   =\", special.beta(x, 2))"
   ]
  },
  {
   "cell_type": "code",
   "execution_count": 62,
   "id": "fd3448c8-0631-45d0-baf0-f99eb0cbd3b3",
   "metadata": {},
   "outputs": [
    {
     "name": "stdout",
     "output_type": "stream",
     "text": [
      "erf(x)  = [0.         0.32862676 0.67780119 0.84270079]\n",
      "erfc(x) = [1.         0.67137324 0.32219881 0.15729921]\n",
      "erfinv(x) = [0.         0.27246271 0.73286908        inf]\n"
     ]
    }
   ],
   "source": [
    "# Error function (integral of Gaussian), \n",
    "# its complement, and its inverse\n",
    "         \n",
    "x = np.array([0, 0.3, 0.7, 1.0])\n",
    "print(\"erf(x)  =\", special.erf(x))\n",
    "print(\"erfc(x) =\", special.erfc(x))\n",
    "print(\"erfinv(x) =\", special.erfinv(x))"
   ]
  },
  {
   "cell_type": "code",
   "execution_count": 63,
   "id": "11d33ae3-6964-4f1a-8dfe-6b82b8481732",
   "metadata": {},
   "outputs": [
    {
     "name": "stdout",
     "output_type": "stream",
     "text": [
      "erf(x)  = [0.         0.32862676 0.67780119 0.84270079]\n",
      "erfc(x) = [1.         0.67137324 0.32219881 0.15729921]\n",
      "erfinv(x) = [0.         0.27246271 0.73286908        inf]\n"
     ]
    }
   ],
   "source": [
    "# Error function (integral of Gaussian), # its complement, and its inverse\n",
    "\n",
    "x = np.array([0, 0.3, 0.7, 1.0])\n",
    "print(\"erf(x)  =\", special.erf(x))\n",
    "print(\"erfc(x) =\", special.erfc(x))\n",
    "print(\"erfinv(x) =\", special.erfinv(x))"
   ]
  },
  {
   "cell_type": "markdown",
   "id": "e9912d11-aefe-4bb3-b38c-fe9c836959d7",
   "metadata": {},
   "source": [
    "## Advanced Ufunc Features"
   ]
  },
  {
   "cell_type": "markdown",
   "id": "ee42823a-8955-48dd-b3e2-2bba9875e601",
   "metadata": {},
   "source": [
    "### Specifying Output"
   ]
  },
  {
   "cell_type": "raw",
   "id": "c3e59065-cab6-4e5c-98b6-a4ba802ef624",
   "metadata": {},
   "source": [
    "For large calculations, it is sometimes useful to be able to specify the array where the result of the calculation will be stored. \n",
    "For all ufuncs, this can be done using the out argument of the function"
   ]
  },
  {
   "cell_type": "code",
   "execution_count": 66,
   "id": "194efcca-98c1-42a9-a58e-9292fd54a01f",
   "metadata": {},
   "outputs": [
    {
     "data": {
      "text/plain": [
       "array([ 0., 10., 20., 30., 40.])"
      ]
     },
     "execution_count": 66,
     "metadata": {},
     "output_type": "execute_result"
    }
   ],
   "source": [
    "x = np.arange(5)\n",
    "y = np.empty(5)\n",
    "np.multiply(x, 10, out=y)\n",
    "y"
   ]
  },
  {
   "cell_type": "code",
   "execution_count": 67,
   "id": "2aa1488c-8e52-4401-969c-6104c7f742ec",
   "metadata": {},
   "outputs": [
    {
     "name": "stdout",
     "output_type": "stream",
     "text": [
      "[ 1.  0.  2.  0.  4.  0.  8.  0. 16.  0.]\n"
     ]
    }
   ],
   "source": [
    "y = np.zeros(10)\n",
    "np.power(2, x, out=y[::2])\n",
    "print(y)"
   ]
  },
  {
   "cell_type": "raw",
   "id": "112d4dfc-755d-48c5-a325-cfe1526c849c",
   "metadata": {},
   "source": [
    "If we had instead written y[::2] = 2 ** x, this would have resulted in the creation of a temporary array to hold the results of 2 ** x, \n",
    "followed by a second operation copying those values into the y array. \n",
    "\n",
    "This doesn’t make much of a difference for such a small computation, \n",
    "but for very large arrays the memory savings from careful use of the out argument can be significant."
   ]
  },
  {
   "cell_type": "markdown",
   "id": "19ec1fbc-3814-442b-b828-0202af759ae7",
   "metadata": {},
   "source": [
    "### Aggregations"
   ]
  },
  {
   "cell_type": "code",
   "execution_count": null,
   "id": "ae30cf35-d45a-4659-b701-d2b3375bf7f0",
   "metadata": {},
   "outputs": [],
   "source": [
    "For binary ufuncs, aggregations can be computed directly from the object. \n",
    "For example, if we’d like to reduce an array with a particular operation, we can use the reduce method of any ufunc. \n",
    "A reduce repeatedly applies a given operation to the elements of an array until only a single result remains.\n",
    "\n",
    "For example, calling reduce on the add ufunc returns the sum of all elements in the array"
   ]
  },
  {
   "cell_type": "code",
   "execution_count": 72,
   "id": "e53429b9-091a-4e53-b736-2610b4bd9a0e",
   "metadata": {},
   "outputs": [
    {
     "data": {
      "text/plain": [
       "array([1, 2, 3, 4, 5])"
      ]
     },
     "execution_count": 72,
     "metadata": {},
     "output_type": "execute_result"
    }
   ],
   "source": [
    "x = np.arange(1, 6)\n",
    "x"
   ]
  },
  {
   "cell_type": "code",
   "execution_count": 73,
   "id": "1c75f64a-b107-43b2-98d3-eedc8cad8ec1",
   "metadata": {},
   "outputs": [
    {
     "data": {
      "text/plain": [
       "15"
      ]
     },
     "execution_count": 73,
     "metadata": {},
     "output_type": "execute_result"
    }
   ],
   "source": [
    "np.add.reduce(x)"
   ]
  },
  {
   "cell_type": "code",
   "execution_count": 74,
   "id": "ad0362f9-6da1-491b-9356-05f896730425",
   "metadata": {},
   "outputs": [
    {
     "data": {
      "text/plain": [
       "120"
      ]
     },
     "execution_count": 74,
     "metadata": {},
     "output_type": "execute_result"
    }
   ],
   "source": [
    "# calling reduce on the multiply ufunc results in the product of all array elements\n",
    "\n",
    "np.multiply.reduce(x)"
   ]
  },
  {
   "cell_type": "code",
   "execution_count": 75,
   "id": "0e0b0b78-f882-48d0-b7ed-0fe65d763247",
   "metadata": {},
   "outputs": [
    {
     "data": {
      "text/plain": [
       "array([ 1,  3,  6, 10, 15])"
      ]
     },
     "execution_count": 75,
     "metadata": {},
     "output_type": "execute_result"
    }
   ],
   "source": [
    "# If we’d like to store all the intermediate results of the computation, we can instead use accumulate\n",
    "\n",
    "np.add.accumulate(x)"
   ]
  },
  {
   "cell_type": "code",
   "execution_count": 76,
   "id": "1c7f74ca-503f-4146-83b9-9f32f209f500",
   "metadata": {},
   "outputs": [
    {
     "data": {
      "text/plain": [
       "array([  1,   2,   6,  24, 120])"
      ]
     },
     "execution_count": 76,
     "metadata": {},
     "output_type": "execute_result"
    }
   ],
   "source": [
    "np.multiply.accumulate(x)"
   ]
  },
  {
   "cell_type": "markdown",
   "id": "cddc67cb-c19b-4916-bce3-8a450e530781",
   "metadata": {},
   "source": [
    "### Outer Products"
   ]
  },
  {
   "cell_type": "raw",
   "id": "d035f413-bcc4-46cb-a5fb-328099dd0d03",
   "metadata": {},
   "source": [
    "any ufunc can compute the output of all pairs of two different inputs using the outer method."
   ]
  },
  {
   "cell_type": "code",
   "execution_count": 77,
   "id": "8fc1413c-bff1-4904-8837-f10074884a4b",
   "metadata": {},
   "outputs": [
    {
     "data": {
      "text/plain": [
       "array([[ 1,  2,  3,  4,  5],\n",
       "       [ 2,  4,  6,  8, 10],\n",
       "       [ 3,  6,  9, 12, 15],\n",
       "       [ 4,  8, 12, 16, 20],\n",
       "       [ 5, 10, 15, 20, 25]])"
      ]
     },
     "execution_count": 77,
     "metadata": {},
     "output_type": "execute_result"
    }
   ],
   "source": [
    "x = np.arange(1, 6)\n",
    "np.multiply.outer(x, x)"
   ]
  },
  {
   "cell_type": "code",
   "execution_count": 83,
   "id": "67d2ebea-a61a-4d48-8209-863e19d20c4b",
   "metadata": {},
   "outputs": [
    {
     "data": {
      "text/plain": [
       "array([6, 7])"
      ]
     },
     "execution_count": 83,
     "metadata": {},
     "output_type": "execute_result"
    }
   ],
   "source": [
    "y = np.arange(6, 8)\n",
    "y"
   ]
  },
  {
   "cell_type": "code",
   "execution_count": 84,
   "id": "5efdb0d6-a5ec-495b-9cba-80a5ff9fe973",
   "metadata": {},
   "outputs": [
    {
     "data": {
      "text/plain": [
       "array([[ 6, 12, 18, 24, 30],\n",
       "       [ 7, 14, 21, 28, 35]])"
      ]
     },
     "execution_count": 84,
     "metadata": {},
     "output_type": "execute_result"
    }
   ],
   "source": [
    "np.multiply.outer(y, x)"
   ]
  },
  {
   "cell_type": "markdown",
   "id": "50682693-f2f1-4c5b-98bc-3552f273e80e",
   "metadata": {},
   "source": [
    "## Ufuncs: Learning More"
   ]
  },
  {
   "cell_type": "raw",
   "id": "72e483e4-287a-4769-92a3-7b21a30f766d",
   "metadata": {},
   "source": [
    "More information on universal functions (including the full list of available functions) can be found on the NumPy and SciPy documentation websites."
   ]
  }
 ],
 "metadata": {
  "kernelspec": {
   "display_name": "Python 3 (ipykernel)",
   "language": "python",
   "name": "python3"
  },
  "language_info": {
   "codemirror_mode": {
    "name": "ipython",
    "version": 3
   },
   "file_extension": ".py",
   "mimetype": "text/x-python",
   "name": "python",
   "nbconvert_exporter": "python",
   "pygments_lexer": "ipython3",
   "version": "3.9.13"
  }
 },
 "nbformat": 4,
 "nbformat_minor": 5
}
