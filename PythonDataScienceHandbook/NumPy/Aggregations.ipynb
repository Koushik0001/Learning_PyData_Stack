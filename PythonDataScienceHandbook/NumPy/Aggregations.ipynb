{
 "cells": [
  {
   "cell_type": "markdown",
   "id": "73bd20b3-bb9e-48f5-82ec-1926711fa5db",
   "metadata": {},
   "source": [
    "# <u>Aggregations: min, max, and Everything in Between</u>"
   ]
  },
  {
   "cell_type": "markdown",
   "id": "be2d719a-e6b8-46ea-ae4b-76514175f6ec",
   "metadata": {},
   "source": [
    "## Summing the Values in an Array"
   ]
  },
  {
   "cell_type": "code",
   "execution_count": 3,
   "id": "d513ff53-f1f0-4cb4-8ad9-9c62a4db44e5",
   "metadata": {},
   "outputs": [],
   "source": [
    "import numpy as np"
   ]
  },
  {
   "cell_type": "code",
   "execution_count": 4,
   "id": "5eecf2f6-207e-4dbd-9b12-4d98ff7f369b",
   "metadata": {},
   "outputs": [],
   "source": [
    "rng = np.random.default_rng()"
   ]
  },
  {
   "cell_type": "code",
   "execution_count": 11,
   "id": "0e16a3da-78cc-4614-9350-fc45aca87374",
   "metadata": {},
   "outputs": [
    {
     "data": {
      "text/plain": [
       "49.685918711162266"
      ]
     },
     "execution_count": 11,
     "metadata": {},
     "output_type": "execute_result"
    }
   ],
   "source": [
    "# Python itself can do this using the built-in sum function\n",
    "\n",
    "L = rng.random(100)\n",
    "sum(L)"
   ]
  },
  {
   "cell_type": "code",
   "execution_count": 12,
   "id": "c945318e-16b5-46d9-bab4-9f12be7f4db2",
   "metadata": {},
   "outputs": [
    {
     "data": {
      "text/plain": [
       "49.68591871116227"
      ]
     },
     "execution_count": 12,
     "metadata": {},
     "output_type": "execute_result"
    }
   ],
   "source": [
    "np.sum(L)"
   ]
  },
  {
   "cell_type": "code",
   "execution_count": 5,
   "id": "cff3c1da-c798-4dc0-b65d-7f91ec3b97e6",
   "metadata": {},
   "outputs": [
    {
     "name": "stdout",
     "output_type": "stream",
     "text": [
      "60.1 ms ± 1.86 ms per loop (mean ± std. dev. of 7 runs, 10 loops each)\n",
      "323 µs ± 3.01 µs per loop (mean ± std. dev. of 7 runs, 1,000 loops each)\n"
     ]
    }
   ],
   "source": [
    "# NumPy’s version of the operation is computed much more quickly\n",
    "\n",
    "big_array = rng.random(1000000) \n",
    "\n",
    "%timeit sum(big_array)\n",
    "%timeit np.sum(big_array)"
   ]
  },
  {
   "cell_type": "raw",
   "id": "bd353d37-516e-496e-ad91-cb8ee7ccf6c6",
   "metadata": {},
   "source": [
    "Be careful, though: the sum function and the np.sum function are not identical, which can sometimes lead to confusion! \n",
    "In particular, their optional arguments have different meanings:\n",
    "            (sum(x, 1) returns the sum of a 'start' value (default: 0) plus an iterable of numbers while\n",
    "             np.sum(x, 1) sums along axis 1), and np.sum is aware of multiple array dimensions"
   ]
  },
  {
   "cell_type": "code",
   "execution_count": 26,
   "id": "9a246e0f-24d7-4196-b199-51e8d1dc732b",
   "metadata": {},
   "outputs": [],
   "source": [
    "my_array = [1, 2, 10, 4, 5]"
   ]
  },
  {
   "cell_type": "code",
   "execution_count": 27,
   "id": "a573c4f3-44a0-4605-b91e-e6f9d873ff5c",
   "metadata": {},
   "outputs": [
    {
     "data": {
      "text/plain": [
       "22"
      ]
     },
     "execution_count": 27,
     "metadata": {},
     "output_type": "execute_result"
    }
   ],
   "source": [
    "sum(my_array)"
   ]
  },
  {
   "cell_type": "code",
   "execution_count": 29,
   "id": "b7c9648f-bfdb-45e5-8a8e-9124ca8470ac",
   "metadata": {},
   "outputs": [
    {
     "data": {
      "text/plain": [
       "24"
      ]
     },
     "execution_count": 29,
     "metadata": {},
     "output_type": "execute_result"
    }
   ],
   "source": [
    "sum(my_array, start=2)"
   ]
  },
  {
   "cell_type": "code",
   "execution_count": 24,
   "id": "5043cde2-8d50-449f-8520-cd2a70bc87a4",
   "metadata": {},
   "outputs": [
    {
     "data": {
      "text/plain": [
       "\u001b[0;31mSignature:\u001b[0m \u001b[0msum\u001b[0m\u001b[0;34m(\u001b[0m\u001b[0miterable\u001b[0m\u001b[0;34m,\u001b[0m \u001b[0;34m/\u001b[0m\u001b[0;34m,\u001b[0m \u001b[0mstart\u001b[0m\u001b[0;34m=\u001b[0m\u001b[0;36m0\u001b[0m\u001b[0;34m)\u001b[0m\u001b[0;34m\u001b[0m\u001b[0;34m\u001b[0m\u001b[0m\n",
       "\u001b[0;31mDocstring:\u001b[0m\n",
       "Return the sum of a 'start' value (default: 0) plus an iterable of numbers\n",
       "\n",
       "When the iterable is empty, return the start value.\n",
       "This function is intended specifically for use with numeric values and may\n",
       "reject non-numeric types.\n",
       "\u001b[0;31mType:\u001b[0m      builtin_function_or_method\n"
      ]
     },
     "metadata": {},
     "output_type": "display_data"
    }
   ],
   "source": [
    "sum??"
   ]
  },
  {
   "cell_type": "code",
   "execution_count": 31,
   "id": "9936a2db-a045-4312-b320-e748ca688c27",
   "metadata": {},
   "outputs": [
    {
     "data": {
      "text/plain": [
       "22"
      ]
     },
     "execution_count": 31,
     "metadata": {},
     "output_type": "execute_result"
    }
   ],
   "source": [
    "np.sum(my_array, 0)"
   ]
  },
  {
   "cell_type": "code",
   "execution_count": 32,
   "id": "21de1623-bc9e-4cfd-bc40-b55638101fc7",
   "metadata": {},
   "outputs": [],
   "source": [
    "my_array2 = [[1, 2, 3],\n",
    "             [4, 5, 6],\n",
    "             [7, 8, 9]]"
   ]
  },
  {
   "cell_type": "code",
   "execution_count": 33,
   "id": "57229dfa-2bd7-41e1-ad4b-5523858e4270",
   "metadata": {},
   "outputs": [
    {
     "data": {
      "text/plain": [
       "array([ 6, 15, 24])"
      ]
     },
     "execution_count": 33,
     "metadata": {},
     "output_type": "execute_result"
    }
   ],
   "source": [
    "np.sum(my_array2, 1)"
   ]
  },
  {
   "cell_type": "code",
   "execution_count": 34,
   "id": "8af6ac29-1f7e-499c-a968-d511eaedd310",
   "metadata": {},
   "outputs": [
    {
     "data": {
      "text/plain": [
       "array([12, 15, 18])"
      ]
     },
     "execution_count": 34,
     "metadata": {},
     "output_type": "execute_result"
    }
   ],
   "source": [
    "np.sum(my_array2, 0)"
   ]
  },
  {
   "cell_type": "markdown",
   "id": "14faba92-5699-476c-9a75-7659c7042cbf",
   "metadata": {},
   "source": [
    "## Minimum and Maximum"
   ]
  },
  {
   "cell_type": "code",
   "execution_count": 36,
   "id": "096031be-51ab-4694-bad4-657f4c312b34",
   "metadata": {},
   "outputs": [
    {
     "data": {
      "text/plain": [
       "(9.035721576511335e-07, 0.9999995252877818)"
      ]
     },
     "execution_count": 36,
     "metadata": {},
     "output_type": "execute_result"
    }
   ],
   "source": [
    "# python built-in min and max functions\n",
    "\n",
    "min(big_array), max(big_array)"
   ]
  },
  {
   "cell_type": "code",
   "execution_count": 37,
   "id": "77111862-202d-4d37-9acf-021d5524e294",
   "metadata": {},
   "outputs": [
    {
     "data": {
      "text/plain": [
       "(9.035721576511335e-07, 0.9999995252877818)"
      ]
     },
     "execution_count": 37,
     "metadata": {},
     "output_type": "execute_result"
    }
   ],
   "source": [
    "np.min(big_array), np.max(big_array)"
   ]
  },
  {
   "cell_type": "code",
   "execution_count": 6,
   "id": "4c9ef64f-fd42-4052-aaa9-e0c9c9946198",
   "metadata": {},
   "outputs": [
    {
     "name": "stdout",
     "output_type": "stream",
     "text": [
      "45.1 ms ± 34.5 µs per loop (mean ± std. dev. of 7 runs, 10 loops each)\n",
      "3.3 ms ± 25.9 µs per loop (mean ± std. dev. of 7 runs, 100 loops each)\n"
     ]
    }
   ],
   "source": [
    "%timeit min(big_array) \n",
    "%timeit np.min(big_array)"
   ]
  },
  {
   "cell_type": "raw",
   "id": "3df0a99b-9a2d-4de7-974c-283d52329d4b",
   "metadata": {},
   "source": [
    "For min, max, sum, and several other NumPy aggregates, a shorter syntax is to use methods of the array object itself"
   ]
  },
  {
   "cell_type": "code",
   "execution_count": 7,
   "id": "a9c6b7e4-7f39-4031-b293-e83e2e87a99f",
   "metadata": {},
   "outputs": [
    {
     "name": "stdout",
     "output_type": "stream",
     "text": [
      "1.6162154070631374e-07 0.9999997100898703 500251.89914447494\n"
     ]
    }
   ],
   "source": [
    "print(big_array.min(), big_array.max(), big_array.sum())"
   ]
  },
  {
   "cell_type": "markdown",
   "id": "5354238b-9dd8-4562-9230-53df7b46665d",
   "metadata": {},
   "source": [
    "## Multidimensional Aggregates"
   ]
  },
  {
   "cell_type": "code",
   "execution_count": 9,
   "id": "abc21f19-4cc8-4629-9e00-de6960686ce5",
   "metadata": {},
   "outputs": [
    {
     "data": {
      "text/plain": [
       "array([[1, 9, 7, 9],\n",
       "       [0, 4, 7, 3],\n",
       "       [2, 0, 6, 6]])"
      ]
     },
     "execution_count": 9,
     "metadata": {},
     "output_type": "execute_result"
    }
   ],
   "source": [
    "M = rng.integers(0, 10, (3,4))\n",
    "M"
   ]
  },
  {
   "cell_type": "code",
   "execution_count": 10,
   "id": "cdbd4a72-98bc-499b-b8f4-75b2014fa5bf",
   "metadata": {},
   "outputs": [
    {
     "data": {
      "text/plain": [
       "54"
      ]
     },
     "execution_count": 10,
     "metadata": {},
     "output_type": "execute_result"
    }
   ],
   "source": [
    "M.sum()"
   ]
  },
  {
   "cell_type": "code",
   "execution_count": 11,
   "id": "8ec9faf7-b464-4161-bf33-eac7dc4ace29",
   "metadata": {},
   "outputs": [
    {
     "data": {
      "text/plain": [
       "array([0, 0, 6, 3])"
      ]
     },
     "execution_count": 11,
     "metadata": {},
     "output_type": "execute_result"
    }
   ],
   "source": [
    "# we can find the minimum value within each column by specifying axis=0\n",
    "\n",
    "M.min(axis=0)"
   ]
  },
  {
   "cell_type": "code",
   "execution_count": 12,
   "id": "433a56f6-4068-4fee-8ba7-ead7ea0c846e",
   "metadata": {},
   "outputs": [
    {
     "data": {
      "text/plain": [
       "array([9, 7, 6])"
      ]
     },
     "execution_count": 12,
     "metadata": {},
     "output_type": "execute_result"
    }
   ],
   "source": [
    "M.max(axis=1)"
   ]
  },
  {
   "cell_type": "raw",
   "id": "ffeea217-3377-4421-b6e1-cf10a6a46c88",
   "metadata": {},
   "source": [
    "The axis keyword specifies the dimension of the array that will be collapsed, not the dimension that will be returned.\n",
    "So, specifying axis=0 means that axis 0 will be collapsed"
   ]
  },
  {
   "cell_type": "markdown",
   "id": "cd5e75ca-ef02-4d7f-9daf-e6e3a11732f1",
   "metadata": {},
   "source": [
    "## Other Aggregation Functions"
   ]
  },
  {
   "cell_type": "raw",
   "id": "e8977770-93d5-4792-99c3-a2da566ad809",
   "metadata": {},
   "source": [
    "NumPy provides several other aggregation functions with a similar API, and additionally most have a NaN-safe counterpart that computes the result while ignoring missing values, which are marked by the special IEEE floating-point NaN value."
   ]
  },
  {
   "cell_type": "markdown",
   "id": "a161c67a-62e8-42f4-a555-81279886a938",
   "metadata": {},
   "source": [
    "## Example: What Is the Average Height of US Presidents?"
   ]
  },
  {
   "cell_type": "code",
   "execution_count": 13,
   "id": "35111567-73bf-40cd-9676-1ecd884382bd",
   "metadata": {},
   "outputs": [
    {
     "name": "stdout",
     "output_type": "stream",
     "text": [
      "order,name,height(cm)\n",
      "1,George Washington,189\n",
      "2,John Adams,170\n",
      "3,Thomas Jefferson,189\n",
      "4,James Madison,163\n",
      "5,James Monroe,183\n",
      "6,John Quincy Adams,171\n",
      "7,Andrew Jackson,185\n",
      "8,Martin Van Buren,168\n",
      "9,William Henry Harrison,173\n"
     ]
    }
   ],
   "source": [
    "!head data/president_heights.csv"
   ]
  },
  {
   "cell_type": "code",
   "execution_count": 15,
   "id": "473d9ea6-c08f-48bf-b26e-043e86c41349",
   "metadata": {},
   "outputs": [
    {
     "name": "stdout",
     "output_type": "stream",
     "text": [
      "[189 170 189 163 183 171 185 168 173 183 173 173 175 178 183 193 178 173\n",
      " 174 183 183 168 170 178 182 180 183 178 182 188 175 179 183 193 182 183\n",
      " 177 185 188 188 182 185 191 182]\n"
     ]
    }
   ],
   "source": [
    "import pandas as pd\n",
    "data = pd.read_csv('data/president_heights.csv') \n",
    "heights = np.array(data['height(cm)']) \n",
    "print(heights)"
   ]
  },
  {
   "cell_type": "code",
   "execution_count": 16,
   "id": "301d27fc-ea1c-4e9f-aea9-e721ec54d827",
   "metadata": {},
   "outputs": [
    {
     "name": "stdout",
     "output_type": "stream",
     "text": [
      "Mean height:        180.04545454545453\n",
      "Standard deviation: 6.983599441335736\n",
      "Minimum height:     163\n",
      "Maximum height:     193\n"
     ]
    }
   ],
   "source": [
    "print(\"Mean height:       \", heights.mean())\n",
    "print(\"Standard deviation:\", heights.std())\n",
    "print(\"Minimum height:    \", heights.min())\n",
    "print(\"Maximum height:    \", heights.max())"
   ]
  },
  {
   "cell_type": "code",
   "execution_count": 17,
   "id": "95f80488-c9a3-4c03-9bcc-66e9c46d8914",
   "metadata": {},
   "outputs": [
    {
     "name": "stdout",
     "output_type": "stream",
     "text": [
      "25th percentile:  174.75\n",
      "Median:  182.0\n",
      "75th percentile:  183.5\n"
     ]
    }
   ],
   "source": [
    "print(\"25th percentile: \", np.percentile(heights, 25))\n",
    "print(\"Median: \", np.median(heights))\n",
    "print(\"75th percentile: \", np.percentile(heights, 75))"
   ]
  },
  {
   "cell_type": "code",
   "execution_count": 18,
   "id": "34ed52ff-8534-4285-afcf-b14719b9f9a2",
   "metadata": {},
   "outputs": [],
   "source": [
    "%matplotlib inline\n",
    "import matplotlib.pyplot as plt\n",
    "plt.style.use('seaborn-whitegrid')"
   ]
  },
  {
   "cell_type": "code",
   "execution_count": 21,
   "id": "27a54a33-03c2-43bf-95bc-7c94776abceb",
   "metadata": {},
   "outputs": [
    {
     "data": {
      "image/png": "[encoded data removed]",
      "text/plain": [
       "<Figure size 640x480 with 1 Axes>"
      ]
     },
     "metadata": {},
     "output_type": "display_data"
    }
   ],
   "source": [
    "plt.hist(heights)\n",
    "plt.title('Height Distribution of US Presidents')\n",
    "plt.xlabel('height (cm)')\n",
    "plt.ylabel('number');   # ; is used to prevent any output"
   ]
  },
  {
   "cell_type": "code",
   "execution_count": null,
   "id": "df730125-5524-4263-a532-78b2f9960516",
   "metadata": {},
   "outputs": [],
   "source": []
  }
 ],
 "metadata": {
  "kernelspec": {
   "display_name": "Python 3 (ipykernel)",
   "language": "python",
   "name": "python3"
  },
  "language_info": {
   "codemirror_mode": {
    "name": "ipython",
    "version": 3
   },
   "file_extension": ".py",
   "mimetype": "text/x-python",
   "name": "python",
   "nbconvert_exporter": "python",
   "pygments_lexer": "ipython3",
   "version": "3.9.13"
  },
  "toc-autonumbering": false,
  "toc-showmarkdowntxt": false
 },
 "nbformat": 4,
 "nbformat_minor": 5
}
