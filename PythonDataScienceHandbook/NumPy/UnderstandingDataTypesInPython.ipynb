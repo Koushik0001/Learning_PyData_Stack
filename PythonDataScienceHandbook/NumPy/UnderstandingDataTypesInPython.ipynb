{
 "cells": [
  {
   "cell_type": "markdown",
   "id": "1fb248c6-76f1-431f-bf4b-fee423a13367",
   "metadata": {},
   "source": [
    "# <u>Understanding Data Types in Python</u>"
   ]
  },
  {
   "cell_type": "markdown",
   "id": "cffde1e3-ce26-46aa-bd0e-baf9706c6dc1",
   "metadata": {},
   "source": [
    "### Fixed-Type Arrays in Python"
   ]
  },
  {
   "cell_type": "raw",
   "id": "eb6a6d72-3a79-4dc8-9df5-9cd9d9666500",
   "metadata": {},
   "source": [
    "Python offers several different options for storing data in efficient, fixed-type data buffers.\n",
    "The built-in array module (available since Python 3.3) can be used to create dense arrays of a uniform type"
   ]
  },
  {
   "cell_type": "code",
   "execution_count": 2,
   "id": "48fdd4b6-e7bf-401b-9094-7dae0cca75db",
   "metadata": {},
   "outputs": [
    {
     "data": {
      "text/plain": [
       "array('i', [0, 1, 2, 3, 4, 5, 6, 7, 8, 9])"
      ]
     },
     "execution_count": 2,
     "metadata": {},
     "output_type": "execute_result"
    }
   ],
   "source": [
    "import array\n",
    "L = list(range(10))\n",
    "A = array.array('i', L) # Here, 'i' is a type code indicating the contents are integers.\n",
    "A"
   ]
  },
  {
   "cell_type": "markdown",
   "id": "cf4187d0-abd5-405a-9d26-0a3a9aa8e4f4",
   "metadata": {},
   "source": [
    "### Creating Arrays from Python Lists"
   ]
  },
  {
   "cell_type": "code",
   "execution_count": 3,
   "id": "728834d7-4be9-4646-af56-ed67897bae9c",
   "metadata": {},
   "outputs": [],
   "source": [
    "import numpy as np"
   ]
  },
  {
   "cell_type": "code",
   "execution_count": 4,
   "id": "2eee2cb7-3464-4039-af82-9572acbac61c",
   "metadata": {},
   "outputs": [
    {
     "data": {
      "text/plain": [
       "array([1, 4, 2, 5, 3])"
      ]
     },
     "execution_count": 4,
     "metadata": {},
     "output_type": "execute_result"
    }
   ],
   "source": [
    "# Integer array \n",
    "np.array([1, 4, 2, 5, 3])"
   ]
  },
  {
   "cell_type": "raw",
   "id": "a4ccd699-dfc1-4a36-93a7-bc66321a2eb5",
   "metadata": {},
   "source": [
    "Unlike Python lists, NumPy arrays can only contain data of the same type.\n",
    "If the types do not match, NumPy will upcast them according to its type promotion rules."
   ]
  },
  {
   "cell_type": "code",
   "execution_count": 6,
   "id": "85197d21-7994-4431-8635-e25968fa0536",
   "metadata": {},
   "outputs": [
    {
     "data": {
      "text/plain": [
       "array([3.14, 4.  , 2.  , 3.  ])"
      ]
     },
     "execution_count": 6,
     "metadata": {},
     "output_type": "execute_result"
    }
   ],
   "source": [
    "# here, integers are upcast to floating point\n",
    "np.array([3.14, 4, 2, 3])"
   ]
  },
  {
   "cell_type": "raw",
   "id": "1d8a6730-fda1-4225-9882-a7b7dfc70be7",
   "metadata": {},
   "source": [
    "If we want to explicitly set the data type of the resulting array, we can use the dtype keyword"
   ]
  },
  {
   "cell_type": "code",
   "execution_count": 7,
   "id": "d75dda0d-1e53-467a-b174-73a72c91a5e9",
   "metadata": {},
   "outputs": [
    {
     "data": {
      "text/plain": [
       "array([1., 2., 3., 4., 5.], dtype=float32)"
      ]
     },
     "execution_count": 7,
     "metadata": {},
     "output_type": "execute_result"
    }
   ],
   "source": [
    "np.array([1, 2, 3, 4, 5], dtype=np.float32)"
   ]
  },
  {
   "cell_type": "code",
   "execution_count": 8,
   "id": "ebca6c66-fab2-413f-9ec2-6fa9368e2278",
   "metadata": {},
   "outputs": [
    {
     "data": {
      "text/plain": [
       "array([3, 4, 2, 3], dtype=int32)"
      ]
     },
     "execution_count": 8,
     "metadata": {},
     "output_type": "execute_result"
    }
   ],
   "source": [
    "np.array([3.14, 4, 2, 3], dtype=np.int32)"
   ]
  },
  {
   "cell_type": "code",
   "execution_count": 12,
   "id": "6c7ac472-6dac-426b-b108-58e0b5f79ece",
   "metadata": {},
   "outputs": [
    {
     "data": {
      "text/plain": [
       "array([[2, 3, 4],\n",
       "       [4, 5, 6],\n",
       "       [6, 7, 8]])"
      ]
     },
     "execution_count": 12,
     "metadata": {},
     "output_type": "execute_result"
    }
   ],
   "source": [
    "# Nested lists result in multidimensional arrays\n",
    "# The inner lists are treated as rows of the resulting two-dimensional array\n",
    "\n",
    "np.array([range(i, i+3) for i in [2, 4, 6]])"
   ]
  },
  {
   "cell_type": "markdown",
   "id": "57650960-70bf-4fef-89f2-a109bdfcffc7",
   "metadata": {},
   "source": [
    "### Creating Arrays from Scratch"
   ]
  },
  {
   "cell_type": "code",
   "execution_count": 15,
   "id": "8ec3abfa-099f-40d0-84db-f8ae3a14bb2d",
   "metadata": {},
   "outputs": [
    {
     "data": {
      "text/plain": [
       "array([0, 0, 0, 0, 0, 0, 0, 0, 0, 0])"
      ]
     },
     "execution_count": 15,
     "metadata": {},
     "output_type": "execute_result"
    }
   ],
   "source": [
    "# Create a length-10 integer array filled with 0s\n",
    "\n",
    "np.zeros(10, dtype=int)"
   ]
  },
  {
   "cell_type": "code",
   "execution_count": 17,
   "id": "8cdcc60a-60b7-492e-a99a-a7a0cac9ad15",
   "metadata": {},
   "outputs": [
    {
     "data": {
      "text/plain": [
       "array([[1., 1., 1., 1., 1.],\n",
       "       [1., 1., 1., 1., 1.],\n",
       "       [1., 1., 1., 1., 1.]])"
      ]
     },
     "execution_count": 17,
     "metadata": {},
     "output_type": "execute_result"
    }
   ],
   "source": [
    "# Create a 3x5 floating-point array filled with 1s\n",
    "\n",
    "np.ones((3,5), dtype=float)"
   ]
  },
  {
   "cell_type": "code",
   "execution_count": 20,
   "id": "9062735c-c9b8-4bbf-880e-3da54fd152fb",
   "metadata": {},
   "outputs": [
    {
     "data": {
      "text/plain": [
       "array([[3.14, 3.14, 3.14, 3.14, 3.14],\n",
       "       [3.14, 3.14, 3.14, 3.14, 3.14],\n",
       "       [3.14, 3.14, 3.14, 3.14, 3.14]])"
      ]
     },
     "execution_count": 20,
     "metadata": {},
     "output_type": "execute_result"
    }
   ],
   "source": [
    " # Create a 3x5 array filled with 3.14\n",
    "\n",
    "np.full((3, 5), 3.14)"
   ]
  },
  {
   "cell_type": "code",
   "execution_count": 23,
   "id": "5f0d0f2a-9d6e-4c96-bdf5-642b7dffa1d5",
   "metadata": {},
   "outputs": [
    {
     "data": {
      "text/plain": [
       "array([ 0,  2,  4,  6,  8, 10, 12, 14, 16, 18])"
      ]
     },
     "execution_count": 23,
     "metadata": {},
     "output_type": "execute_result"
    }
   ],
   "source": [
    "# Create an array filled with a linear sequence\n",
    "# starting at 0, ending at 20, stepping by 2\n",
    "# (this is similar to the built-in range function)\n",
    "\n",
    "np.arange(0, 20, 2)"
   ]
  },
  {
   "cell_type": "code",
   "execution_count": 26,
   "id": "0189a498-fd71-4816-9f64-ed77a2e46b4b",
   "metadata": {},
   "outputs": [
    {
     "data": {
      "text/plain": [
       "array([0.  , 0.25, 0.5 , 0.75, 1.  ])"
      ]
     },
     "execution_count": 26,
     "metadata": {},
     "output_type": "execute_result"
    }
   ],
   "source": [
    "# Create an array of five values evenly spaced between 0 and 1\n",
    "\n",
    "np.linspace(0, 1, 5)"
   ]
  },
  {
   "cell_type": "code",
   "execution_count": 32,
   "id": "0195d251-3280-4d27-a674-ba33a24ca4f0",
   "metadata": {},
   "outputs": [
    {
     "data": {
      "text/plain": [
       "array([[0.96411724, 0.7589644 , 0.06456892, 0.36515828, 0.22120458],\n",
       "       [0.69776963, 0.26879389, 0.72921967, 0.30815214, 0.10133107],\n",
       "       [0.38491361, 0.7612069 , 0.52169829, 0.2969258 , 0.56564009]])"
      ]
     },
     "execution_count": 32,
     "metadata": {},
     "output_type": "execute_result"
    }
   ],
   "source": [
    "# Create a 3x3 array of uniformly distributed pseudorandom values between 0 and 1\n",
    "\n",
    "np.random.random((3, 5))"
   ]
  },
  {
   "cell_type": "code",
   "execution_count": 37,
   "id": "268f0b6b-fb74-4fc5-939b-7d2c1ebc1a96",
   "metadata": {},
   "outputs": [
    {
     "data": {
      "text/plain": [
       "array([[ 0.31090574, -1.10398255,  0.2668496 ],\n",
       "       [-0.18172794, -0.49218978,  0.94616604],\n",
       "       [-1.08999447,  0.80491472, -0.31153161]])"
      ]
     },
     "execution_count": 37,
     "metadata": {},
     "output_type": "execute_result"
    }
   ],
   "source": [
    "# Create a 3x3 array of normally distributed pseudorandom values with mean 0 and standard deviation 1\n",
    "\n",
    "np.random.normal(0, 1, (3, 3))"
   ]
  },
  {
   "cell_type": "code",
   "execution_count": 39,
   "id": "8b6b0633-4f25-43ba-9919-84df692dc577",
   "metadata": {},
   "outputs": [
    {
     "data": {
      "text/plain": [
       "array([[3, 8, 0],\n",
       "       [7, 3, 4],\n",
       "       [3, 5, 6]])"
      ]
     },
     "execution_count": 39,
     "metadata": {},
     "output_type": "execute_result"
    }
   ],
   "source": [
    "# Create a 3x3 array of pseudorandom integers in the interval [0, 10)\n",
    "\n",
    "np.random.randint(0, 10, (3,3))"
   ]
  },
  {
   "cell_type": "code",
   "execution_count": 46,
   "id": "60170fc0-9709-4487-a2cd-47d466953359",
   "metadata": {},
   "outputs": [
    {
     "data": {
      "text/plain": [
       "array([[1., 0., 0.],\n",
       "       [0., 1., 0.],\n",
       "       [0., 0., 1.]])"
      ]
     },
     "execution_count": 46,
     "metadata": {},
     "output_type": "execute_result"
    }
   ],
   "source": [
    "# Create a 3x3 identity matrix\n",
    "\n",
    "np.eye(3)"
   ]
  },
  {
   "cell_type": "code",
   "execution_count": 55,
   "id": "66eb7a04-1966-49da-ab70-9ae133dcc54d",
   "metadata": {},
   "outputs": [
    {
     "data": {
      "text/plain": [
       "array([0., 0., 0.])"
      ]
     },
     "execution_count": 55,
     "metadata": {},
     "output_type": "execute_result"
    }
   ],
   "source": [
    "# Create an uninitialized array of three integers\n",
    "# the values will be whatever happens to already exist at that memory location\n",
    "\n",
    "np.empty(3)"
   ]
  },
  {
   "cell_type": "markdown",
   "id": "bb42d127-bf71-487f-8916-d657ef075ab0",
   "metadata": {},
   "source": [
    "## NumPy Standard Data Types"
   ]
  },
  {
   "cell_type": "raw",
   "id": "3d6a932f-5e9f-4fa0-af21-db3199656279",
   "metadata": {},
   "source": [
    "NumPy arrays contain values of a single type"
   ]
  },
  {
   "cell_type": "code",
   "execution_count": 57,
   "id": "eed0ff4c-d2ae-4fee-ac77-8b3e250a5101",
   "metadata": {},
   "outputs": [
    {
     "data": {
      "text/plain": [
       "array([0, 0, 0, 0, 0, 0, 0, 0, 0, 0], dtype=int16)"
      ]
     },
     "execution_count": 57,
     "metadata": {},
     "output_type": "execute_result"
    }
   ],
   "source": [
    "# when constructing an array, the data type can be specified using a string\n",
    "np.zeros(10, dtype='int16')\n",
    "\n",
    "# Or using the associated NumPy object\n",
    "# using numpy object is better because we can use <TAB> to see the available data types\n",
    "np.zeros(10, dtype=np.int16)"
   ]
  },
  {
   "cell_type": "raw",
   "id": "14c2f943-f897-4e22-a153-dc088a59f8d1",
   "metadata": {},
   "source": [
    "More advanced type specification is possible, such as specifying big- or little-endian numbers"
   ]
  }
 ],
 "metadata": {
  "kernelspec": {
   "display_name": "Python 3 (ipykernel)",
   "language": "python",
   "name": "python3"
  },
  "language_info": {
   "codemirror_mode": {
    "name": "ipython",
    "version": 3
   },
   "file_extension": ".py",
   "mimetype": "text/x-python",
   "name": "python",
   "nbconvert_exporter": "python",
   "pygments_lexer": "ipython3",
   "version": "3.9.13"
  }
 },
 "nbformat": 4,
 "nbformat_minor": 5
}
