{
 "cells": [
  {
   "cell_type": "markdown",
   "id": "0e8b8e2f-1a94-4a09-917f-be9a0a9bf0c6",
   "metadata": {},
   "source": [
    "# <u>Structured Data: NumPy’s Structured Arrays</u>"
   ]
  },
  {
   "cell_type": "code",
   "execution_count": 1,
   "id": "0821f9d3-2fe8-47af-b9e1-a48ce1a19d6e",
   "metadata": {},
   "outputs": [],
   "source": [
    "import numpy as np"
   ]
  },
  {
   "cell_type": "code",
   "execution_count": 2,
   "id": "d02a4ae2-dc63-4683-87a7-00dc87600c29",
   "metadata": {},
   "outputs": [],
   "source": [
    "name = ['Alice', 'Bob', 'Cathy', 'Doug']\n",
    "age = [25, 45, 37, 19]\n",
    "weight = [55.0, 85.5, 68.0, 61.5]"
   ]
  },
  {
   "cell_type": "code",
   "execution_count": 4,
   "id": "507259dd-6df7-4e18-9bca-514b1a2adb94",
   "metadata": {},
   "outputs": [
    {
     "name": "stdout",
     "output_type": "stream",
     "text": [
      "[('name', '<U10'), ('age', '<i4'), ('weight', '<f8')]\n"
     ]
    }
   ],
   "source": [
    "# We can similarly create a structured array using a compound data type specification\n",
    "\n",
    "# Use a compound data type for structured arrays\n",
    "\n",
    "# Here,  \n",
    "# 'U10' translates to “Unicode string of maximum length 10,” \n",
    "# 'i4' translates to “4-byte (i.e., 32-bit) integer,” and \n",
    "# 'f8' translates to “8-byte (i.e., 64-bit) float.\n",
    "data = np.zeros(4, dtype={'names':('name', 'age', 'weight'),\n",
    "                          'formats':('U10', 'i4', 'f8')})\n",
    "print(data.dtype)"
   ]
  },
  {
   "cell_type": "code",
   "execution_count": 5,
   "id": "c72ccc78-e8b0-4d1e-98ba-2791f9123958",
   "metadata": {},
   "outputs": [],
   "source": [
    "data['name'] = name\n",
    "data['age'] = age\n",
    "data['weight'] = weight"
   ]
  },
  {
   "cell_type": "code",
   "execution_count": 6,
   "id": "34b2c095-fc07-484b-854a-5a2b8062a8f1",
   "metadata": {},
   "outputs": [
    {
     "name": "stdout",
     "output_type": "stream",
     "text": [
      "[('Alice', 25, 55. ) ('Bob', 45, 85.5) ('Cathy', 37, 68. )\n",
      " ('Doug', 19, 61.5)]\n"
     ]
    }
   ],
   "source": [
    "print(data)"
   ]
  },
  {
   "cell_type": "code",
   "execution_count": 7,
   "id": "6e5a5ffa-5b79-43bf-9a80-3834cd589600",
   "metadata": {},
   "outputs": [
    {
     "data": {
      "text/plain": [
       "array(['Alice', 'Bob', 'Cathy', 'Doug'], dtype='<U10')"
      ]
     },
     "execution_count": 7,
     "metadata": {},
     "output_type": "execute_result"
    }
   ],
   "source": [
    "# Get all names \n",
    "data['name']"
   ]
  },
  {
   "cell_type": "code",
   "execution_count": 8,
   "id": "8175c3d5-257d-419e-b243-412dd1416192",
   "metadata": {},
   "outputs": [
    {
     "data": {
      "text/plain": [
       "('Alice', 25, 55.)"
      ]
     },
     "execution_count": 8,
     "metadata": {},
     "output_type": "execute_result"
    }
   ],
   "source": [
    "# Get first row of data \n",
    "data[0]"
   ]
  },
  {
   "cell_type": "code",
   "execution_count": 9,
   "id": "4eb06d8e-d141-4991-b5b3-871db388fa29",
   "metadata": {},
   "outputs": [
    {
     "data": {
      "text/plain": [
       "'Doug'"
      ]
     },
     "execution_count": 9,
     "metadata": {},
     "output_type": "execute_result"
    }
   ],
   "source": [
    "# Get the name from the last row \n",
    "data[-1]['name']"
   ]
  },
  {
   "cell_type": "code",
   "execution_count": 10,
   "id": "3e1bd203-4ffa-4d12-a8da-cc895e467e9d",
   "metadata": {},
   "outputs": [
    {
     "data": {
      "text/plain": [
       "array(['Alice', 'Doug'], dtype='<U10')"
      ]
     },
     "execution_count": 10,
     "metadata": {},
     "output_type": "execute_result"
    }
   ],
   "source": [
    "# Get names where age is under 30 \n",
    "data[data['age'] < 30]['name']"
   ]
  },
  {
   "cell_type": "raw",
   "id": "5d6f125d-71fe-4217-bc38-bc3acbaeed24",
   "metadata": {},
   "source": [
    "If you’d like to do any operations that are any more complicated than these, you should probably consider the Pandas package."
   ]
  },
  {
   "cell_type": "markdown",
   "id": "1fe65d2f-be0d-4663-953c-7f5d0fc70237",
   "metadata": {},
   "source": [
    "## Exploring Structured Array Creation"
   ]
  },
  {
   "cell_type": "code",
   "execution_count": 12,
   "id": "e0d05691-d509-44b2-9751-80d4909c1226",
   "metadata": {},
   "outputs": [
    {
     "data": {
      "text/plain": [
       "dtype([('name', '<U10'), ('age', '<i8'), ('weight', '<f4')])"
      ]
     },
     "execution_count": 12,
     "metadata": {},
     "output_type": "execute_result"
    }
   ],
   "source": [
    "# numerical types can be specified using Python types or NumPy dtypes instead\n",
    "\n",
    "np.dtype({'names':('name', 'age', 'weight'),\n",
    "          'formats':((np.str_, 10), int, np.float32)})"
   ]
  },
  {
   "cell_type": "code",
   "execution_count": 13,
   "id": "02f5b8be-da0c-4dda-ba0f-6da2659d2bf3",
   "metadata": {},
   "outputs": [
    {
     "data": {
      "text/plain": [
       "dtype([('name', 'S10'), ('age', '<i4'), ('weight', '<f8')])"
      ]
     },
     "execution_count": 13,
     "metadata": {},
     "output_type": "execute_result"
    }
   ],
   "source": [
    "# A compound type can also be specified as a list of tuples\n",
    "\n",
    "np.dtype([('name', 'S10'), ('age', 'i4'), ('weight', 'f8')])"
   ]
  },
  {
   "cell_type": "code",
   "execution_count": 14,
   "id": "99f500d9-b862-4044-a251-23b9308dd764",
   "metadata": {},
   "outputs": [
    {
     "data": {
      "text/plain": [
       "dtype([('f0', 'S10'), ('f1', '<i4'), ('f2', '<f8')])"
      ]
     },
     "execution_count": 14,
     "metadata": {},
     "output_type": "execute_result"
    }
   ],
   "source": [
    "# If the names of the types do not matter to you, you can specify the types alone in a comma-separated string\n",
    "\n",
    "np.dtype('S10,i4,f8')"
   ]
  },
  {
   "cell_type": "raw",
   "id": "b456f410-4d0a-46dd-a919-c60d9ce1c6b6",
   "metadata": {},
   "source": [
    "The shortened string format codes may not be immediately intuitive, but they are built on simple principles. \n",
    "    The first (optional) character '<' or '>', means “little endian” or “big endian,” respectively\n",
    "    The next character specifies the type of data: characters, bytes, ints, floating points, and so on \n",
    "    The last character or characters represent the size of the object in bytes"
   ]
  },
  {
   "cell_type": "markdown",
   "id": "1b40a2a2-8c6b-4c0b-b278-51a0050c2e22",
   "metadata": {},
   "source": [
    "## More Advanced Compound Types"
   ]
  },
  {
   "cell_type": "raw",
   "id": "939e4859-1e1e-4bd2-84e3-76f55a1b7f07",
   "metadata": {},
   "source": [
    "Here, we’ll create a data type with a mat component consisting of a 3 × 3 floating-point matrix"
   ]
  },
  {
   "cell_type": "code",
   "execution_count": 16,
   "id": "7a47ff46-fabb-48bc-8dc3-93cf60c46163",
   "metadata": {},
   "outputs": [
    {
     "name": "stdout",
     "output_type": "stream",
     "text": [
      "(0, [[0., 0., 0.], [0., 0., 0.], [0., 0., 0.]])\n",
      "[[0. 0. 0.]\n",
      " [0. 0. 0.]\n",
      " [0. 0. 0.]]\n"
     ]
    }
   ],
   "source": [
    "tp = np.dtype([('id', 'i8'), ('mat', 'f8', (3, 3))])\n",
    "X = np.zeros(1, dtype=tp)\n",
    "print(X[0])\n",
    "print(X['mat'][0])"
   ]
  },
  {
   "cell_type": "raw",
   "id": "3477ee8d-5dd8-404a-8f13-b8cc51d3ab7e",
   "metadata": {},
   "source": [
    "Now each element in the X array consists of an id and a 3 × 3 matrix"
   ]
  },
  {
   "cell_type": "markdown",
   "id": "da89b163-33cc-4d9b-aabb-532a1eb7f685",
   "metadata": {},
   "source": [
    "## Record Arrays: Structured Arrays with a Twist"
   ]
  },
  {
   "cell_type": "raw",
   "id": "f0c3d4c9-07b9-4911-9e4a-0d8d16ec0dea",
   "metadata": {},
   "source": [
    "NumPy also provides record arrays (instances of the np.recarray class), which are almost identical to the structured arrays just described, but \n",
    "with one additional feature: fields can be accessed as attributes rather than as dictionary keys."
   ]
  },
  {
   "cell_type": "code",
   "execution_count": 18,
   "id": "1ed2369e-d1f6-41c9-b52d-25d4dd7c27b5",
   "metadata": {},
   "outputs": [
    {
     "data": {
      "text/plain": [
       "array([('Alice', 25, 55. ), ('Bob', 45, 85.5), ('Cathy', 37, 68. ),\n",
       "       ('Doug', 19, 61.5)],\n",
       "      dtype=[('name', '<U10'), ('age', '<i4'), ('weight', '<f8')])"
      ]
     },
     "execution_count": 18,
     "metadata": {},
     "output_type": "execute_result"
    }
   ],
   "source": [
    "data"
   ]
  },
  {
   "cell_type": "code",
   "execution_count": 17,
   "id": "cf4a672c-265e-4035-a533-2a44bc13d3e6",
   "metadata": {},
   "outputs": [
    {
     "data": {
      "text/plain": [
       "array([25, 45, 37, 19], dtype=int32)"
      ]
     },
     "execution_count": 17,
     "metadata": {},
     "output_type": "execute_result"
    }
   ],
   "source": [
    "data_rec = data.view(np.recarray)\n",
    "data_rec.age"
   ]
  },
  {
   "cell_type": "code",
   "execution_count": 19,
   "id": "754ea73f-9537-42d3-9fd5-9d01e1545a24",
   "metadata": {},
   "outputs": [
    {
     "name": "stdout",
     "output_type": "stream",
     "text": [
      "90.6 ns ± 0.0202 ns per loop (mean ± std. dev. of 7 runs, 10,000,000 loops each)\n",
      "1.42 µs ± 5.28 ns per loop (mean ± std. dev. of 7 runs, 1,000,000 loops each)\n",
      "2.15 µs ± 5.17 ns per loop (mean ± std. dev. of 7 runs, 100,000 loops each)\n"
     ]
    }
   ],
   "source": [
    "# The downside is that for record arrays, there is some extra overhead involved in accessing the fields, even when using the same syntax\n",
    "\n",
    "%timeit data['age'] \n",
    "%timeit data_rec['age']\n",
    "%timeit data_rec.age"
   ]
  }
 ],
 "metadata": {
  "kernelspec": {
   "display_name": "Python 3 (ipykernel)",
   "language": "python",
   "name": "python3"
  },
  "language_info": {
   "codemirror_mode": {
    "name": "ipython",
    "version": 3
   },
   "file_extension": ".py",
   "mimetype": "text/x-python",
   "name": "python",
   "nbconvert_exporter": "python",
   "pygments_lexer": "ipython3",
   "version": "3.9.13"
  }
 },
 "nbformat": 4,
 "nbformat_minor": 5
}
