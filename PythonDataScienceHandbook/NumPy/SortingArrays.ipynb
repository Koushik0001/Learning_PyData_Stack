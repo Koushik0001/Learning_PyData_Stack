{
 "cells": [
  {
   "cell_type": "markdown",
   "id": "4474a5a4-06bb-4cb1-aada-81a4729e958a",
   "metadata": {},
   "source": [
    "# <u>Sorting Arrays</u>"
   ]
  },
  {
   "cell_type": "code",
   "execution_count": 1,
   "id": "7c7db3c1-8229-429c-b312-ddea3d3ac993",
   "metadata": {},
   "outputs": [
    {
     "data": {
      "text/plain": [
       "[1, 1, 2, 3, 4, 5, 6, 9]"
      ]
     },
     "execution_count": 1,
     "metadata": {},
     "output_type": "execute_result"
    }
   ],
   "source": [
    "L = [3,1,4,1,5,9,2,6] \n",
    "sorted(L) # returns a sorted copy"
   ]
  },
  {
   "cell_type": "code",
   "execution_count": 2,
   "id": "66275c07-d0a1-46a0-ad1f-beb3b7ee86c3",
   "metadata": {},
   "outputs": [
    {
     "name": "stdout",
     "output_type": "stream",
     "text": [
      "[1, 1, 2, 3, 4, 5, 6, 9]\n"
     ]
    }
   ],
   "source": [
    "# By contrast, the sort method of lists will sort the list in-place\n",
    "\n",
    "L.sort() # acts in-place and returns None \n",
    "print(L)"
   ]
  },
  {
   "cell_type": "code",
   "execution_count": 3,
   "id": "e8cd4353-f13c-4882-b514-bbddaf81d344",
   "metadata": {},
   "outputs": [
    {
     "data": {
      "text/plain": [
       "['h', 'n', 'o', 'p', 't', 'y']"
      ]
     },
     "execution_count": 3,
     "metadata": {},
     "output_type": "execute_result"
    }
   ],
   "source": [
    "sorted('python')"
   ]
  },
  {
   "cell_type": "markdown",
   "id": "e5bcf036-58cc-4cf9-8675-b409ac321b7a",
   "metadata": {},
   "source": [
    "## Fast Sorting in NumPy: np.sort and np.argsort"
   ]
  },
  {
   "cell_type": "code",
   "execution_count": 4,
   "id": "10329fae-89de-488b-a00c-edf272e1f8f8",
   "metadata": {},
   "outputs": [],
   "source": [
    "import numpy as np"
   ]
  },
  {
   "cell_type": "raw",
   "id": "5ea48349-6cef-437d-8917-74aadf161794",
   "metadata": {},
   "source": [
    "The np.sort function is analogous to Python’s built-in sorted function.\n",
    "It efficiently returns a sorted copy of an array."
   ]
  },
  {
   "cell_type": "code",
   "execution_count": 5,
   "id": "f1e22981-24c8-472c-8020-5ed3038a6cb5",
   "metadata": {},
   "outputs": [
    {
     "data": {
      "text/plain": [
       "array([1, 2, 3, 4, 5])"
      ]
     },
     "execution_count": 5,
     "metadata": {},
     "output_type": "execute_result"
    }
   ],
   "source": [
    "x = np.array([2, 1, 4, 3, 5])\n",
    "np.sort(x)"
   ]
  },
  {
   "cell_type": "code",
   "execution_count": 6,
   "id": "b7dd735e-daae-48c6-833f-19dba47658d0",
   "metadata": {},
   "outputs": [
    {
     "data": {
      "text/plain": [
       "array([1, 2, 3, 4, 5])"
      ]
     },
     "execution_count": 6,
     "metadata": {},
     "output_type": "execute_result"
    }
   ],
   "source": [
    "# Similarly to the sort method of Python lists, you can also sort an array in-place using the array sort method\n",
    "\n",
    "x.sort()\n",
    "x"
   ]
  },
  {
   "cell_type": "code",
   "execution_count": 7,
   "id": "c122d199-e223-4e39-a6d5-56bbb1246fd9",
   "metadata": {},
   "outputs": [
    {
     "data": {
      "text/plain": [
       "array([1, 0, 3, 2, 4])"
      ]
     },
     "execution_count": 7,
     "metadata": {},
     "output_type": "execute_result"
    }
   ],
   "source": [
    "# A related function is argsort, which instead returns the indices of the sorted elements\n",
    "\n",
    "x = np.array([2, 1, 4, 3, 5])\n",
    "i = np.argsort(x)\n",
    "i"
   ]
  },
  {
   "cell_type": "code",
   "execution_count": 8,
   "id": "ef7183a6-9189-461d-848e-442f2994b318",
   "metadata": {},
   "outputs": [
    {
     "data": {
      "text/plain": [
       "array([1, 2, 3, 4, 5])"
      ]
     },
     "execution_count": 8,
     "metadata": {},
     "output_type": "execute_result"
    }
   ],
   "source": [
    "x[i]"
   ]
  },
  {
   "cell_type": "markdown",
   "id": "ca1294ac-1e83-4cc9-9744-606c792972fd",
   "metadata": {},
   "source": [
    "## Sorting Along Rows or Columns"
   ]
  },
  {
   "cell_type": "code",
   "execution_count": 9,
   "id": "350aef6f-e7c2-45a3-9423-7f682632a79e",
   "metadata": {},
   "outputs": [
    {
     "name": "stdout",
     "output_type": "stream",
     "text": [
      "[[0 7 6 4 4 8]\n",
      " [0 6 2 0 5 9]\n",
      " [7 7 7 7 5 1]\n",
      " [8 4 5 3 1 9]]\n"
     ]
    }
   ],
   "source": [
    "rng = np.random.default_rng(seed=42)\n",
    "X = rng.integers(0, 10, (4, 6))\n",
    "print(X)"
   ]
  },
  {
   "cell_type": "code",
   "execution_count": 10,
   "id": "bbc327e0-6810-4dfc-a8b3-8ca971084216",
   "metadata": {},
   "outputs": [
    {
     "data": {
      "text/plain": [
       "array([[0, 4, 2, 0, 1, 1],\n",
       "       [0, 6, 5, 3, 4, 8],\n",
       "       [7, 7, 6, 4, 5, 9],\n",
       "       [8, 7, 7, 7, 5, 9]])"
      ]
     },
     "execution_count": 10,
     "metadata": {},
     "output_type": "execute_result"
    }
   ],
   "source": [
    "# sort each column of X \n",
    "np.sort(X, axis=0)"
   ]
  },
  {
   "cell_type": "code",
   "execution_count": 11,
   "id": "ccbdea0f-9f7b-4f9e-a9f7-b5995c6772f9",
   "metadata": {},
   "outputs": [
    {
     "data": {
      "text/plain": [
       "array([[0, 4, 4, 6, 7, 8],\n",
       "       [0, 0, 2, 5, 6, 9],\n",
       "       [1, 5, 7, 7, 7, 7],\n",
       "       [1, 3, 4, 5, 8, 9]])"
      ]
     },
     "execution_count": 11,
     "metadata": {},
     "output_type": "execute_result"
    }
   ],
   "source": [
    "# sort each row of X \n",
    "np.sort(X, axis=1)"
   ]
  },
  {
   "cell_type": "code",
   "execution_count": 12,
   "id": "e92a7385-416f-413c-a5e0-4733243f87a0",
   "metadata": {},
   "outputs": [
    {
     "data": {
      "text/plain": [
       "array([[0, 7, 6, 4, 4, 8],\n",
       "       [0, 6, 2, 0, 5, 9],\n",
       "       [7, 7, 7, 7, 5, 1],\n",
       "       [8, 4, 5, 3, 1, 9]])"
      ]
     },
     "execution_count": 12,
     "metadata": {},
     "output_type": "execute_result"
    }
   ],
   "source": [
    "X"
   ]
  },
  {
   "cell_type": "markdown",
   "id": "0ad9b989-ec1c-4a13-9488-2484e5f395e5",
   "metadata": {},
   "source": [
    "## Partial Sorts: Partitioning"
   ]
  },
  {
   "cell_type": "raw",
   "id": "cb6df725-3719-4834-afbd-7c7f26a8b876",
   "metadata": {},
   "source": [
    "np.partition takes an array and a number k\n",
    "the result is a new array with the smallest k values to the left of the partition and the remaining values to the right\n",
    "Within the two partitions, the elements have arbitrary order."
   ]
  },
  {
   "cell_type": "code",
   "execution_count": 13,
   "id": "ddd88d14-496d-4f85-9f31-7dbf366a13ac",
   "metadata": {},
   "outputs": [
    {
     "data": {
      "text/plain": [
       "array([2, 1, 3, 4, 6, 5, 7])"
      ]
     },
     "execution_count": 13,
     "metadata": {},
     "output_type": "execute_result"
    }
   ],
   "source": [
    "x = np.array([7, 2, 3, 1, 6, 5, 4])\n",
    "np.partition(x, 3)"
   ]
  },
  {
   "cell_type": "code",
   "execution_count": 14,
   "id": "fba2161d-09b8-49c5-b69f-63bc22df58fe",
   "metadata": {},
   "outputs": [
    {
     "data": {
      "text/plain": [
       "array([[0, 7, 6, 4, 4, 8],\n",
       "       [0, 6, 2, 0, 5, 9],\n",
       "       [7, 7, 7, 7, 5, 1],\n",
       "       [8, 4, 5, 3, 1, 9]])"
      ]
     },
     "execution_count": 14,
     "metadata": {},
     "output_type": "execute_result"
    }
   ],
   "source": [
    "X"
   ]
  },
  {
   "cell_type": "code",
   "execution_count": 15,
   "id": "a866c246-a885-4a7f-b022-1d87a0680e47",
   "metadata": {},
   "outputs": [
    {
     "data": {
      "text/plain": [
       "array([[0, 4, 4, 7, 6, 8],\n",
       "       [0, 0, 2, 6, 5, 9],\n",
       "       [1, 5, 7, 7, 7, 7],\n",
       "       [1, 3, 4, 5, 8, 9]])"
      ]
     },
     "execution_count": 15,
     "metadata": {},
     "output_type": "execute_result"
    }
   ],
   "source": [
    "np.partition(X, 2, axis=1)\n",
    "\n",
    "# The result is an array where the first two slots in each row contain the smallest values from that row, \n",
    "# with the remaining values filling the remaining slots."
   ]
  },
  {
   "cell_type": "code",
   "execution_count": 16,
   "id": "c9600e19-0a91-447f-8a26-491a79c047ad",
   "metadata": {},
   "outputs": [],
   "source": [
    "# there is an np.argpartition function that computes indices of the partition. \n",
    "indices = np.argpartition(X, 3, axis=1)"
   ]
  },
  {
   "cell_type": "markdown",
   "id": "fa1ba378-8e39-4bf8-adbd-7e12771038f5",
   "metadata": {},
   "source": [
    "## Example: k-Nearest Neighbors"
   ]
  },
  {
   "cell_type": "code",
   "execution_count": 17,
   "id": "103009fa-e788-4641-beb8-c4d4e29ac600",
   "metadata": {},
   "outputs": [],
   "source": [
    "X = rng.random((10, 2))"
   ]
  },
  {
   "cell_type": "code",
   "execution_count": 18,
   "id": "939f5d4c-305b-47a0-a96d-1a806f7a71cc",
   "metadata": {},
   "outputs": [
    {
     "data": {
      "image/png": "[encoded data removed]",
      "text/plain": [
       "<Figure size 640x480 with 1 Axes>"
      ]
     },
     "metadata": {},
     "output_type": "display_data"
    }
   ],
   "source": [
    "%matplotlib inline\n",
    "import matplotlib.pyplot as plt\n",
    "plt.style.use('seaborn-whitegrid')\n",
    "plt.scatter(X[:, 0], X[:, 1], s=100);"
   ]
  },
  {
   "cell_type": "code",
   "execution_count": 19,
   "id": "bc19994c-c8c4-4fd4-a163-46d334122879",
   "metadata": {},
   "outputs": [],
   "source": [
    "dist_seq = np.sum((X[:, np.newaxis] - X[np.newaxis, :]) ** 2, axis=-1 )"
   ]
  },
  {
   "cell_type": "code",
   "execution_count": 20,
   "id": "c8cce9d3-1165-4fbf-be2b-49c87622eda8",
   "metadata": {},
   "outputs": [
    {
     "data": {
      "text/plain": [
       "array([0., 0., 0., 0., 0., 0., 0., 0., 0., 0.])"
      ]
     },
     "execution_count": 20,
     "metadata": {},
     "output_type": "execute_result"
    }
   ],
   "source": [
    "dist_seq.diagonal()"
   ]
  },
  {
   "cell_type": "code",
   "execution_count": 21,
   "id": "c2250b08-0b50-4815-936d-9f90298219f4",
   "metadata": {},
   "outputs": [
    {
     "data": {
      "text/plain": [
       "array([[0.        , 0.39482809, 0.58396752, 0.07028811, 0.23229143,\n",
       "        0.11177021, 0.41263358, 0.63815537, 0.25920392, 0.03113223],\n",
       "       [0.39482809, 0.        , 0.03906548, 0.31118281, 0.11522148,\n",
       "        0.7214276 , 0.11326719, 0.03419159, 0.29135606, 0.63881176],\n",
       "       [0.58396752, 0.03906548, 0.        , 0.39700471, 0.12592501,\n",
       "        0.86089513, 0.06720011, 0.00812058, 0.54368422, 0.85282752],\n",
       "       [0.07028811, 0.31118281, 0.39700471, 0.        , 0.081642  ,\n",
       "        0.08882774, 0.19341679, 0.47583627, 0.45602939, 0.11965936],\n",
       "       [0.23229143, 0.11522148, 0.12592501, 0.081642  , 0.        ,\n",
       "        0.33528787, 0.02597585, 0.18144286, 0.47249968, 0.37592667],\n",
       "       [0.11177021, 0.7214276 , 0.86089513, 0.08882774, 0.33528787,\n",
       "        0.        , 0.52486256, 0.97533281, 0.71065321, 0.05658068],\n",
       "       [0.41263358, 0.11326719, 0.06720011, 0.19341679, 0.02597585,\n",
       "        0.52486256, 0.        , 0.11988469, 0.62803789, 0.59846002],\n",
       "       [0.63815537, 0.03419159, 0.00812058, 0.47583627, 0.18144286,\n",
       "        0.97533281, 0.11988469, 0.        , 0.50624786, 0.9305396 ],\n",
       "       [0.25920392, 0.29135606, 0.54368422, 0.45602939, 0.47249968,\n",
       "        0.71065321, 0.62803789, 0.50624786, 0.        , 0.4295759 ],\n",
       "       [0.03113223, 0.63881176, 0.85282752, 0.11965936, 0.37592667,\n",
       "        0.05658068, 0.59846002, 0.9305396 , 0.4295759 , 0.        ]])"
      ]
     },
     "execution_count": 21,
     "metadata": {},
     "output_type": "execute_result"
    }
   ],
   "source": [
    "dist_seq"
   ]
  },
  {
   "cell_type": "code",
   "execution_count": 22,
   "id": "90c98cb5-2355-4c96-bc0e-d31a2c6cb4d5",
   "metadata": {},
   "outputs": [
    {
     "name": "stdout",
     "output_type": "stream",
     "text": [
      "[[0 9 3 5 4 8 1 6 2 7]\n",
      " [1 7 2 6 4 8 3 0 9 5]\n",
      " [2 7 1 6 4 3 8 0 9 5]\n",
      " [3 0 4 5 9 6 1 2 8 7]\n",
      " [4 6 3 1 2 7 0 5 9 8]\n",
      " [5 9 3 0 4 6 8 1 2 7]\n",
      " [6 4 2 1 7 3 0 5 9 8]\n",
      " [7 2 1 6 4 3 8 0 9 5]\n",
      " [8 0 1 9 3 4 7 2 6 5]\n",
      " [9 0 5 3 4 8 6 1 2 7]]\n"
     ]
    }
   ],
   "source": [
    "nearest = np.argsort(dist_seq, axis=1)\n",
    "print(nearest)"
   ]
  },
  {
   "cell_type": "code",
   "execution_count": 23,
   "id": "d02a193b-4d6c-4505-bf4d-09ec1e342bb0",
   "metadata": {},
   "outputs": [
    {
     "data": {
      "image/png": "[encoded data removed]",
      "text/plain": [
       "<Figure size 640x480 with 1 Axes>"
      ]
     },
     "metadata": {},
     "output_type": "display_data"
    }
   ],
   "source": [
    "plt.scatter(X[:, 0], X[:, 1], s=100)\n",
    "# draw lines from each point to its two nearest neighbors\n",
    "K=2\n",
    "for i in range(X.shape[0]):\n",
    "    for j in nearest[i, :K+1]:\n",
    "        # plot a line from X[i] to X[j]\n",
    "        # use some zip magic to make it happen: \n",
    "        plt.plot(*zip(X[j], X[i]), color='black')"
   ]
  },
  {
   "cell_type": "code",
   "execution_count": null,
   "id": "82039497-ff64-47ef-854d-7aa1346539ec",
   "metadata": {},
   "outputs": [],
   "source": []
  }
 ],
 "metadata": {
  "kernelspec": {
   "display_name": "Python 3 (ipykernel)",
   "language": "python",
   "name": "python3"
  },
  "language_info": {
   "codemirror_mode": {
    "name": "ipython",
    "version": 3
   },
   "file_extension": ".py",
   "mimetype": "text/x-python",
   "name": "python",
   "nbconvert_exporter": "python",
   "pygments_lexer": "ipython3",
   "version": "3.9.13"
  }
 },
 "nbformat": 4,
 "nbformat_minor": 5
}
