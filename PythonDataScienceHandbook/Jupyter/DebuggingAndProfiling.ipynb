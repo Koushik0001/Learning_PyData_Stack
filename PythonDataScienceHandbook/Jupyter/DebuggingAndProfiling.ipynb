{
 "cells": [
  {
   "cell_type": "markdown",
   "id": "5e6a973f-d07d-49d0-a2b3-7f4adc1b8f47",
   "metadata": {},
   "source": [
    "# Debugging and Profiling"
   ]
  },
  {
   "cell_type": "markdown",
   "id": "3d3a1322-dd22-43db-bd99-8c7dae3a1ae3",
   "metadata": {},
   "source": [
    "## Errors and Debugging"
   ]
  },
  {
   "cell_type": "markdown",
   "id": "f6c62f3f-2a27-4cfb-bc7c-0a7d70a62a39",
   "metadata": {},
   "source": [
    "### Controlling Exceptions: %xmode"
   ]
  },
  {
   "cell_type": "raw",
   "id": "c2c41b1c-ce32-44d8-87e6-def97750143a",
   "metadata": {},
   "source": [
    "%xmode takes a single argument, the mode, and there are four possibilities: Plain, Context, Minimal and Verbose. \n",
    "The default is Context. \n",
    "Plain is more compact and gives less information"
   ]
  },
  {
   "cell_type": "code",
   "execution_count": 5,
   "id": "7ca8f9ec-63d2-4a14-839f-7a713e788d0e",
   "metadata": {},
   "outputs": [],
   "source": [
    "def func1(a, b):\n",
    "    return a/b\n",
    "    \n",
    "def func2(x):\n",
    "    a=x\n",
    "    b=x-1\n",
    "    return func1(a, b)"
   ]
  },
  {
   "cell_type": "code",
   "execution_count": 12,
   "id": "6710aee0-fb40-4aad-b2d5-f0cc3b9119c7",
   "metadata": {},
   "outputs": [
    {
     "ename": "ZeroDivisionError",
     "evalue": "division by zero",
     "output_type": "error",
     "traceback": [
      "\u001b[0;31m---------------------------------------------------------------------------\u001b[0m",
      "\u001b[0;31mZeroDivisionError\u001b[0m                         Traceback (most recent call last)",
      "Input \u001b[0;32mIn [12]\u001b[0m, in \u001b[0;36m<cell line: 1>\u001b[0;34m()\u001b[0m\n\u001b[0;32m----> 1\u001b[0m \u001b[43mfunc2\u001b[49m\u001b[43m(\u001b[49m\u001b[38;5;241;43m1\u001b[39;49m\u001b[43m)\u001b[49m\n",
      "Input \u001b[0;32mIn [5]\u001b[0m, in \u001b[0;36mfunc2\u001b[0;34m(x)\u001b[0m\n\u001b[1;32m      5\u001b[0m a\u001b[38;5;241m=\u001b[39mx\n\u001b[1;32m      6\u001b[0m b\u001b[38;5;241m=\u001b[39mx\u001b[38;5;241m-\u001b[39m\u001b[38;5;241m1\u001b[39m\n\u001b[0;32m----> 7\u001b[0m \u001b[38;5;28;01mreturn\u001b[39;00m \u001b[43mfunc1\u001b[49m\u001b[43m(\u001b[49m\u001b[43ma\u001b[49m\u001b[43m,\u001b[49m\u001b[43m \u001b[49m\u001b[43mb\u001b[49m\u001b[43m)\u001b[49m\n",
      "Input \u001b[0;32mIn [5]\u001b[0m, in \u001b[0;36mfunc1\u001b[0;34m(a, b)\u001b[0m\n\u001b[1;32m      1\u001b[0m \u001b[38;5;28;01mdef\u001b[39;00m \u001b[38;5;21mfunc1\u001b[39m(a, b):\n\u001b[0;32m----> 2\u001b[0m     \u001b[38;5;28;01mreturn\u001b[39;00m \u001b[43ma\u001b[49m\u001b[38;5;241;43m/\u001b[39;49m\u001b[43mb\u001b[49m\n",
      "\u001b[0;31mZeroDivisionError\u001b[0m: division by zero"
     ]
    }
   ],
   "source": [
    "func2(1)"
   ]
  },
  {
   "cell_type": "code",
   "execution_count": 15,
   "id": "5d8308a2-3e64-406f-b1ba-4ef2685d9da7",
   "metadata": {},
   "outputs": [
    {
     "name": "stdout",
     "output_type": "stream",
     "text": [
      "Exception reporting mode: Plain\n"
     ]
    },
    {
     "ename": "ZeroDivisionError",
     "evalue": "division by zero",
     "output_type": "error",
     "traceback": [
      "Traceback \u001b[0;36m(most recent call last)\u001b[0m:\n",
      "  Input \u001b[1;32mIn [15]\u001b[0m in \u001b[1;35m<cell line: 2>\u001b[0m\n    func2(1)\n",
      "  Input \u001b[1;32mIn [5]\u001b[0m in \u001b[1;35mfunc2\u001b[0m\n    return func1(a, b)\n",
      "\u001b[0;36m  Input \u001b[0;32mIn [5]\u001b[0;36m in \u001b[0;35mfunc1\u001b[0;36m\u001b[0m\n\u001b[0;31m    return a/b\u001b[0m\n",
      "\u001b[0;31mZeroDivisionError\u001b[0m\u001b[0;31m:\u001b[0m division by zero\n"
     ]
    }
   ],
   "source": [
    "%xmode Plain\n",
    "func2(1)"
   ]
  },
  {
   "cell_type": "code",
   "execution_count": 16,
   "id": "6f6f3f65-02f8-44e1-97d5-15dbcabb2b39",
   "metadata": {},
   "outputs": [
    {
     "name": "stdout",
     "output_type": "stream",
     "text": [
      "Exception reporting mode: Verbose\n"
     ]
    },
    {
     "ename": "ZeroDivisionError",
     "evalue": "division by zero",
     "output_type": "error",
     "traceback": [
      "\u001b[0;31m---------------------------------------------------------------------------\u001b[0m",
      "\u001b[0;31mZeroDivisionError\u001b[0m                         Traceback (most recent call last)",
      "Input \u001b[0;32mIn [16]\u001b[0m, in \u001b[0;36m<cell line: 2>\u001b[0;34m()\u001b[0m\n\u001b[1;32m      1\u001b[0m get_ipython()\u001b[38;5;241m.\u001b[39mrun_line_magic(\u001b[38;5;124m'\u001b[39m\u001b[38;5;124mxmode\u001b[39m\u001b[38;5;124m'\u001b[39m, \u001b[38;5;124m'\u001b[39m\u001b[38;5;124mVerbose\u001b[39m\u001b[38;5;124m'\u001b[39m)\n\u001b[0;32m----> 2\u001b[0m \u001b[43mfunc2\u001b[49m\u001b[43m(\u001b[49m\u001b[38;5;241;43m1\u001b[39;49m\u001b[43m)\u001b[49m\n",
      "Input \u001b[0;32mIn [5]\u001b[0m, in \u001b[0;36mfunc2\u001b[0;34m(x=1)\u001b[0m\n\u001b[1;32m      5\u001b[0m a\u001b[38;5;241m=\u001b[39mx\n\u001b[1;32m      6\u001b[0m b\u001b[38;5;241m=\u001b[39mx\u001b[38;5;241m-\u001b[39m\u001b[38;5;241m1\u001b[39m\n\u001b[0;32m----> 7\u001b[0m \u001b[38;5;28;01mreturn\u001b[39;00m \u001b[43mfunc1\u001b[49m\u001b[43m(\u001b[49m\u001b[43ma\u001b[49m\u001b[43m,\u001b[49m\u001b[43m \u001b[49m\u001b[43mb\u001b[49m\u001b[43m)\u001b[49m\n        a \u001b[0;34m= 1\u001b[0m\u001b[0;34m\n        \u001b[0mb \u001b[0;34m= 0\u001b[0m\n",
      "Input \u001b[0;32mIn [5]\u001b[0m, in \u001b[0;36mfunc1\u001b[0;34m(a=1, b=0)\u001b[0m\n\u001b[1;32m      1\u001b[0m \u001b[38;5;28;01mdef\u001b[39;00m \u001b[38;5;21mfunc1\u001b[39m(a, b):\n\u001b[0;32m----> 2\u001b[0m     \u001b[38;5;28;01mreturn\u001b[39;00m \u001b[43ma\u001b[49m\u001b[38;5;241;43m/\u001b[39;49m\u001b[43mb\u001b[49m\n        a \u001b[0;34m= 1\u001b[0m\u001b[0;34m\n        \u001b[0mb \u001b[0;34m= 0\u001b[0m\n",
      "\u001b[0;31mZeroDivisionError\u001b[0m: division by zero"
     ]
    }
   ],
   "source": [
    "%xmode Verbose\n",
    "func2(1)"
   ]
  },
  {
   "cell_type": "code",
   "execution_count": 19,
   "id": "21da40ff-39b9-409a-ba17-c568a08c4a59",
   "metadata": {},
   "outputs": [
    {
     "name": "stdout",
     "output_type": "stream",
     "text": [
      "Exception reporting mode: Minimal\n"
     ]
    },
    {
     "ename": "ZeroDivisionError",
     "evalue": "division by zero",
     "output_type": "error",
     "traceback": [
      "\u001b[0;31mZeroDivisionError\u001b[0m\u001b[0;31m:\u001b[0m division by zero\n"
     ]
    }
   ],
   "source": [
    "%xmode Minimal\n",
    "func2(1)"
   ]
  },
  {
   "cell_type": "code",
   "execution_count": 20,
   "id": "daae20d0-8487-48b9-850c-d36d0b1c6c57",
   "metadata": {},
   "outputs": [
    {
     "name": "stdout",
     "output_type": "stream",
     "text": [
      "Exception reporting mode: Context\n"
     ]
    }
   ],
   "source": [
    "%xmode Context"
   ]
  },
  {
   "cell_type": "markdown",
   "id": "c0f23e81-0841-4e84-b7ae-c72218c95686",
   "metadata": {},
   "source": [
    "### Debugging: When Reading Tracebacks Is Not Enough"
   ]
  },
  {
   "cell_type": "markdown",
   "id": "7b108e4d-77e9-4de0-a3bc-5637bfff6444",
   "metadata": {},
   "source": [
    "## Profiling and Timing Code"
   ]
  },
  {
   "cell_type": "markdown",
   "id": "a54f744d-3de9-426d-a69c-614230dc332a",
   "metadata": {},
   "source": [
    "### Timing Code Snippets: %timeit and %time"
   ]
  },
  {
   "cell_type": "raw",
   "id": "49ad4160-9637-4da8-9988-9435b0e77f40",
   "metadata": {},
   "source": [
    "%timeit :\n",
    "    For faster statements %timeit automatically does a large number of repetitions.\n",
    "    For slower commands, %timeit will automatically adjust and perform fewer repetitions.\n",
    "    Sometimes repeating an operation is not the best option.\n",
    "    sorting a presorted list is much faster than sorting an unsorted list, so the repetition will skew the result.\n",
    "    %timeit does some clever things under the hood to prevent system calls from interfering with the timing. Such as, prevents garbage collection.\n",
    "    For this reason, %timeit results are usually noticeably faster than %time results.\n",
    "    \n",
    "%time : \n",
    "     %time magic function may be a better choice when we don't want to repeat the statement.\n",
    "     It also is a good choice for longer-running commands, when short, system-related delays are unlikely to affect the result.\n",
    "    \n",
    "%%timeit and %%time are their cell magic counter parts."
   ]
  },
  {
   "cell_type": "markdown",
   "id": "aa770417-f784-4d60-80c0-f31208fae257",
   "metadata": {},
   "source": [
    "### Profiling Full Scripts: %prun"
   ]
  },
  {
   "cell_type": "code",
   "execution_count": 3,
   "id": "dc66221a-e669-41e4-94da-8bd7e28b92be",
   "metadata": {},
   "outputs": [],
   "source": [
    "def sum_of_lists(N): \n",
    "    total = 0\n",
    "    for i in range(5): \n",
    "        L=[j^(j>>i)for j in range(N)] \n",
    "        total += sum(L)\n",
    "    return total"
   ]
  },
  {
   "cell_type": "code",
   "execution_count": 5,
   "id": "c7e21e74-e680-400b-b88c-de67d08c0702",
   "metadata": {},
   "outputs": [
    {
     "name": "stdout",
     "output_type": "stream",
     "text": [
      " "
     ]
    },
    {
     "data": {
      "text/plain": [
       "         14 function calls in 0.494 seconds\n",
       "\n",
       "   Ordered by: internal time\n",
       "\n",
       "   ncalls  tottime  percall  cumtime  percall filename:lineno(function)\n",
       "        5    0.431    0.086    0.431    0.086 3779225505.py:4(<listcomp>)\n",
       "        5    0.033    0.007    0.033    0.007 {built-in method builtins.sum}\n",
       "        1    0.024    0.024    0.487    0.487 3779225505.py:1(sum_of_lists)\n",
       "        1    0.006    0.006    0.494    0.494 <string>:1(<module>)\n",
       "        1    0.000    0.000    0.494    0.494 {built-in method builtins.exec}\n",
       "        1    0.000    0.000    0.000    0.000 {method 'disable' of '_lsprof.Profiler' objects}"
      ]
     },
     "metadata": {},
     "output_type": "display_data"
    }
   ],
   "source": [
    "%prun sum_of_lists(1000000)"
   ]
  },
  {
   "cell_type": "markdown",
   "id": "228b0988-412d-45d6-ab6b-bb7b6b9c425f",
   "metadata": {},
   "source": [
    "### Line-by-Line Profiling with %lprun"
   ]
  },
  {
   "cell_type": "code",
   "execution_count": 7,
   "id": "e8cb691e-d0ed-4c47-95e5-bb7956f0d533",
   "metadata": {},
   "outputs": [],
   "source": [
    "%load_ext line_profiler"
   ]
  },
  {
   "cell_type": "code",
   "execution_count": 8,
   "id": "6784a469-98c6-44cf-9db8-967d0129a27b",
   "metadata": {},
   "outputs": [
    {
     "data": {
      "text/plain": [
       "Timer unit: 1e-09 s\n",
       "\n",
       "Total time: 0.012298 s\n",
       "File: /var/folders/fx/zypq3_z93bq5fgc7sqwdr9940000gn/T/ipykernel_56221/3779225505.py\n",
       "Function: sum_of_lists at line 1\n",
       "\n",
       "Line #      Hits         Time  Per Hit   % Time  Line Contents\n",
       "==============================================================\n",
       "     1                                           def sum_of_lists(N): \n",
       "     2         1       1000.0   1000.0      0.0      total = 0\n",
       "     3         5       6000.0   1200.0      0.0      for i in range(5): \n",
       "     4         5   11862000.0 2372400.0     96.5          L=[j^(j>>i)for j in range(N)] \n",
       "     5         5     428000.0  85600.0      3.5          total += sum(L)\n",
       "     6         1       1000.0   1000.0      0.0      return total"
      ]
     },
     "metadata": {},
     "output_type": "display_data"
    }
   ],
   "source": [
    "%lprun -f sum_of_lists sum_of_lists(5000)"
   ]
  },
  {
   "cell_type": "markdown",
   "id": "44d6acae-5c47-4f6d-b97d-0262bd886ad1",
   "metadata": {},
   "source": [
    "### Profiling Memory Use: %memit and %mprun"
   ]
  },
  {
   "cell_type": "code",
   "execution_count": 9,
   "id": "75ad53b4-e66e-4415-ad11-572f1875bf95",
   "metadata": {},
   "outputs": [],
   "source": [
    "%load_ext memory_profiler"
   ]
  },
  {
   "cell_type": "raw",
   "id": "eba60aef-2ab3-4613-9f0d-3efde79ac073",
   "metadata": {},
   "source": [
    "The memory profiler extension contains two useful magic functions: \n",
    "    %memit : which offers a memory-measuring equivalent of %timeit\n",
    "    %mprun : which offers a memory-measuring equivalent of %lprun"
   ]
  },
  {
   "cell_type": "code",
   "execution_count": 15,
   "id": "b9a721f9-ab72-4311-b2eb-cdb766b8ca8f",
   "metadata": {},
   "outputs": [
    {
     "name": "stdout",
     "output_type": "stream",
     "text": [
      "peak memory: 184.53 MiB, increment: 50.55 MiB\n"
     ]
    }
   ],
   "source": [
    "%memit sum_of_lists(1000000)"
   ]
  },
  {
   "cell_type": "raw",
   "id": "9903a096-d0d5-4ef0-85b2-f580690ebfb4",
   "metadata": {},
   "source": [
    "For a line-by-line description of memory use, we can use the %mprun magic function. \n",
    "Unfortunately, this works only for functions defined in separate modules rather than the notebook itself.\n",
    "So we’ll start by using the %%file cell magic to create a simple module called mprun_demo.py, which contains our sum_of_lists function."
   ]
  },
  {
   "cell_type": "code",
   "execution_count": 18,
   "id": "d4da4452-d6b6-4fcc-8768-29587a67e6a4",
   "metadata": {},
   "outputs": [
    {
     "name": "stdout",
     "output_type": "stream",
     "text": [
      "Overwriting mprun_demo.py\n"
     ]
    }
   ],
   "source": [
    "%%file mprun_demo.py\n",
    "def sum_of_lists(N):\n",
    "    total = 0\n",
    "    for i in range(5): \n",
    "        L=[j^(j>>i) for j in range(N)]\n",
    "        total += sum(L)\n",
    "        del L # remove reference to L\n",
    "    return total"
   ]
  },
  {
   "cell_type": "code",
   "execution_count": 24,
   "id": "333912f4-6cae-4f50-9035-418e11afc419",
   "metadata": {},
   "outputs": [
    {
     "name": "stdout",
     "output_type": "stream",
     "text": [
      "*** KeyboardInterrupt exception caught in code being profiled.\n"
     ]
    },
    {
     "data": {
      "text/plain": [
       "Filename: /Users/koushikmahanta/Desktop/ML/ML-learning-001/PythonDataScienceHandbook/Part1-Jupyter/mprun_demo.py\n",
       "\n",
       "Line #    Mem usage    Increment  Occurences   Line Contents\n",
       "============================================================\n",
       "     1    121.2 MiB    121.2 MiB           1   def sum_of_lists(N):\n",
       "     2    121.2 MiB      0.0 MiB           1       total = 0\n",
       "     3    121.2 MiB     -7.6 MiB           3       for i in range(5): \n",
       "     4    136.0 MiB -13903241.0 MiB     2664753           L=[j^(j>>i) for j in range(N)]\n",
       "     5    145.4 MiB     10.8 MiB           2           total += sum(L)\n",
       "     6    114.9 MiB    -45.8 MiB           2           del L # remove reference to L\n",
       "     7                                             return total"
      ]
     },
     "metadata": {},
     "output_type": "display_data"
    }
   ],
   "source": [
    "from mprun_demo import sum_of_lists\n",
    "%mprun -f sum_of_lists sum_of_lists(1000000)"
   ]
  }
 ],
 "metadata": {
  "kernelspec": {
   "display_name": "Python 3 (ipykernel)",
   "language": "python",
   "name": "python3"
  },
  "language_info": {
   "codemirror_mode": {
    "name": "ipython",
    "version": 3
   },
   "file_extension": ".py",
   "mimetype": "text/x-python",
   "name": "python",
   "nbconvert_exporter": "python",
   "pygments_lexer": "ipython3",
   "version": "3.9.13"
  }
 },
 "nbformat": 4,
 "nbformat_minor": 5
}
