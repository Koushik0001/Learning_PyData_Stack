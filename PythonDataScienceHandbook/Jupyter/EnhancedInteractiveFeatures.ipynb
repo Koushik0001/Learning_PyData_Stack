{
 "cells": [
  {
   "cell_type": "markdown",
   "id": "6f52b5d4-4b3e-4850-82f6-68db08021f24",
   "metadata": {},
   "source": [
    "# Enhanced Interactive Features"
   ]
  },
  {
   "cell_type": "markdown",
   "id": "5c6f7090-3a1b-4a91-8278-29b4ed933a18",
   "metadata": {
    "tags": []
   },
   "source": [
    "## IPython Magic Commands"
   ]
  },
  {
   "cell_type": "markdown",
   "id": "cc0dee8c-45f1-44a3-9011-fbb541142a99",
   "metadata": {
    "tags": []
   },
   "source": [
    "### Running External Code: %run"
   ]
  },
  {
   "cell_type": "code",
   "execution_count": 4,
   "id": "840362a8-384b-466d-8a37-443110b1f1dd",
   "metadata": {},
   "outputs": [
    {
     "name": "stdout",
     "output_type": "stream",
     "text": [
      "1 squared is 1\n",
      "2 squared is 4\n",
      "3 squared is 9\n"
     ]
    }
   ],
   "source": [
    "%run myscript.py"
   ]
  },
  {
   "cell_type": "raw",
   "id": "4f93c1ce-35a9-42d9-b180-846db16f875e",
   "metadata": {},
   "source": [
    "Note also that after you’ve run this script, any functions defined within it are available for use in your IPython session"
   ]
  },
  {
   "cell_type": "code",
   "execution_count": 3,
   "id": "a3370853-85dc-4a92-a7f0-37b7aa43f6c0",
   "metadata": {},
   "outputs": [
    {
     "data": {
      "text/plain": [
       "25"
      ]
     },
     "execution_count": 3,
     "metadata": {},
     "output_type": "execute_result"
    }
   ],
   "source": [
    "square(5)"
   ]
  },
  {
   "cell_type": "code",
   "execution_count": 26,
   "id": "83b22c4f-2ef2-499e-a8be-3749ef52a92d",
   "metadata": {},
   "outputs": [],
   "source": [
    "# %run?"
   ]
  },
  {
   "cell_type": "markdown",
   "id": "9a6adc5e-6c25-4d62-9ed1-99ed10c00880",
   "metadata": {
    "tags": []
   },
   "source": [
    "### Timing Code Execution: %timeit"
   ]
  },
  {
   "cell_type": "code",
   "execution_count": 6,
   "id": "0f7aeb72-b6b5-4cf1-bb4e-538ed31dfad3",
   "metadata": {},
   "outputs": [
    {
     "name": "stdout",
     "output_type": "stream",
     "text": [
      "334 µs ± 247 ns per loop (mean ± std. dev. of 7 runs, 1,000 loops each)\n"
     ]
    }
   ],
   "source": [
    "# magic function is %timeit will automatically determine the execution time of the single-line Python statement that follows it.\n",
    "\n",
    "%timeit L = [n ** 2 for n in range(1000)]"
   ]
  },
  {
   "cell_type": "code",
   "execution_count": 10,
   "id": "fba97f61-9416-4a26-92ec-065dd9cdd71b",
   "metadata": {},
   "outputs": [
    {
     "name": "stdout",
     "output_type": "stream",
     "text": [
      "343 µs ± 469 ns per loop (mean ± std. dev. of 7 runs, 1,000 loops each)\n"
     ]
    }
   ],
   "source": [
    "%%timeit\n",
    "\n",
    "# for short commands %timeit will automatically perform multiple runs in order to attain more robust results.\n",
    "# For multiline statements, adding a second % sign will turn this into a cell magic that can handle multiple lines of input.\n",
    "# a cell magic function must be the first thing in the cell.\n",
    "# When %%time is not the first thing in the cell, IPython tries to interpret it as a 'line magic' and causes error.\n",
    "\n",
    "L=[]\n",
    "for n in range(1000):\n",
    "    L.append(n ** 2)"
   ]
  },
  {
   "cell_type": "markdown",
   "id": "dcd42fb5-a861-464b-ae9a-e884a35367df",
   "metadata": {
    "tags": []
   },
   "source": [
    "### Help on Magic Functions: ?, %magic, and %lsmagic"
   ]
  },
  {
   "cell_type": "code",
   "execution_count": 25,
   "id": "ba4f6d69-8585-4d22-a881-7634768cc534",
   "metadata": {},
   "outputs": [],
   "source": [
    "# To access a general description of available magic functions, including some examples, you can type this:\n",
    "# %magic"
   ]
  },
  {
   "cell_type": "code",
   "execution_count": 13,
   "id": "88488db3-200e-4323-ab27-19685efb86e1",
   "metadata": {},
   "outputs": [
    {
     "data": {
      "application/json": {
       "cell": {
        "!": "OSMagics",
        "HTML": "Other",
        "SVG": "Other",
        "bash": "Other",
        "capture": "ExecutionMagics",
        "debug": "ExecutionMagics",
        "file": "Other",
        "html": "DisplayMagics",
        "javascript": "DisplayMagics",
        "js": "DisplayMagics",
        "latex": "DisplayMagics",
        "markdown": "DisplayMagics",
        "perl": "Other",
        "prun": "ExecutionMagics",
        "pypy": "Other",
        "python": "Other",
        "python2": "Other",
        "python3": "Other",
        "ruby": "Other",
        "script": "ScriptMagics",
        "sh": "Other",
        "svg": "DisplayMagics",
        "sx": "OSMagics",
        "system": "OSMagics",
        "time": "ExecutionMagics",
        "timeit": "ExecutionMagics",
        "writefile": "OSMagics"
       },
       "line": {
        "alias": "OSMagics",
        "alias_magic": "BasicMagics",
        "autoawait": "AsyncMagics",
        "autocall": "AutoMagics",
        "automagic": "AutoMagics",
        "autosave": "KernelMagics",
        "bookmark": "OSMagics",
        "cat": "Other",
        "cd": "OSMagics",
        "clear": "KernelMagics",
        "colors": "BasicMagics",
        "conda": "PackagingMagics",
        "config": "ConfigMagics",
        "connect_info": "KernelMagics",
        "cp": "Other",
        "debug": "ExecutionMagics",
        "dhist": "OSMagics",
        "dirs": "OSMagics",
        "doctest_mode": "BasicMagics",
        "ed": "Other",
        "edit": "KernelMagics",
        "env": "OSMagics",
        "gui": "BasicMagics",
        "hist": "Other",
        "history": "HistoryMagics",
        "killbgscripts": "ScriptMagics",
        "ldir": "Other",
        "less": "KernelMagics",
        "lf": "Other",
        "lk": "Other",
        "ll": "Other",
        "load": "CodeMagics",
        "load_ext": "ExtensionMagics",
        "loadpy": "CodeMagics",
        "logoff": "LoggingMagics",
        "logon": "LoggingMagics",
        "logstart": "LoggingMagics",
        "logstate": "LoggingMagics",
        "logstop": "LoggingMagics",
        "ls": "Other",
        "lsmagic": "BasicMagics",
        "lx": "Other",
        "macro": "ExecutionMagics",
        "magic": "BasicMagics",
        "man": "KernelMagics",
        "matplotlib": "PylabMagics",
        "mkdir": "Other",
        "more": "KernelMagics",
        "mv": "Other",
        "notebook": "BasicMagics",
        "page": "BasicMagics",
        "pastebin": "CodeMagics",
        "pdb": "ExecutionMagics",
        "pdef": "NamespaceMagics",
        "pdoc": "NamespaceMagics",
        "pfile": "NamespaceMagics",
        "pinfo": "NamespaceMagics",
        "pinfo2": "NamespaceMagics",
        "pip": "PackagingMagics",
        "popd": "OSMagics",
        "pprint": "BasicMagics",
        "precision": "BasicMagics",
        "prun": "ExecutionMagics",
        "psearch": "NamespaceMagics",
        "psource": "NamespaceMagics",
        "pushd": "OSMagics",
        "pwd": "OSMagics",
        "pycat": "OSMagics",
        "pylab": "PylabMagics",
        "qtconsole": "KernelMagics",
        "quickref": "BasicMagics",
        "recall": "HistoryMagics",
        "rehashx": "OSMagics",
        "reload_ext": "ExtensionMagics",
        "rep": "Other",
        "rerun": "HistoryMagics",
        "reset": "NamespaceMagics",
        "reset_selective": "NamespaceMagics",
        "rm": "Other",
        "rmdir": "Other",
        "run": "ExecutionMagics",
        "save": "CodeMagics",
        "sc": "OSMagics",
        "set_env": "OSMagics",
        "store": "StoreMagics",
        "sx": "OSMagics",
        "system": "OSMagics",
        "tb": "ExecutionMagics",
        "time": "ExecutionMagics",
        "timeit": "ExecutionMagics",
        "unalias": "OSMagics",
        "unload_ext": "ExtensionMagics",
        "who": "NamespaceMagics",
        "who_ls": "NamespaceMagics",
        "whos": "NamespaceMagics",
        "xdel": "NamespaceMagics",
        "xmode": "BasicMagics"
       }
      },
      "text/plain": [
       "Available line magics:\n",
       "%alias  %alias_magic  %autoawait  %autocall  %automagic  %autosave  %bookmark  %cat  %cd  %clear  %colors  %conda  %config  %connect_info  %cp  %debug  %dhist  %dirs  %doctest_mode  %ed  %edit  %env  %gui  %hist  %history  %killbgscripts  %ldir  %less  %lf  %lk  %ll  %load  %load_ext  %loadpy  %logoff  %logon  %logstart  %logstate  %logstop  %ls  %lsmagic  %lx  %macro  %magic  %man  %matplotlib  %mkdir  %more  %mv  %notebook  %page  %pastebin  %pdb  %pdef  %pdoc  %pfile  %pinfo  %pinfo2  %pip  %popd  %pprint  %precision  %prun  %psearch  %psource  %pushd  %pwd  %pycat  %pylab  %qtconsole  %quickref  %recall  %rehashx  %reload_ext  %rep  %rerun  %reset  %reset_selective  %rm  %rmdir  %run  %save  %sc  %set_env  %store  %sx  %system  %tb  %time  %timeit  %unalias  %unload_ext  %who  %who_ls  %whos  %xdel  %xmode\n",
       "\n",
       "Available cell magics:\n",
       "%%!  %%HTML  %%SVG  %%bash  %%capture  %%debug  %%file  %%html  %%javascript  %%js  %%latex  %%markdown  %%perl  %%prun  %%pypy  %%python  %%python2  %%python3  %%ruby  %%script  %%sh  %%svg  %%sx  %%system  %%time  %%timeit  %%writefile\n",
       "\n",
       "Automagic is ON, % prefix IS NOT needed for line magics."
      ]
     },
     "execution_count": 13,
     "metadata": {},
     "output_type": "execute_result"
    }
   ],
   "source": [
    "# For a quick and simple list of all available magic functions, type this:\n",
    "\n",
    "%lsmagic"
   ]
  },
  {
   "cell_type": "markdown",
   "id": "56e2c013-03d5-4add-913f-4cb7b60007e4",
   "metadata": {},
   "source": [
    "## Input and Output History"
   ]
  },
  {
   "cell_type": "markdown",
   "id": "18b2360e-2a9f-402a-b557-ce5f880d05a7",
   "metadata": {
    "tags": []
   },
   "source": [
    "### IPython’s In and Out Objects"
   ]
  },
  {
   "cell_type": "code",
   "execution_count": 14,
   "id": "25596ddc-fb53-4caa-94ee-67343e59d174",
   "metadata": {},
   "outputs": [],
   "source": [
    "import math"
   ]
  },
  {
   "cell_type": "code",
   "execution_count": 15,
   "id": "1674d443-9ab1-47ab-9abf-7b72d8533751",
   "metadata": {},
   "outputs": [
    {
     "data": {
      "text/plain": [
       "0.9092974268256817"
      ]
     },
     "execution_count": 15,
     "metadata": {},
     "output_type": "execute_result"
    }
   ],
   "source": [
    "math.sin(2)"
   ]
  },
  {
   "cell_type": "code",
   "execution_count": 16,
   "id": "aaf8cdc9-a558-4b04-80ba-3da6989e7217",
   "metadata": {},
   "outputs": [
    {
     "data": {
      "text/plain": [
       "-0.4161468365471424"
      ]
     },
     "execution_count": 16,
     "metadata": {},
     "output_type": "execute_result"
    }
   ],
   "source": [
    "math.cos(2)"
   ]
  },
  {
   "cell_type": "code",
   "execution_count": 27,
   "id": "b32ffee3-c414-4e3e-afc3-eba954ab0d79",
   "metadata": {},
   "outputs": [],
   "source": [
    "# The In object is a list, which keeps track of the commands in order \n",
    "# the first item in the list is a placeholder so that In [1] can refer to the first command\n",
    "\n",
    "# In"
   ]
  },
  {
   "cell_type": "code",
   "execution_count": 28,
   "id": "bea263cd-64c0-4efe-8f58-168579f502b4",
   "metadata": {},
   "outputs": [],
   "source": [
    "# The Out object is not a list but a dictionary mapping input numbers to their outputs (if any)\n",
    "\n",
    "# Out"
   ]
  },
  {
   "cell_type": "code",
   "execution_count": 21,
   "id": "a553f4f3-1149-4549-b318-b44c5d2555a5",
   "metadata": {},
   "outputs": [
    {
     "name": "stdout",
     "output_type": "stream",
     "text": [
      "import math\n"
     ]
    }
   ],
   "source": [
    "print(In[14])"
   ]
  },
  {
   "cell_type": "code",
   "execution_count": 23,
   "id": "1a387e43-ca3a-48e7-8dc1-b15d45da3bfc",
   "metadata": {},
   "outputs": [
    {
     "name": "stdout",
     "output_type": "stream",
     "text": [
      "0.9092974268256817\n"
     ]
    }
   ],
   "source": [
    "print(Out[15])"
   ]
  },
  {
   "cell_type": "code",
   "execution_count": 24,
   "id": "fea6c2b9-bb46-4485-b91d-e5981019fb21",
   "metadata": {},
   "outputs": [
    {
     "data": {
      "text/plain": [
       "1.0"
      ]
     },
     "execution_count": 24,
     "metadata": {},
     "output_type": "execute_result"
    }
   ],
   "source": [
    "Out[15] ** 2 + Out[16] ** 2"
   ]
  },
  {
   "cell_type": "raw",
   "id": "af0771d0-672b-40ca-9189-6122b4f87044",
   "metadata": {},
   "source": [
    "it can become quite handy if you execute a very expensive computation and forget to assign the result to a variable."
   ]
  },
  {
   "cell_type": "markdown",
   "id": "3f23d77a-8f80-4c95-b55e-391395a9b057",
   "metadata": {},
   "source": [
    "### Underscore Shortcuts and Previous Outputs"
   ]
  },
  {
   "cell_type": "raw",
   "id": "85b2fff5-15b8-4e5c-9890-9e065591f976",
   "metadata": {},
   "source": [
    "The standard Python shell contains just one simple shortcut for accessing previous output: the variable _ (i.e., a single underscore) is kept updated \n",
    "with the previous output. \n",
    "\n",
    "This works in IPython as well.\n",
    "\n",
    "But IPython takes this a bit further, you can use a double underscore to access the second-to-last output, and a triple underscore to access the third-to-last output (skipping any commands with no output)"
   ]
  },
  {
   "cell_type": "code",
   "execution_count": 29,
   "id": "df36a463-662d-49c0-a86a-37782b236c50",
   "metadata": {},
   "outputs": [
    {
     "name": "stdout",
     "output_type": "stream",
     "text": [
      "1.0\n"
     ]
    }
   ],
   "source": [
    "print(_)"
   ]
  },
  {
   "cell_type": "code",
   "execution_count": 31,
   "id": "f51a1096-cc50-4d37-9df3-8888a8e951e2",
   "metadata": {},
   "outputs": [
    {
     "name": "stdout",
     "output_type": "stream",
     "text": [
      "-0.4161468365471424\n"
     ]
    }
   ],
   "source": [
    "print(___)"
   ]
  },
  {
   "cell_type": "raw",
   "id": "2bf3ef30-c4de-4e96-bb14-4726e1710293",
   "metadata": {},
   "source": [
    "a shorthand for Out[X] is _X (i.e., a single underscore followed by the line number)"
   ]
  },
  {
   "cell_type": "code",
   "execution_count": 32,
   "id": "b7bb0b18-73f3-4158-8b5f-704333cbed45",
   "metadata": {},
   "outputs": [
    {
     "data": {
      "text/plain": [
       "0.9092974268256817"
      ]
     },
     "execution_count": 32,
     "metadata": {},
     "output_type": "execute_result"
    }
   ],
   "source": [
    "Out[15]"
   ]
  },
  {
   "cell_type": "code",
   "execution_count": 33,
   "id": "907c142d-dddd-41d7-ac8f-36502aa412e3",
   "metadata": {},
   "outputs": [
    {
     "data": {
      "text/plain": [
       "0.9092974268256817"
      ]
     },
     "execution_count": 33,
     "metadata": {},
     "output_type": "execute_result"
    }
   ],
   "source": [
    "_15"
   ]
  },
  {
   "cell_type": "markdown",
   "id": "0ff6c3e6-3d04-4db7-a6f7-b46bc0810a3c",
   "metadata": {},
   "source": [
    "### Suppressing Output"
   ]
  },
  {
   "cell_type": "raw",
   "id": "31f94cd5-4fb9-4308-b119-c2b17f34f768",
   "metadata": {},
   "source": [
    "The easiest way to suppress the output of a command is to add a semicolon to the end of the line\n",
    "The result is computed silently, and the output is neither displayed on the screen nor stored in the Out dictionary"
   ]
  },
  {
   "cell_type": "code",
   "execution_count": 35,
   "id": "37001ef5-96ee-4b39-831f-0e7202b30726",
   "metadata": {},
   "outputs": [
    {
     "data": {
      "text/plain": [
       "0.4931505902785393"
      ]
     },
     "execution_count": 35,
     "metadata": {},
     "output_type": "execute_result"
    }
   ],
   "source": [
    "math.sin(2) + math.cos(2)"
   ]
  },
  {
   "cell_type": "code",
   "execution_count": 36,
   "id": "af347983-f7d8-4e72-bac8-23079077cd1e",
   "metadata": {},
   "outputs": [],
   "source": [
    "math.sin(2) + math.cos(2);"
   ]
  },
  {
   "cell_type": "code",
   "execution_count": 37,
   "id": "92d8e1dc-5722-4819-bef7-9e34bd85e62d",
   "metadata": {},
   "outputs": [
    {
     "data": {
      "text/plain": [
       "True"
      ]
     },
     "execution_count": 37,
     "metadata": {},
     "output_type": "execute_result"
    }
   ],
   "source": [
    "35 in Out"
   ]
  },
  {
   "cell_type": "code",
   "execution_count": 39,
   "id": "32d1dc36-4f55-4476-bb1a-948a681ac206",
   "metadata": {},
   "outputs": [
    {
     "data": {
      "text/plain": [
       "False"
      ]
     },
     "execution_count": 39,
     "metadata": {},
     "output_type": "execute_result"
    }
   ],
   "source": [
    "36 in Out"
   ]
  },
  {
   "cell_type": "markdown",
   "id": "705257e8-0386-406e-82bb-f1915eea009c",
   "metadata": {},
   "source": [
    "### Related Magic Commands"
   ]
  },
  {
   "cell_type": "raw",
   "id": "46a7483d-991b-4e29-976e-d5aafbec9b5b",
   "metadata": {},
   "source": [
    "For accessing a batch of previous inputs at once, the %history magic command is very helpful. \n",
    "Here is how you can print the first 4 inputs"
   ]
  },
  {
   "cell_type": "code",
   "execution_count": 45,
   "id": "ef282dcc-7cde-41d0-a1de-ad5f33b0cd78",
   "metadata": {},
   "outputs": [
    {
     "name": "stdout",
     "output_type": "stream",
     "text": [
      "   1: %run myscript.py\n",
      "   2:\n",
      "# Note also that after you’ve run this script, any functions defined within it are available for use in your IPython session\n",
      "\n",
      "%run myscript.py\n",
      "   3: square(5)\n",
      "   4: %run myscript.py\n"
     ]
    }
   ],
   "source": [
    "%history -n 1-4"
   ]
  },
  {
   "cell_type": "raw",
   "id": "ed6fe6e2-a0d4-4f2f-bec9-7d62483bbc56",
   "metadata": {},
   "source": [
    "Other useful magic commands are: \n",
    "    %rerun, which will re-execute some portion of the command history\n",
    "    %save, which saves some set of the command history to a file)."
   ]
  },
  {
   "cell_type": "markdown",
   "id": "67e706d7-9803-4c55-8276-686e906e1a8b",
   "metadata": {},
   "source": [
    "## IPython and Shell Commands"
   ]
  },
  {
   "cell_type": "markdown",
   "id": "f91f1488-d589-4f7a-b8b1-7d7fa2745044",
   "metadata": {},
   "source": [
    "### Shell Commands in IPython"
   ]
  },
  {
   "cell_type": "raw",
   "id": "118200a1-e687-461a-a723-01b656b9141a",
   "metadata": {},
   "source": [
    "Any standard shell command can be used directly in IPython by prefixing it with the ! character"
   ]
  },
  {
   "cell_type": "code",
   "execution_count": 46,
   "id": "4056c3a0-a0ab-47a0-8fa7-9af83cd6be0d",
   "metadata": {},
   "outputs": [
    {
     "name": "stdout",
     "output_type": "stream",
     "text": [
      " EnhancedInteractiveFeatures.ipynb      myscript.py\n",
      "GettingStartedInIPythonAndJupyter.ipynb\n"
     ]
    }
   ],
   "source": [
    "!ls"
   ]
  },
  {
   "cell_type": "code",
   "execution_count": 47,
   "id": "3c332b21-73e3-439f-b63c-c235368fed2a",
   "metadata": {},
   "outputs": [
    {
     "name": "stdout",
     "output_type": "stream",
     "text": [
      "Printing from the shell\n"
     ]
    }
   ],
   "source": [
    "!echo \"Printing from the shell\""
   ]
  },
  {
   "cell_type": "code",
   "execution_count": 48,
   "id": "bc56d862-26c5-47fc-b274-573a879487f6",
   "metadata": {},
   "outputs": [
    {
     "name": "stdout",
     "output_type": "stream",
     "text": [
      "/Users/koushikmahanta/Desktop/ML/ML-learning-001/PythonDataScienceHandbook/Part1-Jupyter\n"
     ]
    }
   ],
   "source": [
    "!pwd"
   ]
  },
  {
   "cell_type": "markdown",
   "id": "f1b10e16-107f-4209-b0eb-c7efce940819",
   "metadata": {},
   "source": [
    "### Passing Values to and from the Shell"
   ]
  },
  {
   "cell_type": "code",
   "execution_count": 49,
   "id": "1a55fa21-a553-4dda-9976-7fac18adfcec",
   "metadata": {},
   "outputs": [],
   "source": [
    "contents = !ls"
   ]
  },
  {
   "cell_type": "code",
   "execution_count": 51,
   "id": "5bf777ca-cdce-47ab-b50a-b63245a5e043",
   "metadata": {},
   "outputs": [
    {
     "name": "stdout",
     "output_type": "stream",
     "text": [
      "[' EnhancedInteractiveFeatures.ipynb', 'GettingStartedInIPythonAndJupyter.ipynb', 'myscript.py']\n"
     ]
    }
   ],
   "source": [
    "print(contents)"
   ]
  },
  {
   "cell_type": "code",
   "execution_count": 52,
   "id": "34b4d1a3-8281-472b-b38c-1ec2c81fd677",
   "metadata": {},
   "outputs": [
    {
     "name": "stdout",
     "output_type": "stream",
     "text": [
      "['/Users/koushikmahanta/Desktop/ML/ML-learning-001/PythonDataScienceHandbook/Part1-Jupyter']\n"
     ]
    }
   ],
   "source": [
    "directory = !pwd\n",
    "print(directory)"
   ]
  },
  {
   "cell_type": "raw",
   "id": "c731866c-c7ce-41c2-9365-10605f1a83a3",
   "metadata": {},
   "source": [
    "These results are not returned as lists, but as a special shell return type defined in IPython"
   ]
  },
  {
   "cell_type": "code",
   "execution_count": 53,
   "id": "ec546672-1fc7-4dde-80a0-e1208ace87a4",
   "metadata": {},
   "outputs": [
    {
     "data": {
      "text/plain": [
       "IPython.utils.text.SList"
      ]
     },
     "execution_count": 53,
     "metadata": {},
     "output_type": "execute_result"
    }
   ],
   "source": [
    "type(directory)"
   ]
  },
  {
   "cell_type": "code",
   "execution_count": 54,
   "id": "79ca54e9-088b-43f4-94cc-b1f291cc18ab",
   "metadata": {},
   "outputs": [],
   "source": [
    "message = \"hello from Python\""
   ]
  },
  {
   "cell_type": "code",
   "execution_count": 55,
   "id": "d625ff9a-0c9b-4f4f-b05a-de4bf0e652c6",
   "metadata": {},
   "outputs": [
    {
     "name": "stdout",
     "output_type": "stream",
     "text": [
      "hello from Python\n"
     ]
    }
   ],
   "source": [
    "!echo {message}"
   ]
  },
  {
   "cell_type": "markdown",
   "id": "e92bad35-0609-4ba5-9300-e0aa585f1490",
   "metadata": {},
   "source": [
    "### Shell-Related Magic Commands"
   ]
  },
  {
   "cell_type": "raw",
   "id": "ceea17be-e075-4474-8ef8-cc88ab83ca42",
   "metadata": {},
   "source": [
    "you can not use !cd to navigate the filesystem\n",
    "The reason is that shell commands in the notebook are executed in a temporary sub‐shell that does not maintain state from command to command.\n",
    "If you’d like to change the working directory in a more enduring way, you can use the %cd magic command"
   ]
  },
  {
   "cell_type": "code",
   "execution_count": 56,
   "id": "54c937d3-a2c9-4c47-b4c2-f35b6e6e1585",
   "metadata": {},
   "outputs": [
    {
     "name": "stdout",
     "output_type": "stream",
     "text": [
      "/Users/koushikmahanta/Desktop/ML/ML-learning-001/PythonDataScienceHandbook\n"
     ]
    }
   ],
   "source": [
    "%cd .."
   ]
  },
  {
   "cell_type": "code",
   "execution_count": 57,
   "id": "c4f04036-8ba5-451b-9d2a-be21b8d1cd72",
   "metadata": {},
   "outputs": [
    {
     "name": "stdout",
     "output_type": "stream",
     "text": [
      "/Users/koushikmahanta/Desktop/ML/ML-learning-001/PythonDataScienceHandbook\n"
     ]
    }
   ],
   "source": [
    "!pwd"
   ]
  },
  {
   "cell_type": "code",
   "execution_count": 58,
   "id": "538de7dc-d6a7-4be8-84e9-ff546129310c",
   "metadata": {},
   "outputs": [
    {
     "name": "stdout",
     "output_type": "stream",
     "text": [
      "\u001b[34mExampleCodesFromAuthor\u001b[m\u001b[m \u001b[34mPart1-Jupyter\u001b[m\u001b[m\n"
     ]
    }
   ],
   "source": [
    "!ls"
   ]
  },
  {
   "cell_type": "raw",
   "id": "203a2a08-c539-419f-9194-27a8090ae42c",
   "metadata": {},
   "source": [
    "In fact, by default you can even use cd command without the % sign"
   ]
  },
  {
   "cell_type": "code",
   "execution_count": 59,
   "id": "783623db-d2ef-4853-ba5f-8ef1b0c689d0",
   "metadata": {},
   "outputs": [
    {
     "name": "stdout",
     "output_type": "stream",
     "text": [
      "/Users/koushikmahanta/Desktop/ML/ML-learning-001/PythonDataScienceHandbook/Part1-Jupyter\n"
     ]
    }
   ],
   "source": [
    "cd Part1-Jupyter/"
   ]
  },
  {
   "cell_type": "raw",
   "id": "d3a8769c-ebfe-4d84-88bc-cf178af2990a",
   "metadata": {},
   "source": [
    "This is known as an automagic function, and the ability to execute such commands without an explicit % can be toggled with the %automagic magic function"
   ]
  },
  {
   "cell_type": "raw",
   "id": "83104c3b-7dad-4929-b842-d6ae6da4b61e",
   "metadata": {},
   "source": [
    "Besides %cd, other available shell-like magic functions are:\n",
    "    %cat, %cp, %env, %ls, %man, %mkdir, %more, %mv, %pwd, %rm, %rmdir\n",
    "\n",
    "Any of these can be used without the % sign if automagic is on."
   ]
  },
  {
   "cell_type": "code",
   "execution_count": 1,
   "id": "6b1d6c24-7aef-48c4-a859-f3571b57b5ad",
   "metadata": {},
   "outputs": [
    {
     "name": "stdout",
     "output_type": "stream",
     "text": [
      "<dictionary> {\n",
      "  BSSID : 36:9d:63:46:32:1f\n",
      "  IPv4 : <array> {\n",
      "    0 : <dictionary> {\n",
      "      Addresses : <array> {\n",
      "        0 : 192.168.207.75\n",
      "      }\n",
      "      ChildServiceID : LINKLOCAL-en0\n",
      "      ConfigMethod : DHCP\n",
      "      DHCP : <dictionary> {\n",
      "        LeaseExpirationTime : 05/31/2023 22:17:05\n",
      "        LeaseStartTime : 05/31/2023 21:17:06\n",
      "        Packet : op = BOOTREPLY\n",
      "htype = 1\n",
      "flags = 0\n",
      "hlen = 6\n",
      "hops = 0\n",
      "xid = 0x960a1e20\n",
      "secs = 0\n",
      "ciaddr = 192.168.207.75\n",
      "yiaddr = 192.168.207.75\n",
      "siaddr = 192.168.207.87\n",
      "giaddr = 0.0.0.0\n",
      "chaddr = 3c:6:30:48:2c:65\n",
      "sname = \n",
      "file = \n",
      "options:\n",
      "Options count is 11\n",
      "dhcp_message_type (uint8): ACK 0x5\n",
      "server_identifier (ip): 192.168.207.87\n",
      "lease_time (uint32): 0xe0f\n",
      "renewal_t1_time_value (uint32): 0x707\n",
      "rebinding_t2_time_value (uint32): 0xc4d\n",
      "subnet_mask (ip): 255.255.255.0\n",
      "broadcast_address (ip): 192.168.207.255\n",
      "router (ip_mult): {192.168.207.87}\n",
      "domain_name_server (ip_mult): {192.168.207.87}\n",
      "vendor_specific (opaque): \n",
      "0000  41 4e 44 52 4f 49 44 5f  4d 45 54 45 52 45 44     ANDROID_METERED \n",
      "\n",
      "end (none): \n",
      "\n",
      "        State : BOUND\n",
      "      }\n",
      "      IsPublished : TRUE\n",
      "      Router : 192.168.207.87\n",
      "      RouterARPVerified : TRUE\n",
      "      ServiceID : EC51C04E-A3F6-4E99-B8C0-173101B239B0\n",
      "      SubnetMasks : <array> {\n",
      "        0 : 255.255.255.0\n",
      "      }\n",
      "    }\n",
      "    1 : <dictionary> {\n",
      "      ConfigMethod : LinkLocal\n",
      "      IsPublished : TRUE\n",
      "      ParentServiceID : EC51C04E-A3F6-4E99-B8C0-173101B239B0\n",
      "      ServiceID : LINKLOCAL-en0\n",
      "    }\n",
      "  }\n",
      "  IPv6 : <array> {\n",
      "    0 : <dictionary> {\n",
      "      ConfigMethod : Automatic\n",
      "      DHCPv6 : <dictionary> {\n",
      "        Mode : None\n",
      "        State : Inactive\n",
      "      }\n",
      "      IsPublished : FALSE\n",
      "      LastFailureStatus : network changed\n",
      "      RTADV : <dictionary> {\n",
      "        State : Solicit\n",
      "      }\n",
      "      ServiceID : EC51C04E-A3F6-4E99-B8C0-173101B239B0\n",
      "    }\n",
      "  }\n",
      "  InterfaceType : WiFi\n",
      "  LinkStatusActive : TRUE\n",
      "  NetworkID : A5C8971C-2E50-4947-9796-B21FE113C06C\n",
      "  SSID : KM31s\n",
      "  Security : WPA2_PSK\n",
      "}\n"
     ]
    }
   ],
   "source": [
    "!ipconfig getsummary en0"
   ]
  },
  {
   "cell_type": "code",
   "execution_count": 2,
   "id": "41b5d8a5-1c5b-442a-ab73-10f845f96864",
   "metadata": {},
   "outputs": [
    {
     "name": "stdout",
     "output_type": "stream",
     "text": [
      "lo0: flags=8049<UP,LOOPBACK,RUNNING,MULTICAST> mtu 16384\n",
      "\toptions=1203<RXCSUM,TXCSUM,TXSTATUS,SW_TIMESTAMP>\n",
      "\tinet 127.0.0.1 netmask 0xff000000 \n",
      "\tinet6 ::1 prefixlen 128 \n",
      "\tinet6 fe80::1%lo0 prefixlen 64 scopeid 0x1 \n",
      "\tnd6 options=201<PERFORMNUD,DAD>\n",
      "gif0: flags=8010<POINTOPOINT,MULTICAST> mtu 1280\n",
      "stf0: flags=0<> mtu 1280\n",
      "anpi1: flags=8863<UP,BROADCAST,SMART,RUNNING,SIMPLEX,MULTICAST> mtu 1500\n",
      "\toptions=400<CHANNEL_IO>\n",
      "\tether 56:78:75:5f:ad:35 \n",
      "\tinet6 fe80::5478:75ff:fe5f:ad35%anpi1 prefixlen 64 scopeid 0x4 \n",
      "\tnd6 options=201<PERFORMNUD,DAD>\n",
      "\tmedia: none\n",
      "\tstatus: inactive\n",
      "anpi0: flags=8863<UP,BROADCAST,SMART,RUNNING,SIMPLEX,MULTICAST> mtu 1500\n",
      "\toptions=400<CHANNEL_IO>\n",
      "\tether 56:78:75:5f:ad:34 \n",
      "\tinet6 fe80::5478:75ff:fe5f:ad34%anpi0 prefixlen 64 scopeid 0x5 \n",
      "\tnd6 options=201<PERFORMNUD,DAD>\n",
      "\tmedia: none\n",
      "\tstatus: inactive\n",
      "en3: flags=8863<UP,BROADCAST,SMART,RUNNING,SIMPLEX,MULTICAST> mtu 1500\n",
      "\toptions=400<CHANNEL_IO>\n",
      "\tether 56:78:75:5f:ad:14 \n",
      "\tnd6 options=201<PERFORMNUD,DAD>\n",
      "\tmedia: none\n",
      "\tstatus: inactive\n",
      "en4: flags=8863<UP,BROADCAST,SMART,RUNNING,SIMPLEX,MULTICAST> mtu 1500\n",
      "\toptions=400<CHANNEL_IO>\n",
      "\tether 56:78:75:5f:ad:15 \n",
      "\tnd6 options=201<PERFORMNUD,DAD>\n",
      "\tmedia: none\n",
      "\tstatus: inactive\n",
      "en1: flags=8963<UP,BROADCAST,SMART,RUNNING,PROMISC,SIMPLEX,MULTICAST> mtu 1500\n",
      "\toptions=460<TSO4,TSO6,CHANNEL_IO>\n",
      "\tether 36:f0:a2:23:b4:80 \n",
      "\tmedia: autoselect <full-duplex>\n",
      "\tstatus: inactive\n",
      "en2: flags=8963<UP,BROADCAST,SMART,RUNNING,PROMISC,SIMPLEX,MULTICAST> mtu 1500\n",
      "\toptions=460<TSO4,TSO6,CHANNEL_IO>\n",
      "\tether 36:f0:a2:23:b4:84 \n",
      "\tmedia: autoselect <full-duplex>\n",
      "\tstatus: inactive\n",
      "ap1: flags=8843<UP,BROADCAST,RUNNING,SIMPLEX,MULTICAST> mtu 1500\n",
      "\toptions=6463<RXCSUM,TXCSUM,TSO4,TSO6,CHANNEL_IO,PARTIAL_CSUM,ZEROINVERT_CSUM>\n",
      "\tether 3e:06:30:48:2c:65 \n",
      "\tinet6 fe80::3c06:30ff:fe48:2c65%ap1 prefixlen 64 scopeid 0xa \n",
      "\tnd6 options=201<PERFORMNUD,DAD>\n",
      "\tmedia: autoselect (<unknown type>)\n",
      "\tstatus: inactive\n",
      "en0: flags=8863<UP,BROADCAST,SMART,RUNNING,SIMPLEX,MULTICAST> mtu 1500\n",
      "\toptions=400<CHANNEL_IO>\n",
      "\tether 3c:06:30:48:2c:65 \n",
      "\tinet6 fe80::ca0:91d0:ded0:f729%en0 prefixlen 64 secured scopeid 0xb \n",
      "\tinet 192.168.207.75 netmask 0xffffff00 broadcast 192.168.207.255\n",
      "\tnd6 options=201<PERFORMNUD,DAD>\n",
      "\tmedia: autoselect\n",
      "\tstatus: active\n",
      "bridge0: flags=8863<UP,BROADCAST,SMART,RUNNING,SIMPLEX,MULTICAST> mtu 1500\n",
      "\toptions=63<RXCSUM,TXCSUM,TSO4,TSO6>\n",
      "\tether 36:f0:a2:23:b4:80 \n",
      "\tConfiguration:\n",
      "\t\tid 0:0:0:0:0:0 priority 0 hellotime 0 fwddelay 0\n",
      "\t\tmaxage 0 holdcnt 0 proto stp maxaddr 100 timeout 1200\n",
      "\t\troot id 0:0:0:0:0:0 priority 0 ifcost 0 port 0\n",
      "\t\tipfilter disabled flags 0x0\n",
      "\tmember: en1 flags=3<LEARNING,DISCOVER>\n",
      "\t        ifmaxaddr 0 port 8 priority 0 path cost 0\n",
      "\tmember: en2 flags=3<LEARNING,DISCOVER>\n",
      "\t        ifmaxaddr 0 port 9 priority 0 path cost 0\n",
      "\tnd6 options=201<PERFORMNUD,DAD>\n",
      "\tmedia: <unknown type>\n",
      "\tstatus: inactive\n",
      "awdl0: flags=8843<UP,BROADCAST,RUNNING,SIMPLEX,MULTICAST> mtu 1500\n",
      "\toptions=6463<RXCSUM,TXCSUM,TSO4,TSO6,CHANNEL_IO,PARTIAL_CSUM,ZEROINVERT_CSUM>\n",
      "\tether 76:09:01:db:62:56 \n",
      "\tinet6 fe80::7409:1ff:fedb:6256%awdl0 prefixlen 64 scopeid 0xd \n",
      "\tnd6 options=201<PERFORMNUD,DAD>\n",
      "\tmedia: autoselect\n",
      "\tstatus: active\n",
      "llw0: flags=8863<UP,BROADCAST,SMART,RUNNING,SIMPLEX,MULTICAST> mtu 1500\n",
      "\toptions=400<CHANNEL_IO>\n",
      "\tether 76:09:01:db:62:56 \n",
      "\tinet6 fe80::7409:1ff:fedb:6256%llw0 prefixlen 64 scopeid 0xe \n",
      "\tnd6 options=201<PERFORMNUD,DAD>\n",
      "\tmedia: autoselect\n",
      "\tstatus: inactive\n",
      "utun0: flags=8051<UP,POINTOPOINT,RUNNING,MULTICAST> mtu 1380\n",
      "\tinet6 fe80::7282:53e:922b:af52%utun0 prefixlen 64 scopeid 0xf \n",
      "\tnd6 options=201<PERFORMNUD,DAD>\n",
      "utun1: flags=8051<UP,POINTOPOINT,RUNNING,MULTICAST> mtu 2000\n",
      "\tinet6 fe80::8ef4:3db1:33ad:c6c3%utun1 prefixlen 64 scopeid 0x10 \n",
      "\tnd6 options=201<PERFORMNUD,DAD>\n",
      "utun2: flags=8051<UP,POINTOPOINT,RUNNING,MULTICAST> mtu 1000\n",
      "\tinet6 fe80::ce81:b1c:bd2c:69e%utun2 prefixlen 64 scopeid 0x11 \n",
      "\tnd6 options=201<PERFORMNUD,DAD>\n"
     ]
    }
   ],
   "source": [
    "!ifconfig"
   ]
  }
 ],
 "metadata": {
  "kernelspec": {
   "display_name": "Python 3 (ipykernel)",
   "language": "python",
   "name": "python3"
  },
  "language_info": {
   "codemirror_mode": {
    "name": "ipython",
    "version": 3
   },
   "file_extension": ".py",
   "mimetype": "text/x-python",
   "name": "python",
   "nbconvert_exporter": "python",
   "pygments_lexer": "ipython3",
   "version": "3.9.13"
  }
 },
 "nbformat": 4,
 "nbformat_minor": 5
}
