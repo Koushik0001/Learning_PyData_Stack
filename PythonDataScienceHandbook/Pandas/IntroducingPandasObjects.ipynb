{
 "cells": [
  {
   "cell_type": "markdown",
   "id": "149136d7-f8e1-48ca-b7ef-46100cd2de53",
   "metadata": {
    "tags": []
   },
   "source": [
    "# <u>Introducing Pandas Objects</u>"
   ]
  },
  {
   "cell_type": "code",
   "execution_count": 1,
   "id": "16c729c2-77c0-4e01-904e-6afa7c7cc3f7",
   "metadata": {},
   "outputs": [
    {
     "data": {
      "text/plain": [
       "'1.4.4'"
      ]
     },
     "execution_count": 1,
     "metadata": {},
     "output_type": "execute_result"
    }
   ],
   "source": [
    "import pandas as pd\n",
    "pd.__version__"
   ]
  },
  {
   "cell_type": "code",
   "execution_count": 2,
   "id": "c2b06ef2-d243-4cdc-9beb-02356bbe3d79",
   "metadata": {},
   "outputs": [],
   "source": [
    "import numpy as np"
   ]
  },
  {
   "cell_type": "markdown",
   "id": "18a54797-5722-439c-8863-361443b539fd",
   "metadata": {
    "tags": []
   },
   "source": [
    "## The Pandas Series Object"
   ]
  },
  {
   "cell_type": "code",
   "execution_count": 3,
   "id": "0caa2e94-9157-4d5c-8247-7504a56e45f2",
   "metadata": {},
   "outputs": [
    {
     "data": {
      "text/plain": [
       "0    0.25\n",
       "1    0.50\n",
       "2    0.75\n",
       "3    1.00\n",
       "dtype: float64"
      ]
     },
     "execution_count": 3,
     "metadata": {},
     "output_type": "execute_result"
    }
   ],
   "source": [
    "data = pd.Series([0.25, 0.5, 0.75, 1])\n",
    "data"
   ]
  },
  {
   "cell_type": "code",
   "execution_count": 5,
   "id": "20d361db-26aa-4fdd-9980-b65b7e0c97d9",
   "metadata": {},
   "outputs": [
    {
     "data": {
      "text/plain": [
       "array([0.25, 0.5 , 0.75, 1.  ])"
      ]
     },
     "execution_count": 5,
     "metadata": {},
     "output_type": "execute_result"
    }
   ],
   "source": [
    "data.values"
   ]
  },
  {
   "cell_type": "code",
   "execution_count": 4,
   "id": "78093644-79a2-437b-aaf2-6f35d52d6cb3",
   "metadata": {},
   "outputs": [
    {
     "data": {
      "text/plain": [
       "numpy.ndarray"
      ]
     },
     "execution_count": 4,
     "metadata": {},
     "output_type": "execute_result"
    }
   ],
   "source": [
    "type(data.values)"
   ]
  },
  {
   "cell_type": "code",
   "execution_count": 6,
   "id": "b9f30fdc-68fc-4143-8463-8177c5853aa7",
   "metadata": {},
   "outputs": [
    {
     "data": {
      "text/plain": [
       "RangeIndex(start=0, stop=4, step=1)"
      ]
     },
     "execution_count": 6,
     "metadata": {},
     "output_type": "execute_result"
    }
   ],
   "source": [
    "data.index"
   ]
  },
  {
   "cell_type": "code",
   "execution_count": 7,
   "id": "3fceda54-dde5-4f48-9d8e-e4c0679628fb",
   "metadata": {},
   "outputs": [
    {
     "data": {
      "text/plain": [
       "pandas.core.indexes.range.RangeIndex"
      ]
     },
     "execution_count": 7,
     "metadata": {},
     "output_type": "execute_result"
    }
   ],
   "source": [
    "type(data.index)"
   ]
  },
  {
   "cell_type": "raw",
   "id": "3f99f006-024b-4765-b31b-7e68c01e4c6c",
   "metadata": {},
   "source": [
    "The index is an array-like object of type pd.Index, which we’ll discuss in more detail momentarily"
   ]
  },
  {
   "cell_type": "code",
   "execution_count": 8,
   "id": "d6b4d41a-ac88-4812-9d97-4e0c6efe3238",
   "metadata": {},
   "outputs": [
    {
     "data": {
      "text/plain": [
       "0.25"
      ]
     },
     "execution_count": 8,
     "metadata": {},
     "output_type": "execute_result"
    }
   ],
   "source": [
    "data[0]"
   ]
  },
  {
   "cell_type": "code",
   "execution_count": 9,
   "id": "784dacff-64aa-4db0-b595-96797a7f1b4c",
   "metadata": {},
   "outputs": [
    {
     "data": {
      "text/plain": [
       "1    0.50\n",
       "2    0.75\n",
       "dtype: float64"
      ]
     },
     "execution_count": 9,
     "metadata": {},
     "output_type": "execute_result"
    }
   ],
   "source": [
    "data[1:3]"
   ]
  },
  {
   "cell_type": "markdown",
   "id": "1d4ed052-d239-4f20-942c-57b187e1b938",
   "metadata": {},
   "source": [
    "### Series as Generalized NumPy Array"
   ]
  },
  {
   "cell_type": "raw",
   "id": "031035f6-1b36-40f2-8a5a-4ada113cf3d3",
   "metadata": {},
   "source": [
    "NumPy array has an implicitly defined integer index used to access the values.\n",
    "\n",
    "Pandas Series has an explicitly defined index associated with the values.\n",
    "This explicit index definition gives the Series object additional capabilities.\n",
    "For example, the index need not be an integer, but can consist of values of any desired type."
   ]
  },
  {
   "cell_type": "code",
   "execution_count": 12,
   "id": "246bdd49-bf95-453d-9805-320bfd11822e",
   "metadata": {},
   "outputs": [
    {
     "data": {
      "text/plain": [
       "a    0.25\n",
       "b    0.50\n",
       "c    0.75\n",
       "d    1.00\n",
       "dtype: float64"
      ]
     },
     "execution_count": 12,
     "metadata": {},
     "output_type": "execute_result"
    }
   ],
   "source": [
    "# we can use strings as an index\n",
    "\n",
    "data = pd.Series([0.25, 0.5, 0.75, 1.0],\n",
    "           index=['a', 'b', 'c', 'd'])\n",
    "data"
   ]
  },
  {
   "cell_type": "code",
   "execution_count": 13,
   "id": "76b149b4-08fb-4eee-a872-051b08c6c6a8",
   "metadata": {},
   "outputs": [
    {
     "data": {
      "text/plain": [
       "0.5"
      ]
     },
     "execution_count": 13,
     "metadata": {},
     "output_type": "execute_result"
    }
   ],
   "source": [
    "data['b']"
   ]
  },
  {
   "cell_type": "code",
   "execution_count": 14,
   "id": "63429e82-a173-47be-a61a-f131bf1cb94d",
   "metadata": {},
   "outputs": [
    {
     "data": {
      "text/plain": [
       "2    0.25\n",
       "5    0.50\n",
       "3    0.75\n",
       "7    1.00\n",
       "dtype: float64"
      ]
     },
     "execution_count": 14,
     "metadata": {},
     "output_type": "execute_result"
    }
   ],
   "source": [
    "# We can even use noncontiguous or nonsequential indices\n",
    "\n",
    "data = pd.Series([0.25, 0.5, 0.75, 1.0],\n",
    "           index=[2, 5, 3, 7])\n",
    "data"
   ]
  },
  {
   "cell_type": "code",
   "execution_count": 15,
   "id": "ff7c31c6-94bc-483d-b5f0-b28cc930e593",
   "metadata": {},
   "outputs": [
    {
     "data": {
      "text/plain": [
       "0.5"
      ]
     },
     "execution_count": 15,
     "metadata": {},
     "output_type": "execute_result"
    }
   ],
   "source": [
    "data[5]"
   ]
  },
  {
   "cell_type": "markdown",
   "id": "b27f873f-a6e3-43ab-ab42-e8f2d9dcf7e0",
   "metadata": {},
   "source": [
    "### Series as Specialized Dictionary"
   ]
  },
  {
   "cell_type": "code",
   "execution_count": 6,
   "id": "fc123c47-c9c6-4473-867c-5e37f9ed1936",
   "metadata": {},
   "outputs": [],
   "source": [
    "num_letters_dict = {\"Koushik\":7, \"Raymond\":7, \"Francis\":7, \"Thomas\":6,}\n",
    "num_letters_sereis = pd.Series(num_letters_dict)"
   ]
  },
  {
   "cell_type": "code",
   "execution_count": 7,
   "id": "bc782171-6cc0-41db-85a1-ce337a1b4300",
   "metadata": {},
   "outputs": [
    {
     "data": {
      "text/plain": [
       "Koushik    7\n",
       "Raymond    7\n",
       "Francis    7\n",
       "Thomas     6\n",
       "dtype: int64"
      ]
     },
     "execution_count": 7,
     "metadata": {},
     "output_type": "execute_result"
    }
   ],
   "source": [
    "num_letters_sereis"
   ]
  },
  {
   "cell_type": "code",
   "execution_count": 8,
   "id": "cc07c375-2b87-41b9-ad45-b3f566a3f845",
   "metadata": {},
   "outputs": [
    {
     "data": {
      "text/plain": [
       "7"
      ]
     },
     "execution_count": 8,
     "metadata": {},
     "output_type": "execute_result"
    }
   ],
   "source": [
    "num_letters_sereis[\"Koushik\"]"
   ]
  },
  {
   "cell_type": "code",
   "execution_count": 9,
   "id": "97e430cd-3c28-4513-90b7-bdc9def01cfe",
   "metadata": {},
   "outputs": [
    {
     "data": {
      "text/plain": [
       "Koushik    7\n",
       "Raymond    7\n",
       "Francis    7\n",
       "dtype: int64"
      ]
     },
     "execution_count": 9,
     "metadata": {},
     "output_type": "execute_result"
    }
   ],
   "source": [
    "num_letters_sereis[\"Koushik\":\"Francis\"]"
   ]
  },
  {
   "cell_type": "code",
   "execution_count": 10,
   "id": "8d919348-61c9-43b6-8b6d-404729053000",
   "metadata": {},
   "outputs": [
    {
     "data": {
      "text/plain": [
       "[1, 2]"
      ]
     },
     "execution_count": 10,
     "metadata": {},
     "output_type": "execute_result"
    }
   ],
   "source": [
    "a = [1,2,3,4,5]\n",
    "a[0:2]"
   ]
  },
  {
   "cell_type": "markdown",
   "id": "b72a953d-4d9b-41df-adfd-4069841a67c7",
   "metadata": {},
   "source": [
    "### Constructing Series Objects"
   ]
  },
  {
   "cell_type": "raw",
   "id": "08052d19-a2be-4fa7-b2f3-e7d86aedeb02",
   "metadata": {},
   "source": [
    "We’ve already seen a few ways of constructing a Pandas Series from scratch. All of them are some version of the following:\n",
    "    pd.Series(data, index=index)\n",
    "   \n",
    "where index is an optional argument, and data can be one of many entities."
   ]
  },
  {
   "cell_type": "code",
   "execution_count": 13,
   "id": "3c604696-f560-42d8-b43e-f8e1bfef9554",
   "metadata": {},
   "outputs": [
    {
     "data": {
      "text/plain": [
       "0    0.761488\n",
       "1    0.008723\n",
       "2    0.423022\n",
       "3    0.752773\n",
       "4    0.702290\n",
       "5    0.666283\n",
       "6    0.620289\n",
       "dtype: float64"
      ]
     },
     "execution_count": 13,
     "metadata": {},
     "output_type": "execute_result"
    }
   ],
   "source": [
    "# data can be a list or NumPy array, in which case index defaults to an integer sequence\n",
    "\n",
    "ar = np.random.rand(7)\n",
    "ar_series = pd.Series(ar)\n",
    "ar_series"
   ]
  },
  {
   "cell_type": "code",
   "execution_count": 14,
   "id": "4e6da5cd-1268-46e0-92ad-b4c7694f35df",
   "metadata": {},
   "outputs": [
    {
     "data": {
      "text/plain": [
       "7     7\n",
       "14    7\n",
       "21    7\n",
       "28    7\n",
       "35    7\n",
       "dtype: int64"
      ]
     },
     "execution_count": 14,
     "metadata": {},
     "output_type": "execute_result"
    }
   ],
   "source": [
    "# data can be a scalar, which is repeated to fill the specified index\n",
    "\n",
    "scaler_series = pd.Series(7, index=[7, 14, 21, 28, 35])\n",
    "scaler_series"
   ]
  },
  {
   "cell_type": "code",
   "execution_count": 15,
   "id": "b1bbd86b-d7b0-43c3-8ab0-ff34e1459496",
   "metadata": {},
   "outputs": [
    {
     "data": {
      "text/plain": [
       "Koushik    7\n",
       "Raymond    7\n",
       "Francis    7\n",
       "Thomas     6\n",
       "dtype: int64"
      ]
     },
     "execution_count": 15,
     "metadata": {},
     "output_type": "execute_result"
    }
   ],
   "source": [
    "# data can be a dictionary, in which case index defaults to the dictionary keys\n",
    "\n",
    "num_letters_sereis"
   ]
  },
  {
   "cell_type": "code",
   "execution_count": 24,
   "id": "b961d220-918a-471b-8b9b-b428ef22f87b",
   "metadata": {},
   "outputs": [
    {
     "data": {
      "text/plain": [
       "3    c\n",
       "1    b\n",
       "2    a\n",
       "dtype: object"
      ]
     },
     "execution_count": 24,
     "metadata": {},
     "output_type": "execute_result"
    }
   ],
   "source": [
    "# In each case, the index can be explicitly set to control the order or the subset of keys used\n",
    "\n",
    "pd.Series({2:'a', 1:'b', 3:'c'}, index=[3, 1, 2]) # controlling the order of the keys used"
   ]
  },
  {
   "cell_type": "code",
   "execution_count": 25,
   "id": "a7e7e9b1-f359-4105-bf46-11c2028a2211",
   "metadata": {},
   "outputs": [
    {
     "data": {
      "text/plain": [
       "1    b\n",
       "2    a\n",
       "dtype: object"
      ]
     },
     "execution_count": 25,
     "metadata": {},
     "output_type": "execute_result"
    }
   ],
   "source": [
    " pd.Series({2:'a', 1:'b', 3:'c'}, index=[1, 2]) # controlling the subset of the keys used"
   ]
  },
  {
   "cell_type": "code",
   "execution_count": 26,
   "id": "889dbdc2-04b0-4b16-b76b-586b7bb07926",
   "metadata": {},
   "outputs": [
    {
     "data": {
      "text/plain": [
       "1      b\n",
       "4    NaN\n",
       "dtype: object"
      ]
     },
     "execution_count": 26,
     "metadata": {},
     "output_type": "execute_result"
    }
   ],
   "source": [
    " pd.Series({2:'a', 1:'b', 3:'c'}, index=[1, 4])"
   ]
  },
  {
   "cell_type": "markdown",
   "id": "fc151963-effe-48d6-93d3-e6eb99c21cbf",
   "metadata": {},
   "source": [
    "## The Pandas DataFrame Object"
   ]
  },
  {
   "cell_type": "raw",
   "id": "043fda37-a3b3-4b20-948d-af0d56751d35",
   "metadata": {},
   "source": [
    " Like the Series object discussed in the previous section, the DataFrame can be thought of either as a generalization of a NumPy array, or as a specialization of a Python dictionary."
   ]
  },
  {
   "cell_type": "markdown",
   "id": "383185e8-2acd-43ba-a6fc-6b37f729f78b",
   "metadata": {},
   "source": [
    "### DataFrame as Generalized NumPy Array"
   ]
  },
  {
   "cell_type": "code",
   "execution_count": 27,
   "id": "b37c42ec-5be5-4fc8-84fc-215a9a1fc9a7",
   "metadata": {},
   "outputs": [
    {
     "data": {
      "text/plain": [
       "Koushik       Mahanta\n",
       "Raymond    Reddington\n",
       "Francis     Underwood\n",
       "Thomas         Shelby\n",
       "dtype: object"
      ]
     },
     "execution_count": 27,
     "metadata": {},
     "output_type": "execute_result"
    }
   ],
   "source": [
    "shername_dict = {\"Koushik\":\"Mahanta\", \"Raymond\":\"Reddington\", \"Francis\":\"Underwood\", \"Thomas\":\"Shelby\"}\n",
    "shername_series = pd.Series(shername_dict)\n",
    "shername_series"
   ]
  },
  {
   "cell_type": "code",
   "execution_count": 28,
   "id": "b607b583-14cb-4abf-ab26-0fe54cb19f57",
   "metadata": {},
   "outputs": [
    {
     "data": {
      "text/html": [
       "<div>\n",
       "<style scoped>\n",
       "    .dataframe tbody tr th:only-of-type {\n",
       "        vertical-align: middle;\n",
       "    }\n",
       "\n",
       "    .dataframe tbody tr th {\n",
       "        vertical-align: top;\n",
       "    }\n",
       "\n",
       "    .dataframe thead th {\n",
       "        text-align: right;\n",
       "    }\n",
       "</style>\n",
       "<table border=\"1\" class=\"dataframe\">\n",
       "  <thead>\n",
       "    <tr style=\"text-align: right;\">\n",
       "      <th></th>\n",
       "      <th>Number Of Letters</th>\n",
       "      <th>Shername</th>\n",
       "    </tr>\n",
       "  </thead>\n",
       "  <tbody>\n",
       "    <tr>\n",
       "      <th>Koushik</th>\n",
       "      <td>7</td>\n",
       "      <td>Mahanta</td>\n",
       "    </tr>\n",
       "    <tr>\n",
       "      <th>Raymond</th>\n",
       "      <td>7</td>\n",
       "      <td>Reddington</td>\n",
       "    </tr>\n",
       "    <tr>\n",
       "      <th>Francis</th>\n",
       "      <td>7</td>\n",
       "      <td>Underwood</td>\n",
       "    </tr>\n",
       "    <tr>\n",
       "      <th>Thomas</th>\n",
       "      <td>6</td>\n",
       "      <td>Shelby</td>\n",
       "    </tr>\n",
       "  </tbody>\n",
       "</table>\n",
       "</div>"
      ],
      "text/plain": [
       "         Number Of Letters    Shername\n",
       "Koushik                  7     Mahanta\n",
       "Raymond                  7  Reddington\n",
       "Francis                  7   Underwood\n",
       "Thomas                   6      Shelby"
      ]
     },
     "execution_count": 28,
     "metadata": {},
     "output_type": "execute_result"
    }
   ],
   "source": [
    "legends = pd.DataFrame({\"Number Of Letters\":num_letters_sereis, \"Shername\":shername_series})\n",
    "legends"
   ]
  },
  {
   "cell_type": "code",
   "execution_count": 29,
   "id": "b4899329-84f6-4fcc-894d-9c5ffe87f312",
   "metadata": {},
   "outputs": [
    {
     "data": {
      "text/plain": [
       "Index(['Koushik', 'Raymond', 'Francis', 'Thomas'], dtype='object')"
      ]
     },
     "execution_count": 29,
     "metadata": {},
     "output_type": "execute_result"
    }
   ],
   "source": [
    "legends.index"
   ]
  },
  {
   "cell_type": "code",
   "execution_count": 30,
   "id": "e616c93c-cd9d-460d-b6e1-a70b9bb837bd",
   "metadata": {},
   "outputs": [
    {
     "data": {
      "text/plain": [
       "Index(['Number Of Letters', 'Shername'], dtype='object')"
      ]
     },
     "execution_count": 30,
     "metadata": {},
     "output_type": "execute_result"
    }
   ],
   "source": [
    "legends.columns"
   ]
  },
  {
   "cell_type": "markdown",
   "id": "ad72693c-6da6-45ac-823c-6597668efa7b",
   "metadata": {},
   "source": [
    "### DataFrame as Specialized Dictionary"
   ]
  },
  {
   "cell_type": "code",
   "execution_count": 35,
   "id": "01288e86-9cdf-4c3f-805a-1d593ee1f62a",
   "metadata": {},
   "outputs": [
    {
     "data": {
      "text/plain": [
       "Koushik       Mahanta\n",
       "Raymond    Reddington\n",
       "Francis     Underwood\n",
       "Thomas         Shelby\n",
       "Name: Shername, dtype: object"
      ]
     },
     "execution_count": 35,
     "metadata": {},
     "output_type": "execute_result"
    }
   ],
   "source": [
    "legends[\"Shername\"]"
   ]
  },
  {
   "cell_type": "code",
   "execution_count": 34,
   "id": "47e5d22a-c0de-4785-821e-a924002a8a96",
   "metadata": {},
   "outputs": [
    {
     "data": {
      "text/plain": [
       "'Mahanta'"
      ]
     },
     "execution_count": 34,
     "metadata": {},
     "output_type": "execute_result"
    }
   ],
   "source": [
    "legends[\"Shername\"][\"Koushik\"]"
   ]
  },
  {
   "cell_type": "markdown",
   "id": "977d5a75-81f4-402a-a3c0-cb40e44febc2",
   "metadata": {},
   "source": [
    "### Constructing DataFrame Objects"
   ]
  },
  {
   "cell_type": "markdown",
   "id": "476f7a8f-cdd6-43d4-97f8-429edd5af3e4",
   "metadata": {},
   "source": [
    "#### From a single Series object"
   ]
  },
  {
   "cell_type": "code",
   "execution_count": 43,
   "id": "6cdc298c-ba04-4459-bdf0-2d6ffc907810",
   "metadata": {},
   "outputs": [
    {
     "data": {
      "text/html": [
       "<div>\n",
       "<style scoped>\n",
       "    .dataframe tbody tr th:only-of-type {\n",
       "        vertical-align: middle;\n",
       "    }\n",
       "\n",
       "    .dataframe tbody tr th {\n",
       "        vertical-align: top;\n",
       "    }\n",
       "\n",
       "    .dataframe thead th {\n",
       "        text-align: right;\n",
       "    }\n",
       "</style>\n",
       "<table border=\"1\" class=\"dataframe\">\n",
       "  <thead>\n",
       "    <tr style=\"text-align: right;\">\n",
       "      <th></th>\n",
       "      <th>Number of Letters</th>\n",
       "    </tr>\n",
       "  </thead>\n",
       "  <tbody>\n",
       "    <tr>\n",
       "      <th>Koushik</th>\n",
       "      <td>7</td>\n",
       "    </tr>\n",
       "    <tr>\n",
       "      <th>Raymond</th>\n",
       "      <td>7</td>\n",
       "    </tr>\n",
       "    <tr>\n",
       "      <th>Francis</th>\n",
       "      <td>7</td>\n",
       "    </tr>\n",
       "    <tr>\n",
       "      <th>Thomas</th>\n",
       "      <td>6</td>\n",
       "    </tr>\n",
       "  </tbody>\n",
       "</table>\n",
       "</div>"
      ],
      "text/plain": [
       "         Number of Letters\n",
       "Koushik                  7\n",
       "Raymond                  7\n",
       "Francis                  7\n",
       "Thomas                   6"
      ]
     },
     "execution_count": 43,
     "metadata": {},
     "output_type": "execute_result"
    }
   ],
   "source": [
    "pd.DataFrame(num_letters_sereis, columns=[\"Number of Letters\"])"
   ]
  },
  {
   "cell_type": "markdown",
   "id": "32d1c0d5-80e8-4347-8178-1f2e4f173ec5",
   "metadata": {},
   "source": [
    "#### From a list of dicts"
   ]
  },
  {
   "cell_type": "code",
   "execution_count": 45,
   "id": "bcdcc292-f593-4f51-96bb-19f7e029deae",
   "metadata": {},
   "outputs": [
    {
     "data": {
      "text/html": [
       "<div>\n",
       "<style scoped>\n",
       "    .dataframe tbody tr th:only-of-type {\n",
       "        vertical-align: middle;\n",
       "    }\n",
       "\n",
       "    .dataframe tbody tr th {\n",
       "        vertical-align: top;\n",
       "    }\n",
       "\n",
       "    .dataframe thead th {\n",
       "        text-align: right;\n",
       "    }\n",
       "</style>\n",
       "<table border=\"1\" class=\"dataframe\">\n",
       "  <thead>\n",
       "    <tr style=\"text-align: right;\">\n",
       "      <th></th>\n",
       "      <th>number</th>\n",
       "      <th>square</th>\n",
       "    </tr>\n",
       "  </thead>\n",
       "  <tbody>\n",
       "    <tr>\n",
       "      <th>0</th>\n",
       "      <td>0</td>\n",
       "      <td>0</td>\n",
       "    </tr>\n",
       "    <tr>\n",
       "      <th>1</th>\n",
       "      <td>1</td>\n",
       "      <td>1</td>\n",
       "    </tr>\n",
       "    <tr>\n",
       "      <th>2</th>\n",
       "      <td>2</td>\n",
       "      <td>4</td>\n",
       "    </tr>\n",
       "    <tr>\n",
       "      <th>3</th>\n",
       "      <td>3</td>\n",
       "      <td>9</td>\n",
       "    </tr>\n",
       "    <tr>\n",
       "      <th>4</th>\n",
       "      <td>4</td>\n",
       "      <td>16</td>\n",
       "    </tr>\n",
       "    <tr>\n",
       "      <th>5</th>\n",
       "      <td>5</td>\n",
       "      <td>25</td>\n",
       "    </tr>\n",
       "    <tr>\n",
       "      <th>6</th>\n",
       "      <td>6</td>\n",
       "      <td>36</td>\n",
       "    </tr>\n",
       "    <tr>\n",
       "      <th>7</th>\n",
       "      <td>7</td>\n",
       "      <td>49</td>\n",
       "    </tr>\n",
       "    <tr>\n",
       "      <th>8</th>\n",
       "      <td>8</td>\n",
       "      <td>64</td>\n",
       "    </tr>\n",
       "    <tr>\n",
       "      <th>9</th>\n",
       "      <td>9</td>\n",
       "      <td>81</td>\n",
       "    </tr>\n",
       "  </tbody>\n",
       "</table>\n",
       "</div>"
      ],
      "text/plain": [
       "   number  square\n",
       "0       0       0\n",
       "1       1       1\n",
       "2       2       4\n",
       "3       3       9\n",
       "4       4      16\n",
       "5       5      25\n",
       "6       6      36\n",
       "7       7      49\n",
       "8       8      64\n",
       "9       9      81"
      ]
     },
     "execution_count": 45,
     "metadata": {},
     "output_type": "execute_result"
    }
   ],
   "source": [
    "pd.DataFrame([{\"number\":i, \"square\":i**2} for i in range(0,10)])"
   ]
  },
  {
   "cell_type": "code",
   "execution_count": 48,
   "id": "91517960-5e10-4b8a-b7a0-694c5fc5ef0d",
   "metadata": {},
   "outputs": [
    {
     "data": {
      "text/html": [
       "<div>\n",
       "<style scoped>\n",
       "    .dataframe tbody tr th:only-of-type {\n",
       "        vertical-align: middle;\n",
       "    }\n",
       "\n",
       "    .dataframe tbody tr th {\n",
       "        vertical-align: top;\n",
       "    }\n",
       "\n",
       "    .dataframe thead th {\n",
       "        text-align: right;\n",
       "    }\n",
       "</style>\n",
       "<table border=\"1\" class=\"dataframe\">\n",
       "  <thead>\n",
       "    <tr style=\"text-align: right;\">\n",
       "      <th></th>\n",
       "      <th>a</th>\n",
       "      <th>b</th>\n",
       "      <th>c</th>\n",
       "    </tr>\n",
       "  </thead>\n",
       "  <tbody>\n",
       "    <tr>\n",
       "      <th>0</th>\n",
       "      <td>1.0</td>\n",
       "      <td>2</td>\n",
       "      <td>NaN</td>\n",
       "    </tr>\n",
       "    <tr>\n",
       "      <th>1</th>\n",
       "      <td>NaN</td>\n",
       "      <td>3</td>\n",
       "      <td>4.0</td>\n",
       "    </tr>\n",
       "  </tbody>\n",
       "</table>\n",
       "</div>"
      ],
      "text/plain": [
       "     a  b    c\n",
       "0  1.0  2  NaN\n",
       "1  NaN  3  4.0"
      ]
     },
     "execution_count": 48,
     "metadata": {},
     "output_type": "execute_result"
    }
   ],
   "source": [
    "pd.DataFrame([{'a': 1, 'b': 2}, {'b': 3, 'c': 4}])"
   ]
  },
  {
   "cell_type": "markdown",
   "id": "c512d96d-508b-44e0-a6e3-73f38b0fcc24",
   "metadata": {},
   "source": [
    "#### From a dictionary of Series objects"
   ]
  },
  {
   "cell_type": "code",
   "execution_count": 49,
   "id": "519fd86f-5f99-4559-b37f-811af5e86bbb",
   "metadata": {},
   "outputs": [
    {
     "data": {
      "text/html": [
       "<div>\n",
       "<style scoped>\n",
       "    .dataframe tbody tr th:only-of-type {\n",
       "        vertical-align: middle;\n",
       "    }\n",
       "\n",
       "    .dataframe tbody tr th {\n",
       "        vertical-align: top;\n",
       "    }\n",
       "\n",
       "    .dataframe thead th {\n",
       "        text-align: right;\n",
       "    }\n",
       "</style>\n",
       "<table border=\"1\" class=\"dataframe\">\n",
       "  <thead>\n",
       "    <tr style=\"text-align: right;\">\n",
       "      <th></th>\n",
       "      <th>Shername</th>\n",
       "      <th>Number Of Letters</th>\n",
       "    </tr>\n",
       "  </thead>\n",
       "  <tbody>\n",
       "    <tr>\n",
       "      <th>Koushik</th>\n",
       "      <td>Mahanta</td>\n",
       "      <td>7</td>\n",
       "    </tr>\n",
       "    <tr>\n",
       "      <th>Raymond</th>\n",
       "      <td>Reddington</td>\n",
       "      <td>7</td>\n",
       "    </tr>\n",
       "    <tr>\n",
       "      <th>Francis</th>\n",
       "      <td>Underwood</td>\n",
       "      <td>7</td>\n",
       "    </tr>\n",
       "    <tr>\n",
       "      <th>Thomas</th>\n",
       "      <td>Shelby</td>\n",
       "      <td>6</td>\n",
       "    </tr>\n",
       "  </tbody>\n",
       "</table>\n",
       "</div>"
      ],
      "text/plain": [
       "           Shername  Number Of Letters\n",
       "Koushik     Mahanta                  7\n",
       "Raymond  Reddington                  7\n",
       "Francis   Underwood                  7\n",
       "Thomas       Shelby                  6"
      ]
     },
     "execution_count": 49,
     "metadata": {},
     "output_type": "execute_result"
    }
   ],
   "source": [
    "pd.DataFrame({\"Shername\":shername_series, \"Number Of Letters\":num_letters_sereis})"
   ]
  },
  {
   "cell_type": "markdown",
   "id": "e5e72755-44c7-447d-bccf-f6d509c19371",
   "metadata": {},
   "source": [
    "#### From a two-dimensional NumPy array"
   ]
  },
  {
   "cell_type": "code",
   "execution_count": 54,
   "id": "7f85fe62-411c-43c4-a6ac-c8640523e821",
   "metadata": {},
   "outputs": [
    {
     "data": {
      "text/html": [
       "<div>\n",
       "<style scoped>\n",
       "    .dataframe tbody tr th:only-of-type {\n",
       "        vertical-align: middle;\n",
       "    }\n",
       "\n",
       "    .dataframe tbody tr th {\n",
       "        vertical-align: top;\n",
       "    }\n",
       "\n",
       "    .dataframe thead th {\n",
       "        text-align: right;\n",
       "    }\n",
       "</style>\n",
       "<table border=\"1\" class=\"dataframe\">\n",
       "  <thead>\n",
       "    <tr style=\"text-align: right;\">\n",
       "      <th></th>\n",
       "      <th>col0</th>\n",
       "      <th>col1</th>\n",
       "      <th>col2</th>\n",
       "    </tr>\n",
       "  </thead>\n",
       "  <tbody>\n",
       "    <tr>\n",
       "      <th>1st</th>\n",
       "      <td>0.757673</td>\n",
       "      <td>0.127437</td>\n",
       "      <td>0.108955</td>\n",
       "    </tr>\n",
       "    <tr>\n",
       "      <th>2nd</th>\n",
       "      <td>0.488060</td>\n",
       "      <td>0.878232</td>\n",
       "      <td>0.859587</td>\n",
       "    </tr>\n",
       "    <tr>\n",
       "      <th>3rd</th>\n",
       "      <td>0.775225</td>\n",
       "      <td>0.893361</td>\n",
       "      <td>0.454684</td>\n",
       "    </tr>\n",
       "    <tr>\n",
       "      <th>4th</th>\n",
       "      <td>0.395103</td>\n",
       "      <td>0.962049</td>\n",
       "      <td>0.285710</td>\n",
       "    </tr>\n",
       "  </tbody>\n",
       "</table>\n",
       "</div>"
      ],
      "text/plain": [
       "         col0      col1      col2\n",
       "1st  0.757673  0.127437  0.108955\n",
       "2nd  0.488060  0.878232  0.859587\n",
       "3rd  0.775225  0.893361  0.454684\n",
       "4th  0.395103  0.962049  0.285710"
      ]
     },
     "execution_count": 54,
     "metadata": {},
     "output_type": "execute_result"
    }
   ],
   "source": [
    "pd.DataFrame(np.random.rand(4,3), columns=[\"col0\", \"col1\", \"col2\"], index=[\"1st\", \"2nd\", \"3rd\", \"4th\"])"
   ]
  },
  {
   "cell_type": "markdown",
   "id": "bfdf2956-860b-4ff5-a6a5-de14086480d6",
   "metadata": {},
   "source": [
    "#### From a NumPy structured array"
   ]
  },
  {
   "cell_type": "code",
   "execution_count": 56,
   "id": "39aa2376-6c7d-4c2f-86dc-0d959e1994de",
   "metadata": {},
   "outputs": [
    {
     "data": {
      "text/plain": [
       "array([(0, 0.), (0, 0.), (0, 0.)], dtype=[('A', '<i8'), ('B', '<f8')])"
      ]
     },
     "execution_count": 56,
     "metadata": {},
     "output_type": "execute_result"
    }
   ],
   "source": [
    "A = np.zeros(3, dtype=[('A', 'i8'), ('B', 'f8')])\n",
    "A"
   ]
  },
  {
   "cell_type": "code",
   "execution_count": 57,
   "id": "5af8e858-37ea-4c2c-9577-bcf13805bc8c",
   "metadata": {},
   "outputs": [
    {
     "data": {
      "text/html": [
       "<div>\n",
       "<style scoped>\n",
       "    .dataframe tbody tr th:only-of-type {\n",
       "        vertical-align: middle;\n",
       "    }\n",
       "\n",
       "    .dataframe tbody tr th {\n",
       "        vertical-align: top;\n",
       "    }\n",
       "\n",
       "    .dataframe thead th {\n",
       "        text-align: right;\n",
       "    }\n",
       "</style>\n",
       "<table border=\"1\" class=\"dataframe\">\n",
       "  <thead>\n",
       "    <tr style=\"text-align: right;\">\n",
       "      <th></th>\n",
       "      <th>A</th>\n",
       "      <th>B</th>\n",
       "    </tr>\n",
       "  </thead>\n",
       "  <tbody>\n",
       "    <tr>\n",
       "      <th>0</th>\n",
       "      <td>0</td>\n",
       "      <td>0.0</td>\n",
       "    </tr>\n",
       "    <tr>\n",
       "      <th>1</th>\n",
       "      <td>0</td>\n",
       "      <td>0.0</td>\n",
       "    </tr>\n",
       "    <tr>\n",
       "      <th>2</th>\n",
       "      <td>0</td>\n",
       "      <td>0.0</td>\n",
       "    </tr>\n",
       "  </tbody>\n",
       "</table>\n",
       "</div>"
      ],
      "text/plain": [
       "   A    B\n",
       "0  0  0.0\n",
       "1  0  0.0\n",
       "2  0  0.0"
      ]
     },
     "execution_count": 57,
     "metadata": {},
     "output_type": "execute_result"
    }
   ],
   "source": [
    "pd.DataFrame(A)"
   ]
  },
  {
   "cell_type": "markdown",
   "id": "c09c797c-e095-409b-beec-b71f290e7fe6",
   "metadata": {},
   "source": [
    "## The Pandas Index Object"
   ]
  },
  {
   "cell_type": "raw",
   "id": "07a619b1-df22-44a8-bef6-167c6fb12a1b",
   "metadata": {},
   "source": [
    "This Index object is an interesting structure in itself, and it can be thought of either as an immutable array or as an ordered set (technically a multiset, as Index objects may contain repeated values). "
   ]
  },
  {
   "cell_type": "code",
   "execution_count": null,
   "id": "ed0e1649-6e03-463a-8233-e03be51f467a",
   "metadata": {},
   "outputs": [
    {
     "data": {
      "text/plain": [
       "{1, 2, 5}"
      ]
     },
     "execution_count": 61,
     "metadata": {},
     "output_type": "execute_result"
    }
   ],
   "source": [
    "set([1,2,2,5]) # python set is a pure set that does not allow duplicate items"
   ]
  },
  {
   "cell_type": "code",
   "execution_count": null,
   "id": "d4da8cbf-c99e-4f1e-8d1a-d8c9f29dd777",
   "metadata": {},
   "outputs": [
    {
     "data": {
      "text/plain": [
       "Int64Index([2, 3, 5, 5, 7, 11], dtype='int64')"
      ]
     },
     "execution_count": 58,
     "metadata": {},
     "output_type": "execute_result"
    }
   ],
   "source": [
    "ind = pd.Index([2, 3, 5, 5, 7, 11])\n",
    "ind"
   ]
  },
  {
   "cell_type": "markdown",
   "id": "8ef7aaec-f4f7-41fc-be51-5f411ca2acdf",
   "metadata": {},
   "source": [
    "### Index as Immutable Array"
   ]
  },
  {
   "cell_type": "code",
   "execution_count": 63,
   "id": "99f7e0e0-6f38-48e6-b44f-2009202800be",
   "metadata": {},
   "outputs": [
    {
     "data": {
      "text/plain": [
       "3"
      ]
     },
     "execution_count": 63,
     "metadata": {},
     "output_type": "execute_result"
    }
   ],
   "source": [
    "ind[1]"
   ]
  },
  {
   "cell_type": "code",
   "execution_count": 64,
   "id": "2252c216-148c-4629-849d-40ff3fef857f",
   "metadata": {},
   "outputs": [
    {
     "data": {
      "text/plain": [
       "Int64Index([2, 5, 7], dtype='int64')"
      ]
     },
     "execution_count": 64,
     "metadata": {},
     "output_type": "execute_result"
    }
   ],
   "source": [
    "ind[::2]"
   ]
  },
  {
   "cell_type": "code",
   "execution_count": 66,
   "id": "ab8cbfed-e54e-4249-a0a7-1c28b0a37ecf",
   "metadata": {},
   "outputs": [
    {
     "name": "stdout",
     "output_type": "stream",
     "text": [
      "Exception reporting mode: Minimal\n"
     ]
    }
   ],
   "source": [
    "%xmode minimal"
   ]
  },
  {
   "cell_type": "code",
   "execution_count": 67,
   "id": "4458c69b-7828-4c78-b5d6-874c442bda8a",
   "metadata": {},
   "outputs": [
    {
     "ename": "TypeError",
     "evalue": "Index does not support mutable operations",
     "output_type": "error",
     "traceback": [
      "\u001b[0;31mTypeError\u001b[0m\u001b[0;31m:\u001b[0m Index does not support mutable operations\n"
     ]
    }
   ],
   "source": [
    "# One difference between Index objects and NumPy arrays is that the indices are immutable—that is, they cannot be modified via the normal means\n",
    "\n",
    "ind[0] = 9"
   ]
  },
  {
   "cell_type": "code",
   "execution_count": 71,
   "id": "26dc4899-2aac-4794-b869-73c23fbb2342",
   "metadata": {},
   "outputs": [
    {
     "name": "stdout",
     "output_type": "stream",
     "text": [
      "Exception reporting mode: Verbose\n"
     ]
    }
   ],
   "source": [
    "%xmode verbose"
   ]
  },
  {
   "cell_type": "markdown",
   "id": "1521a008-3399-4d24-9197-41a4e2f28c56",
   "metadata": {},
   "source": [
    "### Index as Ordered Set"
   ]
  },
  {
   "cell_type": "code",
   "execution_count": 73,
   "id": "c81e0cd9-f50d-488f-a910-53903cd636e8",
   "metadata": {},
   "outputs": [],
   "source": [
    "indA = pd.Index([1, 3, 5, 7, 9])\n",
    "indB = pd.Index([2, 3, 5, 7, 11])"
   ]
  },
  {
   "cell_type": "code",
   "execution_count": 74,
   "id": "f8880191-e10e-4fc2-a796-fcda3a6f0ba8",
   "metadata": {},
   "outputs": [
    {
     "data": {
      "text/plain": [
       "Int64Index([3, 5, 7], dtype='int64')"
      ]
     },
     "execution_count": 74,
     "metadata": {},
     "output_type": "execute_result"
    }
   ],
   "source": [
    "indA.intersection(indB)"
   ]
  },
  {
   "cell_type": "code",
   "execution_count": 75,
   "id": "6d1dd038-d4ab-43d4-bfe9-8b644008f32f",
   "metadata": {},
   "outputs": [
    {
     "data": {
      "text/plain": [
       "Int64Index([1, 2, 3, 5, 7, 9, 11], dtype='int64')"
      ]
     },
     "execution_count": 75,
     "metadata": {},
     "output_type": "execute_result"
    }
   ],
   "source": [
    "indA.union(indB)"
   ]
  },
  {
   "cell_type": "code",
   "execution_count": 76,
   "id": "a9ca8a8f-0548-493a-8159-e2c0cd184c20",
   "metadata": {},
   "outputs": [
    {
     "data": {
      "text/plain": [
       "Int64Index([1, 2, 9, 11], dtype='int64')"
      ]
     },
     "execution_count": 76,
     "metadata": {},
     "output_type": "execute_result"
    }
   ],
   "source": [
    "indA.symmetric_difference(indB)"
   ]
  },
  {
   "cell_type": "code",
   "execution_count": 78,
   "id": "2596d8a1-376c-4696-ac1d-07d659cce3eb",
   "metadata": {},
   "outputs": [
    {
     "data": {
      "text/plain": [
       "Int64Index([1, 2, 9, 11], dtype='int64')"
      ]
     },
     "execution_count": 78,
     "metadata": {},
     "output_type": "execute_result"
    }
   ],
   "source": [
    "indB.symmetric_difference(indA)"
   ]
  },
  {
   "cell_type": "code",
   "execution_count": 77,
   "id": "f7d10c44-8ced-491b-926e-0b2f80b358b8",
   "metadata": {},
   "outputs": [
    {
     "data": {
      "text/plain": [
       "Int64Index([1, 9], dtype='int64')"
      ]
     },
     "execution_count": 77,
     "metadata": {},
     "output_type": "execute_result"
    }
   ],
   "source": [
    "indA.difference(indB)"
   ]
  },
  {
   "cell_type": "code",
   "execution_count": 79,
   "id": "02730ce4-15b2-486e-b018-4ae40c0aa1c5",
   "metadata": {},
   "outputs": [
    {
     "data": {
      "text/plain": [
       "Int64Index([2, 11], dtype='int64')"
      ]
     },
     "execution_count": 79,
     "metadata": {},
     "output_type": "execute_result"
    }
   ],
   "source": [
    "indB.difference(indA)"
   ]
  },
  {
   "cell_type": "code",
   "execution_count": null,
   "id": "8196817f-ebe8-4abf-9edd-e6402d694ff9",
   "metadata": {},
   "outputs": [],
   "source": []
  }
 ],
 "metadata": {
  "kernelspec": {
   "display_name": "Python 3 (ipykernel)",
   "language": "python",
   "name": "python3"
  },
  "language_info": {
   "codemirror_mode": {
    "name": "ipython",
    "version": 3
   },
   "file_extension": ".py",
   "mimetype": "text/x-python",
   "name": "python",
   "nbconvert_exporter": "python",
   "pygments_lexer": "ipython3",
   "version": "3.9.13"
  }
 },
 "nbformat": 4,
 "nbformat_minor": 5
}
