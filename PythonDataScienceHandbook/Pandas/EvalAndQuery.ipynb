{
 "cells": [
  {
   "cell_type": "markdown",
   "id": "68bf1f38-63c0-4a50-b0ce-797fdfb98039",
   "metadata": {},
   "source": [
    "# High-Performance Pandas: eval and query"
   ]
  },
  {
   "cell_type": "code",
   "execution_count": 1,
   "id": "592b0772-299b-46a8-ba24-974ec63c32b5",
   "metadata": {},
   "outputs": [],
   "source": [
    "import numpy as np\n",
    "import pandas as pd"
   ]
  },
  {
   "cell_type": "markdown",
   "id": "5c43fa3c-8e40-4b01-b9b9-3349468e579f",
   "metadata": {},
   "source": [
    "## pandas.eval for Efficient Operations"
   ]
  },
  {
   "cell_type": "code",
   "execution_count": 2,
   "id": "e40a0710-183d-470b-8692-5677001b0852",
   "metadata": {},
   "outputs": [],
   "source": [
    "rng = np.random.default_rng(42)"
   ]
  },
  {
   "cell_type": "code",
   "execution_count": 7,
   "id": "d5ba56c8-6090-458d-8651-daa3878f33d4",
   "metadata": {},
   "outputs": [],
   "source": [
    "rows, cols = 1000000, 100\n",
    "df1, df2, df3, df4 = (pd.DataFrame(rng.random((rows, cols))) for i in range(4))"
   ]
  },
  {
   "cell_type": "code",
   "execution_count": 9,
   "id": "3e23a11a-fcc5-41be-aa5a-84042db4b9c8",
   "metadata": {},
   "outputs": [
    {
     "name": "stdout",
     "output_type": "stream",
     "text": [
      "933 ms ± 13.6 ms per loop (mean ± std. dev. of 7 runs, 1 loop each)\n"
     ]
    }
   ],
   "source": [
    "%timeit df1 + df2 + df3 + df4"
   ]
  },
  {
   "cell_type": "code",
   "execution_count": 11,
   "id": "5cc4acf8-c298-48f9-b6ad-8b0ca0583ea5",
   "metadata": {},
   "outputs": [
    {
     "name": "stdout",
     "output_type": "stream",
     "text": [
      "402 ms ± 12.4 ms per loop (mean ± std. dev. of 7 runs, 1 loop each)\n"
     ]
    }
   ],
   "source": [
    "%timeit pd.eval('df1 + df2 + df3 + df4')"
   ]
  },
  {
   "cell_type": "code",
   "execution_count": 13,
   "id": "2f4d0532-d2d8-4439-9c52-d20af8f8d212",
   "metadata": {},
   "outputs": [
    {
     "data": {
      "text/plain": [
       "True"
      ]
     },
     "execution_count": 13,
     "metadata": {},
     "output_type": "execute_result"
    }
   ],
   "source": [
    "np.allclose(df1 + df2 + df3 + df4, pd.eval('df1 + df2 + df3 + df4'))"
   ]
  },
  {
   "cell_type": "code",
   "execution_count": 14,
   "id": "1129beec-ba6c-4da2-9304-2ea44ceb59fa",
   "metadata": {},
   "outputs": [],
   "source": [
    "df1, df2, df3, df4, df5 = (pd.DataFrame(rng.integers(0, 1000, (100, 3))) for i in range(5))"
   ]
  },
  {
   "cell_type": "markdown",
   "id": "aa6a1dac-16bf-431f-8a9a-ce48dab8300c",
   "metadata": {},
   "source": [
    "__Here’s a summary of the operations pd.eval supports__"
   ]
  },
  {
   "cell_type": "markdown",
   "id": "4c1332e0-ec8e-4c23-b486-55ceba939530",
   "metadata": {},
   "source": [
    "*Arithmetic operators*"
   ]
  },
  {
   "cell_type": "code",
   "execution_count": 16,
   "id": "2f970ecd-e93b-4185-a8f8-d0bd393b4b18",
   "metadata": {},
   "outputs": [
    {
     "data": {
      "text/plain": [
       "True"
      ]
     },
     "execution_count": 16,
     "metadata": {},
     "output_type": "execute_result"
    }
   ],
   "source": [
    "result1 = -df1 * df2 / (df3 + df4) - df5\n",
    "result2 = pd.eval('-df1 * df2 / (df3 + df4) - df5')\n",
    "np.allclose(result1, result2)"
   ]
  },
  {
   "cell_type": "markdown",
   "id": "64e0e860-4cc1-48db-a1ea-ac79de3e08bb",
   "metadata": {},
   "source": [
    "*Comparison operators*"
   ]
  },
  {
   "cell_type": "code",
   "execution_count": 17,
   "id": "3895f6eb-681f-4700-8567-4c20f09043e5",
   "metadata": {},
   "outputs": [
    {
     "data": {
      "text/plain": [
       "True"
      ]
     },
     "execution_count": 17,
     "metadata": {},
     "output_type": "execute_result"
    }
   ],
   "source": [
    "result1 = (df1 < df2) & (df2 <= df3) & (df3 != df4)\n",
    "result2 = pd.eval('df1 < df2 <= df3 != df4')\n",
    "np.allclose(result1, result2)"
   ]
  },
  {
   "cell_type": "markdown",
   "id": "afb620a4-2fd0-4e7f-9b6e-a0722da78fe7",
   "metadata": {},
   "source": [
    "*Bitwise operators*"
   ]
  },
  {
   "cell_type": "code",
   "execution_count": 18,
   "id": "584d2389-52a5-4363-a2d5-1a2142934027",
   "metadata": {},
   "outputs": [
    {
     "data": {
      "text/plain": [
       "True"
      ]
     },
     "execution_count": 18,
     "metadata": {},
     "output_type": "execute_result"
    }
   ],
   "source": [
    "result1 = (df1 < 0.5) & (df2 < 0.5) | (df3 < df4)\n",
    "result2 = pd.eval('(df1 < 0.5) & (df2 < 0.5) | (df3 < df4)')\n",
    "np.allclose(result1, result2)"
   ]
  },
  {
   "cell_type": "code",
   "execution_count": 22,
   "id": "ba113120-dae3-4f80-be05-4339adc7525a",
   "metadata": {},
   "outputs": [
    {
     "data": {
      "text/plain": [
       "True"
      ]
     },
     "execution_count": 22,
     "metadata": {},
     "output_type": "execute_result"
    }
   ],
   "source": [
    "result3 = pd.eval('(df1 < 0.5) and (df2 < 0.5) or (df3 < df4)')\n",
    "np.allclose(result1, result3)"
   ]
  },
  {
   "cell_type": "markdown",
   "id": "660fa6fe-df79-43f5-bad5-aee765848137",
   "metadata": {},
   "source": [
    "*Object attributes and indices*"
   ]
  },
  {
   "cell_type": "code",
   "execution_count": 23,
   "id": "552c6568-18e5-4f2e-9a17-6e4e6ae7e9ea",
   "metadata": {},
   "outputs": [
    {
     "data": {
      "text/plain": [
       "True"
      ]
     },
     "execution_count": 23,
     "metadata": {},
     "output_type": "execute_result"
    }
   ],
   "source": [
    "result1 = df2.T[0] + df3.iloc[1]\n",
    "result2 = pd.eval('df2.T[0] + df3.iloc[1]')\n",
    "np.allclose(result1, result2)"
   ]
  },
  {
   "cell_type": "markdown",
   "id": "98077308-9aa4-4cfd-bfee-739b1a06fed5",
   "metadata": {},
   "source": [
    "## DataFrame.eval for Column-Wise Operations"
   ]
  },
  {
   "cell_type": "code",
   "execution_count": 28,
   "id": "b529098b-ea9d-4d6d-9104-bc2f923394d7",
   "metadata": {},
   "outputs": [
    {
     "data": {
      "text/html": [
       "<div>\n",
       "<style scoped>\n",
       "    .dataframe tbody tr th:only-of-type {\n",
       "        vertical-align: middle;\n",
       "    }\n",
       "\n",
       "    .dataframe tbody tr th {\n",
       "        vertical-align: top;\n",
       "    }\n",
       "\n",
       "    .dataframe thead th {\n",
       "        text-align: right;\n",
       "    }\n",
       "</style>\n",
       "<table border=\"1\" class=\"dataframe\">\n",
       "  <thead>\n",
       "    <tr style=\"text-align: right;\">\n",
       "      <th></th>\n",
       "      <th>A</th>\n",
       "      <th>B</th>\n",
       "      <th>C</th>\n",
       "    </tr>\n",
       "  </thead>\n",
       "  <tbody>\n",
       "    <tr>\n",
       "      <th>0</th>\n",
       "      <td>0.139519</td>\n",
       "      <td>0.651117</td>\n",
       "      <td>0.708733</td>\n",
       "    </tr>\n",
       "    <tr>\n",
       "      <th>1</th>\n",
       "      <td>0.905253</td>\n",
       "      <td>0.457656</td>\n",
       "      <td>0.143186</td>\n",
       "    </tr>\n",
       "    <tr>\n",
       "      <th>2</th>\n",
       "      <td>0.461750</td>\n",
       "      <td>0.248981</td>\n",
       "      <td>0.440648</td>\n",
       "    </tr>\n",
       "    <tr>\n",
       "      <th>3</th>\n",
       "      <td>0.206901</td>\n",
       "      <td>0.404336</td>\n",
       "      <td>0.767170</td>\n",
       "    </tr>\n",
       "    <tr>\n",
       "      <th>4</th>\n",
       "      <td>0.727380</td>\n",
       "      <td>0.640151</td>\n",
       "      <td>0.707613</td>\n",
       "    </tr>\n",
       "  </tbody>\n",
       "</table>\n",
       "</div>"
      ],
      "text/plain": [
       "          A         B         C\n",
       "0  0.139519  0.651117  0.708733\n",
       "1  0.905253  0.457656  0.143186\n",
       "2  0.461750  0.248981  0.440648\n",
       "3  0.206901  0.404336  0.767170\n",
       "4  0.727380  0.640151  0.707613"
      ]
     },
     "execution_count": 28,
     "metadata": {},
     "output_type": "execute_result"
    }
   ],
   "source": [
    "df = pd.DataFrame(rng.random((1000, 3)), columns=['A', 'B', 'C'])\n",
    "df.head()"
   ]
  },
  {
   "cell_type": "code",
   "execution_count": 29,
   "id": "5cd9e21c-9002-4871-a8d8-b21b640af4f5",
   "metadata": {},
   "outputs": [
    {
     "data": {
      "text/plain": [
       "True"
      ]
     },
     "execution_count": 29,
     "metadata": {},
     "output_type": "execute_result"
    }
   ],
   "source": [
    "result1 = (df['A'] + df['B']) / (df['C'] - 1)\n",
    "result2 = pd.eval(\"(df.A + df.B) / (df.C - 1)\")\n",
    "np.allclose(result1, result2)"
   ]
  },
  {
   "cell_type": "code",
   "execution_count": 30,
   "id": "4bd4b541-420f-4592-8242-a3cddf7723d0",
   "metadata": {},
   "outputs": [
    {
     "data": {
      "text/plain": [
       "True"
      ]
     },
     "execution_count": 30,
     "metadata": {},
     "output_type": "execute_result"
    }
   ],
   "source": [
    "result3 = df.eval('(A + B) / (C - 1)')\n",
    "np.allclose(result1, result3)"
   ]
  },
  {
   "cell_type": "markdown",
   "id": "f7c3b595-7bd3-4ac8-b45a-f518dc9fc2b9",
   "metadata": {},
   "source": [
    "### Assignment in DataFrame.eval"
   ]
  },
  {
   "cell_type": "code",
   "execution_count": 31,
   "id": "c892dae6-cf72-496d-850e-930d4c73ca11",
   "metadata": {},
   "outputs": [
    {
     "data": {
      "text/html": [
       "<div>\n",
       "<style scoped>\n",
       "    .dataframe tbody tr th:only-of-type {\n",
       "        vertical-align: middle;\n",
       "    }\n",
       "\n",
       "    .dataframe tbody tr th {\n",
       "        vertical-align: top;\n",
       "    }\n",
       "\n",
       "    .dataframe thead th {\n",
       "        text-align: right;\n",
       "    }\n",
       "</style>\n",
       "<table border=\"1\" class=\"dataframe\">\n",
       "  <thead>\n",
       "    <tr style=\"text-align: right;\">\n",
       "      <th></th>\n",
       "      <th>A</th>\n",
       "      <th>B</th>\n",
       "      <th>C</th>\n",
       "    </tr>\n",
       "  </thead>\n",
       "  <tbody>\n",
       "    <tr>\n",
       "      <th>0</th>\n",
       "      <td>0.139519</td>\n",
       "      <td>0.651117</td>\n",
       "      <td>0.708733</td>\n",
       "    </tr>\n",
       "    <tr>\n",
       "      <th>1</th>\n",
       "      <td>0.905253</td>\n",
       "      <td>0.457656</td>\n",
       "      <td>0.143186</td>\n",
       "    </tr>\n",
       "    <tr>\n",
       "      <th>2</th>\n",
       "      <td>0.461750</td>\n",
       "      <td>0.248981</td>\n",
       "      <td>0.440648</td>\n",
       "    </tr>\n",
       "    <tr>\n",
       "      <th>3</th>\n",
       "      <td>0.206901</td>\n",
       "      <td>0.404336</td>\n",
       "      <td>0.767170</td>\n",
       "    </tr>\n",
       "    <tr>\n",
       "      <th>4</th>\n",
       "      <td>0.727380</td>\n",
       "      <td>0.640151</td>\n",
       "      <td>0.707613</td>\n",
       "    </tr>\n",
       "  </tbody>\n",
       "</table>\n",
       "</div>"
      ],
      "text/plain": [
       "          A         B         C\n",
       "0  0.139519  0.651117  0.708733\n",
       "1  0.905253  0.457656  0.143186\n",
       "2  0.461750  0.248981  0.440648\n",
       "3  0.206901  0.404336  0.767170\n",
       "4  0.727380  0.640151  0.707613"
      ]
     },
     "execution_count": 31,
     "metadata": {},
     "output_type": "execute_result"
    }
   ],
   "source": [
    "df.head()"
   ]
  },
  {
   "cell_type": "code",
   "execution_count": 32,
   "id": "6b0b7759-4bc6-4c26-94f0-5fdc525ba7f7",
   "metadata": {},
   "outputs": [],
   "source": [
    "df.eval('D = (A + B) / C', inplace=True)"
   ]
  },
  {
   "cell_type": "code",
   "execution_count": 33,
   "id": "993c6f6d-6807-494a-9cd7-9463bff0a0ec",
   "metadata": {},
   "outputs": [
    {
     "data": {
      "text/html": [
       "<div>\n",
       "<style scoped>\n",
       "    .dataframe tbody tr th:only-of-type {\n",
       "        vertical-align: middle;\n",
       "    }\n",
       "\n",
       "    .dataframe tbody tr th {\n",
       "        vertical-align: top;\n",
       "    }\n",
       "\n",
       "    .dataframe thead th {\n",
       "        text-align: right;\n",
       "    }\n",
       "</style>\n",
       "<table border=\"1\" class=\"dataframe\">\n",
       "  <thead>\n",
       "    <tr style=\"text-align: right;\">\n",
       "      <th></th>\n",
       "      <th>A</th>\n",
       "      <th>B</th>\n",
       "      <th>C</th>\n",
       "      <th>D</th>\n",
       "    </tr>\n",
       "  </thead>\n",
       "  <tbody>\n",
       "    <tr>\n",
       "      <th>0</th>\n",
       "      <td>0.139519</td>\n",
       "      <td>0.651117</td>\n",
       "      <td>0.708733</td>\n",
       "      <td>1.115562</td>\n",
       "    </tr>\n",
       "    <tr>\n",
       "      <th>1</th>\n",
       "      <td>0.905253</td>\n",
       "      <td>0.457656</td>\n",
       "      <td>0.143186</td>\n",
       "      <td>9.518480</td>\n",
       "    </tr>\n",
       "    <tr>\n",
       "      <th>2</th>\n",
       "      <td>0.461750</td>\n",
       "      <td>0.248981</td>\n",
       "      <td>0.440648</td>\n",
       "      <td>1.612923</td>\n",
       "    </tr>\n",
       "    <tr>\n",
       "      <th>3</th>\n",
       "      <td>0.206901</td>\n",
       "      <td>0.404336</td>\n",
       "      <td>0.767170</td>\n",
       "      <td>0.796742</td>\n",
       "    </tr>\n",
       "    <tr>\n",
       "      <th>4</th>\n",
       "      <td>0.727380</td>\n",
       "      <td>0.640151</td>\n",
       "      <td>0.707613</td>\n",
       "      <td>1.932597</td>\n",
       "    </tr>\n",
       "  </tbody>\n",
       "</table>\n",
       "</div>"
      ],
      "text/plain": [
       "          A         B         C         D\n",
       "0  0.139519  0.651117  0.708733  1.115562\n",
       "1  0.905253  0.457656  0.143186  9.518480\n",
       "2  0.461750  0.248981  0.440648  1.612923\n",
       "3  0.206901  0.404336  0.767170  0.796742\n",
       "4  0.727380  0.640151  0.707613  1.932597"
      ]
     },
     "execution_count": 33,
     "metadata": {},
     "output_type": "execute_result"
    }
   ],
   "source": [
    "df.head()"
   ]
  },
  {
   "cell_type": "code",
   "execution_count": 34,
   "id": "53d1b9c2-3401-4c7f-b6ae-8fbacc9a306a",
   "metadata": {},
   "outputs": [
    {
     "data": {
      "text/html": [
       "<div>\n",
       "<style scoped>\n",
       "    .dataframe tbody tr th:only-of-type {\n",
       "        vertical-align: middle;\n",
       "    }\n",
       "\n",
       "    .dataframe tbody tr th {\n",
       "        vertical-align: top;\n",
       "    }\n",
       "\n",
       "    .dataframe thead th {\n",
       "        text-align: right;\n",
       "    }\n",
       "</style>\n",
       "<table border=\"1\" class=\"dataframe\">\n",
       "  <thead>\n",
       "    <tr style=\"text-align: right;\">\n",
       "      <th></th>\n",
       "      <th>A</th>\n",
       "      <th>B</th>\n",
       "      <th>C</th>\n",
       "      <th>D</th>\n",
       "    </tr>\n",
       "  </thead>\n",
       "  <tbody>\n",
       "    <tr>\n",
       "      <th>0</th>\n",
       "      <td>0.139519</td>\n",
       "      <td>0.651117</td>\n",
       "      <td>0.708733</td>\n",
       "      <td>-0.721849</td>\n",
       "    </tr>\n",
       "    <tr>\n",
       "      <th>1</th>\n",
       "      <td>0.905253</td>\n",
       "      <td>0.457656</td>\n",
       "      <td>0.143186</td>\n",
       "      <td>3.125987</td>\n",
       "    </tr>\n",
       "    <tr>\n",
       "      <th>2</th>\n",
       "      <td>0.461750</td>\n",
       "      <td>0.248981</td>\n",
       "      <td>0.440648</td>\n",
       "      <td>0.482854</td>\n",
       "    </tr>\n",
       "    <tr>\n",
       "      <th>3</th>\n",
       "      <td>0.206901</td>\n",
       "      <td>0.404336</td>\n",
       "      <td>0.767170</td>\n",
       "      <td>-0.257355</td>\n",
       "    </tr>\n",
       "    <tr>\n",
       "      <th>4</th>\n",
       "      <td>0.727380</td>\n",
       "      <td>0.640151</td>\n",
       "      <td>0.707613</td>\n",
       "      <td>0.123272</td>\n",
       "    </tr>\n",
       "  </tbody>\n",
       "</table>\n",
       "</div>"
      ],
      "text/plain": [
       "          A         B         C         D\n",
       "0  0.139519  0.651117  0.708733 -0.721849\n",
       "1  0.905253  0.457656  0.143186  3.125987\n",
       "2  0.461750  0.248981  0.440648  0.482854\n",
       "3  0.206901  0.404336  0.767170 -0.257355\n",
       "4  0.727380  0.640151  0.707613  0.123272"
      ]
     },
     "execution_count": 34,
     "metadata": {},
     "output_type": "execute_result"
    }
   ],
   "source": [
    "df.eval('D = (A - B) / C', inplace=True)\n",
    "df.head()"
   ]
  },
  {
   "cell_type": "markdown",
   "id": "89f82fc1-8ea8-4d7a-9886-4f51eb9f4942",
   "metadata": {},
   "source": [
    "### Local Variables in DataFrame.eval"
   ]
  },
  {
   "cell_type": "code",
   "execution_count": 35,
   "id": "c88d4743-dab0-463d-95b2-3c717a847c42",
   "metadata": {},
   "outputs": [
    {
     "data": {
      "text/plain": [
       "True"
      ]
     },
     "execution_count": 35,
     "metadata": {},
     "output_type": "execute_result"
    }
   ],
   "source": [
    "column_mean = df.mean(1)\n",
    "result1 = df['A'] + column_mean\n",
    "result2 = df.eval('A + @column_mean')\n",
    "np.allclose(result1, result2)"
   ]
  },
  {
   "cell_type": "markdown",
   "id": "aafa0329-4acc-4788-9880-5c5566790cbf",
   "metadata": {},
   "source": [
    "## The DataFrame.query Method"
   ]
  },
  {
   "cell_type": "code",
   "execution_count": 36,
   "id": "6bf11433-e9e1-493d-a31f-40213484ffc3",
   "metadata": {},
   "outputs": [
    {
     "data": {
      "text/plain": [
       "True"
      ]
     },
     "execution_count": 36,
     "metadata": {},
     "output_type": "execute_result"
    }
   ],
   "source": [
    "result1 = df[(df.A < 0.5) & (df.B < 0.5)]\n",
    "result2 = pd.eval('df[(df.A < 0.5) & (df.B < 0.5)]')\n",
    "np.allclose(result1, result2)"
   ]
  },
  {
   "cell_type": "code",
   "execution_count": 40,
   "id": "c7083593-a0ff-47cf-b984-21c4515d6a5a",
   "metadata": {},
   "outputs": [
    {
     "data": {
      "text/plain": [
       "True"
      ]
     },
     "execution_count": 40,
     "metadata": {},
     "output_type": "execute_result"
    }
   ],
   "source": [
    "result2 = df.query('(A < 0.5) & (B < 0.5)')\n",
    "result3 = df.query('A < 0.5 and B < 0.5')\n",
    "np.allclose(result1, result2)"
   ]
  },
  {
   "cell_type": "code",
   "execution_count": 41,
   "id": "2e4a053c-1dd7-485f-8561-dbff73d3e0ac",
   "metadata": {},
   "outputs": [
    {
     "data": {
      "text/plain": [
       "True"
      ]
     },
     "execution_count": 41,
     "metadata": {},
     "output_type": "execute_result"
    }
   ],
   "source": [
    "np.allclose(result1, result3)"
   ]
  },
  {
   "cell_type": "code",
   "execution_count": 42,
   "id": "fbf1db84-6677-4003-9991-b09ac908c5c4",
   "metadata": {},
   "outputs": [
    {
     "data": {
      "text/plain": [
       "True"
      ]
     },
     "execution_count": 42,
     "metadata": {},
     "output_type": "execute_result"
    }
   ],
   "source": [
    "Cmean = df['C'].mean()\n",
    "result1 = df[(df.A < Cmean) & (df.B < Cmean)]\n",
    "result2 = df.query('A < @Cmean and B < @Cmean')\n",
    "np.allclose(result1, result2)"
   ]
  },
  {
   "cell_type": "markdown",
   "id": "7eaf380d-6bd7-43e8-8c87-26858d0684df",
   "metadata": {},
   "source": [
    "## Performance: When to Use These Functions"
   ]
  },
  {
   "cell_type": "code",
   "execution_count": 43,
   "id": "cc35a63a-f96c-4679-9df9-0133533d8f7b",
   "metadata": {},
   "outputs": [
    {
     "data": {
      "text/plain": [
       "32000"
      ]
     },
     "execution_count": 43,
     "metadata": {},
     "output_type": "execute_result"
    }
   ],
   "source": [
    "df.values.nbytes"
   ]
  },
  {
   "cell_type": "code",
   "execution_count": null,
   "id": "30f66386-7aa6-4363-8e43-dfc3a7931553",
   "metadata": {},
   "outputs": [],
   "source": []
  }
 ],
 "metadata": {
  "kernelspec": {
   "display_name": "Python 3 (ipykernel)",
   "language": "python",
   "name": "python3"
  },
  "language_info": {
   "codemirror_mode": {
    "name": "ipython",
    "version": 3
   },
   "file_extension": ".py",
   "mimetype": "text/x-python",
   "name": "python",
   "nbconvert_exporter": "python",
   "pygments_lexer": "ipython3",
   "version": "3.10.9"
  }
 },
 "nbformat": 4,
 "nbformat_minor": 5
}
