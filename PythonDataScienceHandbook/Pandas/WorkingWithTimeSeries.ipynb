{
 "cells": [
  {
   "cell_type": "markdown",
   "id": "e326f51f-2a28-4926-a21f-aba1d37bb98d",
   "metadata": {},
   "source": [
    "# Working with Time Series"
   ]
  },
  {
   "cell_type": "code",
   "execution_count": null,
   "id": "1e995f7c-f4ea-470d-8b7e-3d028bc9c645",
   "metadata": {},
   "outputs": [],
   "source": []
  }
 ],
 "metadata": {
  "kernelspec": {
   "display_name": "Python 3 (ipykernel)",
   "language": "python",
   "name": "python3"
  },
  "language_info": {
   "codemirror_mode": {
    "name": "ipython",
    "version": 3
   },
   "file_extension": ".py",
   "mimetype": "text/x-python",
   "name": "python",
   "nbconvert_exporter": "python",
   "pygments_lexer": "ipython3",
   "version": "3.9.13"
  }
 },
 "nbformat": 4,
 "nbformat_minor": 5
}
